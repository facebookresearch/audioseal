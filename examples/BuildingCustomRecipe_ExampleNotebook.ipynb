{
  "nbformat": 4,
  "nbformat_minor": 0,
  "metadata": {
    "colab": {
      "provenance": [],
      "machine_shape": "hm",
      "gpuType": "T4"
    },
    "kernelspec": {
      "name": "python3",
      "display_name": "Python 3"
    },
    "language_info": {
      "name": "python"
    },
    "accelerator": "GPU"
  },
  "cells": [
    {
      "cell_type": "markdown",
      "source": [
        "# Training a New AudioSeal Watermarking Model Using AudioCraft and Dora 🚀🎶"
      ],
      "metadata": {
        "id": "dCPqofmDyIjj"
      }
    },
    {
      "cell_type": "markdown",
      "source": [
        "This notebook demonstrates how to train a new AudioSeal model using AudioCraft and Dora. The training pipeline was developed using AudioCraft (version 0.1.4 and later). We use the Librispeech dataset for this example, and the training involves preparing the dataset, setting up configurations, running a training job using Dora, and finally evaluating the trained model.\n"
      ],
      "metadata": {
        "id": "h2kAdMcv2Unt"
      }
    },
    {
      "cell_type": "markdown",
      "source": [
        "### Step-by-Step Guide to Training a New Watermarking Model 📝\n",
        "\n",
        "## Step 1: Install Dependencies and Set Up Environment ⚙️"
      ],
      "metadata": {
        "id": "Qk6836to2cyR"
      }
    },
    {
      "cell_type": "markdown",
      "source": [
        "First, we need to install all required dependencies for AudioCraft and AudioSeal.\n",
        "\n",
        "- **Torch and Torchaudio** are necessary for working with audio data and training models.\n",
        "- **Hydra-core** is used for managing configurations.\n",
        "- **Dora** is a tool used for training management, specifically for defining and running grid-based experiments.\n",
        "- **Flashy** is required by AudioCraft for various utility functions."
      ],
      "metadata": {
        "id": "PbRAQsdI2eXC"
      }
    },
    {
      "cell_type": "code",
      "execution_count": 1,
      "metadata": {
        "colab": {
          "base_uri": "https://localhost:8080/"
        },
        "collapsed": true,
        "id": "DUuOD4mHeafV",
        "outputId": "fded43a1-68ab-4d78-a676-0b18e1cf41fe"
      },
      "outputs": [
        {
          "output_type": "stream",
          "name": "stdout",
          "text": [
            "Collecting torch==2.1.0\n",
            "  Downloading torch-2.1.0-cp310-cp310-manylinux1_x86_64.whl.metadata (25 kB)\n",
            "Collecting torchaudio==2.1.0\n",
            "  Downloading torchaudio-2.1.0-cp310-cp310-manylinux1_x86_64.whl.metadata (5.7 kB)\n",
            "Collecting hydra-core\n",
            "  Downloading hydra_core-1.3.2-py3-none-any.whl.metadata (5.5 kB)\n",
            "Collecting dora\n",
            "  Downloading Dora-0.0.3.tar.gz (4.9 kB)\n",
            "  Preparing metadata (setup.py) ... \u001b[?25l\u001b[?25hdone\n",
            "Collecting flashy\n",
            "  Downloading flashy-0.0.2.tar.gz (72 kB)\n",
            "\u001b[2K     \u001b[90m━━━━━━━━━━━━━━━━━━━━━━━━━━━━━━━━━━━━━━━━\u001b[0m \u001b[32m72.4/72.4 kB\u001b[0m \u001b[31m5.9 MB/s\u001b[0m eta \u001b[36m0:00:00\u001b[0m\n",
            "\u001b[?25h  Installing build dependencies ... \u001b[?25l\u001b[?25hdone\n",
            "  Getting requirements to build wheel ... \u001b[?25l\u001b[?25hdone\n",
            "  Preparing metadata (pyproject.toml) ... \u001b[?25l\u001b[?25hdone\n",
            "Collecting ipdb\n",
            "  Downloading ipdb-0.13.13-py3-none-any.whl.metadata (14 kB)\n",
            "Requirement already satisfied: filelock in /usr/local/lib/python3.10/dist-packages (from torch==2.1.0) (3.16.1)\n",
            "Requirement already satisfied: typing-extensions in /usr/local/lib/python3.10/dist-packages (from torch==2.1.0) (4.12.2)\n",
            "Requirement already satisfied: sympy in /usr/local/lib/python3.10/dist-packages (from torch==2.1.0) (1.13.1)\n",
            "Requirement already satisfied: networkx in /usr/local/lib/python3.10/dist-packages (from torch==2.1.0) (3.4.2)\n",
            "Requirement already satisfied: jinja2 in /usr/local/lib/python3.10/dist-packages (from torch==2.1.0) (3.1.4)\n",
            "Requirement already satisfied: fsspec in /usr/local/lib/python3.10/dist-packages (from torch==2.1.0) (2024.10.0)\n",
            "Collecting nvidia-cuda-nvrtc-cu12==12.1.105 (from torch==2.1.0)\n",
            "  Downloading nvidia_cuda_nvrtc_cu12-12.1.105-py3-none-manylinux1_x86_64.whl.metadata (1.5 kB)\n",
            "Collecting nvidia-cuda-runtime-cu12==12.1.105 (from torch==2.1.0)\n",
            "  Downloading nvidia_cuda_runtime_cu12-12.1.105-py3-none-manylinux1_x86_64.whl.metadata (1.5 kB)\n",
            "Collecting nvidia-cuda-cupti-cu12==12.1.105 (from torch==2.1.0)\n",
            "  Downloading nvidia_cuda_cupti_cu12-12.1.105-py3-none-manylinux1_x86_64.whl.metadata (1.6 kB)\n",
            "Collecting nvidia-cudnn-cu12==8.9.2.26 (from torch==2.1.0)\n",
            "  Downloading nvidia_cudnn_cu12-8.9.2.26-py3-none-manylinux1_x86_64.whl.metadata (1.6 kB)\n",
            "Collecting nvidia-cublas-cu12==12.1.3.1 (from torch==2.1.0)\n",
            "  Downloading nvidia_cublas_cu12-12.1.3.1-py3-none-manylinux1_x86_64.whl.metadata (1.5 kB)\n",
            "Collecting nvidia-cufft-cu12==11.0.2.54 (from torch==2.1.0)\n",
            "  Downloading nvidia_cufft_cu12-11.0.2.54-py3-none-manylinux1_x86_64.whl.metadata (1.5 kB)\n",
            "Collecting nvidia-curand-cu12==10.3.2.106 (from torch==2.1.0)\n",
            "  Downloading nvidia_curand_cu12-10.3.2.106-py3-none-manylinux1_x86_64.whl.metadata (1.5 kB)\n",
            "Collecting nvidia-cusolver-cu12==11.4.5.107 (from torch==2.1.0)\n",
            "  Downloading nvidia_cusolver_cu12-11.4.5.107-py3-none-manylinux1_x86_64.whl.metadata (1.6 kB)\n",
            "Collecting nvidia-cusparse-cu12==12.1.0.106 (from torch==2.1.0)\n",
            "  Downloading nvidia_cusparse_cu12-12.1.0.106-py3-none-manylinux1_x86_64.whl.metadata (1.6 kB)\n",
            "Collecting nvidia-nccl-cu12==2.18.1 (from torch==2.1.0)\n",
            "  Downloading nvidia_nccl_cu12-2.18.1-py3-none-manylinux1_x86_64.whl.metadata (1.8 kB)\n",
            "Collecting nvidia-nvtx-cu12==12.1.105 (from torch==2.1.0)\n",
            "  Downloading nvidia_nvtx_cu12-12.1.105-py3-none-manylinux1_x86_64.whl.metadata (1.7 kB)\n",
            "Collecting triton==2.1.0 (from torch==2.1.0)\n",
            "  Downloading triton-2.1.0-0-cp310-cp310-manylinux2014_x86_64.manylinux_2_17_x86_64.whl.metadata (1.3 kB)\n",
            "Requirement already satisfied: nvidia-nvjitlink-cu12 in /usr/local/lib/python3.10/dist-packages (from nvidia-cusolver-cu12==11.4.5.107->torch==2.1.0) (12.6.77)\n",
            "Collecting omegaconf<2.4,>=2.2 (from hydra-core)\n",
            "  Downloading omegaconf-2.3.0-py3-none-any.whl.metadata (3.9 kB)\n",
            "Collecting antlr4-python3-runtime==4.9.* (from hydra-core)\n",
            "  Downloading antlr4-python3-runtime-4.9.3.tar.gz (117 kB)\n",
            "\u001b[2K     \u001b[90m━━━━━━━━━━━━━━━━━━━━━━━━━━━━━━━━━━━━━━━━\u001b[0m \u001b[32m117.0/117.0 kB\u001b[0m \u001b[31m10.9 MB/s\u001b[0m eta \u001b[36m0:00:00\u001b[0m\n",
            "\u001b[?25h  Preparing metadata (setup.py) ... \u001b[?25l\u001b[?25hdone\n",
            "Requirement already satisfied: packaging in /usr/local/lib/python3.10/dist-packages (from hydra-core) (24.2)\n",
            "Requirement already satisfied: matplotlib>=1.5.1 in /usr/local/lib/python3.10/dist-packages (from dora) (3.8.0)\n",
            "Requirement already satisfied: pandas>=0.17.1 in /usr/local/lib/python3.10/dist-packages (from dora) (2.2.2)\n",
            "Requirement already satisfied: numpy>=1.10.4 in /usr/local/lib/python3.10/dist-packages (from dora) (1.26.4)\n",
            "Requirement already satisfied: scipy>=0.17.0 in /usr/local/lib/python3.10/dist-packages (from dora) (1.13.1)\n",
            "Collecting sklearn (from dora)\n",
            "  Downloading sklearn-0.0.post12.tar.gz (2.6 kB)\n",
            "  \u001b[1;31merror\u001b[0m: \u001b[1msubprocess-exited-with-error\u001b[0m\n",
            "  \n",
            "  \u001b[31m×\u001b[0m \u001b[32mpython setup.py egg_info\u001b[0m did not run successfully.\n",
            "  \u001b[31m│\u001b[0m exit code: \u001b[1;36m1\u001b[0m\n",
            "  \u001b[31m╰─>\u001b[0m See above for output.\n",
            "  \n",
            "  \u001b[1;35mnote\u001b[0m: This error originates from a subprocess, and is likely not a problem with pip.\n",
            "  Preparing metadata (setup.py) ... \u001b[?25l\u001b[?25herror\n",
            "\u001b[1;31merror\u001b[0m: \u001b[1mmetadata-generation-failed\u001b[0m\n",
            "\n",
            "\u001b[31m×\u001b[0m Encountered error while generating package metadata.\n",
            "\u001b[31m╰─>\u001b[0m See above for output.\n",
            "\n",
            "\u001b[1;35mnote\u001b[0m: This is an issue with the package mentioned above, not pip.\n",
            "\u001b[1;36mhint\u001b[0m: See above for details.\n"
          ]
        }
      ],
      "source": [
        "# Install required packages for AudioCraft and AudioSeal\n",
        "!pip install torch==2.1.0 torchaudio==2.1.0 hydra-core dora flashy ipdb"
      ]
    },
    {
      "cell_type": "markdown",
      "source": [
        "# Clone and install AudioCraft from source"
      ],
      "metadata": {
        "id": "yeMxS-mv2TgD"
      }
    },
    {
      "cell_type": "code",
      "source": [
        "!git clone https://github.com/hastagab/audiocraft.git\n",
        "%cd /content/audiocraft\n",
        "!pip install -e .[wm]"
      ],
      "metadata": {
        "collapsed": true,
        "colab": {
          "base_uri": "https://localhost:8080/",
          "height": 1000
        },
        "id": "EYtqXYy4lLcJ",
        "outputId": "9447287e-e259-4ae0-d6d7-61235b5c10d4"
      },
      "execution_count": 2,
      "outputs": [
        {
          "output_type": "stream",
          "name": "stdout",
          "text": [
            "Cloning into 'audiocraft'...\n",
            "remote: Enumerating objects: 1594, done.\u001b[K\n",
            "remote: Counting objects: 100% (858/858), done.\u001b[K\n",
            "remote: Compressing objects: 100% (318/318), done.\u001b[K\n",
            "remote: Total 1594 (delta 590), reused 617 (delta 533), pack-reused 736 (from 1)\u001b[K\n",
            "Receiving objects: 100% (1594/1594), 18.04 MiB | 17.69 MiB/s, done.\n",
            "Resolving deltas: 100% (924/924), done.\n",
            "/content/audiocraft\n",
            "Obtaining file:///content/audiocraft\n",
            "  Preparing metadata (setup.py) ... \u001b[?25l\u001b[?25hdone\n",
            "Collecting av==11.0.0 (from audiocraft==1.4.0a1)\n",
            "  Downloading av-11.0.0-cp310-cp310-manylinux_2_17_x86_64.manylinux2014_x86_64.whl.metadata (4.5 kB)\n",
            "Requirement already satisfied: einops in /usr/local/lib/python3.10/dist-packages (from audiocraft==1.4.0a1) (0.8.0)\n",
            "Collecting flashy>=0.0.1 (from audiocraft==1.4.0a1)\n",
            "  Using cached flashy-0.0.2.tar.gz (72 kB)\n",
            "  Installing build dependencies ... \u001b[?25l\u001b[?25hdone\n",
            "  Getting requirements to build wheel ... \u001b[?25l\u001b[?25hdone\n",
            "  Preparing metadata (pyproject.toml) ... \u001b[?25l\u001b[?25hdone\n",
            "Collecting hydra-core>=1.1 (from audiocraft==1.4.0a1)\n",
            "  Using cached hydra_core-1.3.2-py3-none-any.whl.metadata (5.5 kB)\n",
            "Collecting hydra_colorlog (from audiocraft==1.4.0a1)\n",
            "  Downloading hydra_colorlog-1.2.0-py3-none-any.whl.metadata (949 bytes)\n",
            "Collecting julius (from audiocraft==1.4.0a1)\n",
            "  Downloading julius-0.2.7.tar.gz (59 kB)\n",
            "\u001b[2K     \u001b[90m━━━━━━━━━━━━━━━━━━━━━━━━━━━━━━━━━━━━━━━━\u001b[0m \u001b[32m59.6/59.6 kB\u001b[0m \u001b[31m6.5 MB/s\u001b[0m eta \u001b[36m0:00:00\u001b[0m\n",
            "\u001b[?25h  Preparing metadata (setup.py) ... \u001b[?25l\u001b[?25hdone\n",
            "Collecting num2words (from audiocraft==1.4.0a1)\n",
            "  Downloading num2words-0.5.13-py3-none-any.whl.metadata (12 kB)\n",
            "Requirement already satisfied: numpy<2.0.0 in /usr/local/lib/python3.10/dist-packages (from audiocraft==1.4.0a1) (1.26.4)\n",
            "Requirement already satisfied: sentencepiece in /usr/local/lib/python3.10/dist-packages (from audiocraft==1.4.0a1) (0.2.0)\n",
            "Collecting spacy==3.7.6 (from audiocraft==1.4.0a1)\n",
            "  Downloading spacy-3.7.6-cp310-cp310-manylinux_2_17_x86_64.manylinux2014_x86_64.whl.metadata (27 kB)\n",
            "Collecting torch==2.1.0 (from audiocraft==1.4.0a1)\n",
            "  Using cached torch-2.1.0-cp310-cp310-manylinux1_x86_64.whl.metadata (25 kB)\n",
            "Collecting torchaudio<2.1.2,>=2.0.0 (from audiocraft==1.4.0a1)\n",
            "  Downloading torchaudio-2.1.1-cp310-cp310-manylinux1_x86_64.whl.metadata (6.4 kB)\n",
            "Requirement already satisfied: huggingface_hub in /usr/local/lib/python3.10/dist-packages (from audiocraft==1.4.0a1) (0.26.2)\n",
            "Requirement already satisfied: tqdm in /usr/local/lib/python3.10/dist-packages (from audiocraft==1.4.0a1) (4.66.6)\n",
            "Requirement already satisfied: transformers>=4.31.0 in /usr/local/lib/python3.10/dist-packages (from audiocraft==1.4.0a1) (4.46.2)\n",
            "Collecting xformers<0.0.23 (from audiocraft==1.4.0a1)\n",
            "  Downloading xformers-0.0.22.post7-cp310-cp310-manylinux2014_x86_64.whl.metadata (1.0 kB)\n",
            "Collecting demucs (from audiocraft==1.4.0a1)\n",
            "  Downloading demucs-4.0.1.tar.gz (1.2 MB)\n",
            "\u001b[2K     \u001b[90m━━━━━━━━━━━━━━━━━━━━━━━━━━━━━━━━━━━━━━━━\u001b[0m \u001b[32m1.2/1.2 MB\u001b[0m \u001b[31m69.7 MB/s\u001b[0m eta \u001b[36m0:00:00\u001b[0m\n",
            "\u001b[?25h  Preparing metadata (setup.py) ... \u001b[?25l\u001b[?25hdone\n",
            "Requirement already satisfied: librosa in /usr/local/lib/python3.10/dist-packages (from audiocraft==1.4.0a1) (0.10.2.post1)\n",
            "Requirement already satisfied: soundfile in /usr/local/lib/python3.10/dist-packages (from audiocraft==1.4.0a1) (0.12.1)\n",
            "Collecting gradio (from audiocraft==1.4.0a1)\n",
            "  Downloading gradio-5.7.1-py3-none-any.whl.metadata (16 kB)\n",
            "Collecting torchmetrics (from audiocraft==1.4.0a1)\n",
            "  Downloading torchmetrics-1.6.0-py3-none-any.whl.metadata (20 kB)\n",
            "Collecting encodec (from audiocraft==1.4.0a1)\n",
            "  Downloading encodec-0.1.1.tar.gz (3.7 MB)\n",
            "\u001b[2K     \u001b[90m━━━━━━━━━━━━━━━━━━━━━━━━━━━━━━━━━━━━━━━━\u001b[0m \u001b[32m3.7/3.7 MB\u001b[0m \u001b[31m28.8 MB/s\u001b[0m eta \u001b[36m0:00:00\u001b[0m\n",
            "\u001b[?25h  Preparing metadata (setup.py) ... \u001b[?25l\u001b[?25hdone\n",
            "Requirement already satisfied: protobuf in /usr/local/lib/python3.10/dist-packages (from audiocraft==1.4.0a1) (4.25.5)\n",
            "Collecting torchvision==0.16.0 (from audiocraft==1.4.0a1)\n",
            "  Downloading torchvision-0.16.0-cp310-cp310-manylinux1_x86_64.whl.metadata (6.6 kB)\n",
            "Collecting torchtext==0.16.0 (from audiocraft==1.4.0a1)\n",
            "  Downloading torchtext-0.16.0-cp310-cp310-manylinux1_x86_64.whl.metadata (7.5 kB)\n",
            "Collecting pesq (from audiocraft==1.4.0a1)\n",
            "  Downloading pesq-0.0.4.tar.gz (38 kB)\n",
            "  Preparing metadata (setup.py) ... \u001b[?25l\u001b[?25hdone\n",
            "Collecting pystoi (from audiocraft==1.4.0a1)\n",
            "  Downloading pystoi-0.4.1-py2.py3-none-any.whl.metadata (4.0 kB)\n",
            "Requirement already satisfied: spacy-legacy<3.1.0,>=3.0.11 in /usr/local/lib/python3.10/dist-packages (from spacy==3.7.6->audiocraft==1.4.0a1) (3.0.12)\n",
            "Requirement already satisfied: spacy-loggers<2.0.0,>=1.0.0 in /usr/local/lib/python3.10/dist-packages (from spacy==3.7.6->audiocraft==1.4.0a1) (1.0.5)\n",
            "Requirement already satisfied: murmurhash<1.1.0,>=0.28.0 in /usr/local/lib/python3.10/dist-packages (from spacy==3.7.6->audiocraft==1.4.0a1) (1.0.10)\n",
            "Requirement already satisfied: cymem<2.1.0,>=2.0.2 in /usr/local/lib/python3.10/dist-packages (from spacy==3.7.6->audiocraft==1.4.0a1) (2.0.8)\n",
            "Requirement already satisfied: preshed<3.1.0,>=3.0.2 in /usr/local/lib/python3.10/dist-packages (from spacy==3.7.6->audiocraft==1.4.0a1) (3.0.9)\n",
            "Requirement already satisfied: thinc<8.3.0,>=8.2.2 in /usr/local/lib/python3.10/dist-packages (from spacy==3.7.6->audiocraft==1.4.0a1) (8.2.5)\n",
            "Requirement already satisfied: wasabi<1.2.0,>=0.9.1 in /usr/local/lib/python3.10/dist-packages (from spacy==3.7.6->audiocraft==1.4.0a1) (1.1.3)\n",
            "Requirement already satisfied: srsly<3.0.0,>=2.4.3 in /usr/local/lib/python3.10/dist-packages (from spacy==3.7.6->audiocraft==1.4.0a1) (2.4.8)\n",
            "Requirement already satisfied: catalogue<2.1.0,>=2.0.6 in /usr/local/lib/python3.10/dist-packages (from spacy==3.7.6->audiocraft==1.4.0a1) (2.0.10)\n",
            "Requirement already satisfied: weasel<0.5.0,>=0.1.0 in /usr/local/lib/python3.10/dist-packages (from spacy==3.7.6->audiocraft==1.4.0a1) (0.4.1)\n",
            "Requirement already satisfied: typer<1.0.0,>=0.3.0 in /usr/local/lib/python3.10/dist-packages (from spacy==3.7.6->audiocraft==1.4.0a1) (0.13.0)\n",
            "Requirement already satisfied: requests<3.0.0,>=2.13.0 in /usr/local/lib/python3.10/dist-packages (from spacy==3.7.6->audiocraft==1.4.0a1) (2.32.3)\n",
            "Requirement already satisfied: pydantic!=1.8,!=1.8.1,<3.0.0,>=1.7.4 in /usr/local/lib/python3.10/dist-packages (from spacy==3.7.6->audiocraft==1.4.0a1) (2.9.2)\n",
            "Requirement already satisfied: jinja2 in /usr/local/lib/python3.10/dist-packages (from spacy==3.7.6->audiocraft==1.4.0a1) (3.1.4)\n",
            "Requirement already satisfied: setuptools in /usr/local/lib/python3.10/dist-packages (from spacy==3.7.6->audiocraft==1.4.0a1) (75.1.0)\n",
            "Requirement already satisfied: packaging>=20.0 in /usr/local/lib/python3.10/dist-packages (from spacy==3.7.6->audiocraft==1.4.0a1) (24.2)\n",
            "Requirement already satisfied: langcodes<4.0.0,>=3.2.0 in /usr/local/lib/python3.10/dist-packages (from spacy==3.7.6->audiocraft==1.4.0a1) (3.4.1)\n",
            "Requirement already satisfied: filelock in /usr/local/lib/python3.10/dist-packages (from torch==2.1.0->audiocraft==1.4.0a1) (3.16.1)\n",
            "Requirement already satisfied: typing-extensions in /usr/local/lib/python3.10/dist-packages (from torch==2.1.0->audiocraft==1.4.0a1) (4.12.2)\n",
            "Requirement already satisfied: sympy in /usr/local/lib/python3.10/dist-packages (from torch==2.1.0->audiocraft==1.4.0a1) (1.13.1)\n",
            "Requirement already satisfied: networkx in /usr/local/lib/python3.10/dist-packages (from torch==2.1.0->audiocraft==1.4.0a1) (3.4.2)\n",
            "Requirement already satisfied: fsspec in /usr/local/lib/python3.10/dist-packages (from torch==2.1.0->audiocraft==1.4.0a1) (2024.10.0)\n",
            "Collecting nvidia-cuda-nvrtc-cu12==12.1.105 (from torch==2.1.0->audiocraft==1.4.0a1)\n",
            "  Using cached nvidia_cuda_nvrtc_cu12-12.1.105-py3-none-manylinux1_x86_64.whl.metadata (1.5 kB)\n",
            "Collecting nvidia-cuda-runtime-cu12==12.1.105 (from torch==2.1.0->audiocraft==1.4.0a1)\n",
            "  Using cached nvidia_cuda_runtime_cu12-12.1.105-py3-none-manylinux1_x86_64.whl.metadata (1.5 kB)\n",
            "Collecting nvidia-cuda-cupti-cu12==12.1.105 (from torch==2.1.0->audiocraft==1.4.0a1)\n",
            "  Using cached nvidia_cuda_cupti_cu12-12.1.105-py3-none-manylinux1_x86_64.whl.metadata (1.6 kB)\n",
            "Collecting nvidia-cudnn-cu12==8.9.2.26 (from torch==2.1.0->audiocraft==1.4.0a1)\n",
            "  Using cached nvidia_cudnn_cu12-8.9.2.26-py3-none-manylinux1_x86_64.whl.metadata (1.6 kB)\n",
            "Collecting nvidia-cublas-cu12==12.1.3.1 (from torch==2.1.0->audiocraft==1.4.0a1)\n",
            "  Using cached nvidia_cublas_cu12-12.1.3.1-py3-none-manylinux1_x86_64.whl.metadata (1.5 kB)\n",
            "Collecting nvidia-cufft-cu12==11.0.2.54 (from torch==2.1.0->audiocraft==1.4.0a1)\n",
            "  Using cached nvidia_cufft_cu12-11.0.2.54-py3-none-manylinux1_x86_64.whl.metadata (1.5 kB)\n",
            "Collecting nvidia-curand-cu12==10.3.2.106 (from torch==2.1.0->audiocraft==1.4.0a1)\n",
            "  Using cached nvidia_curand_cu12-10.3.2.106-py3-none-manylinux1_x86_64.whl.metadata (1.5 kB)\n",
            "Collecting nvidia-cusolver-cu12==11.4.5.107 (from torch==2.1.0->audiocraft==1.4.0a1)\n",
            "  Using cached nvidia_cusolver_cu12-11.4.5.107-py3-none-manylinux1_x86_64.whl.metadata (1.6 kB)\n",
            "Collecting nvidia-cusparse-cu12==12.1.0.106 (from torch==2.1.0->audiocraft==1.4.0a1)\n",
            "  Using cached nvidia_cusparse_cu12-12.1.0.106-py3-none-manylinux1_x86_64.whl.metadata (1.6 kB)\n",
            "Collecting nvidia-nccl-cu12==2.18.1 (from torch==2.1.0->audiocraft==1.4.0a1)\n",
            "  Using cached nvidia_nccl_cu12-2.18.1-py3-none-manylinux1_x86_64.whl.metadata (1.8 kB)\n",
            "Collecting nvidia-nvtx-cu12==12.1.105 (from torch==2.1.0->audiocraft==1.4.0a1)\n",
            "  Using cached nvidia_nvtx_cu12-12.1.105-py3-none-manylinux1_x86_64.whl.metadata (1.7 kB)\n",
            "Collecting triton==2.1.0 (from torch==2.1.0->audiocraft==1.4.0a1)\n",
            "  Using cached triton-2.1.0-0-cp310-cp310-manylinux2014_x86_64.manylinux_2_17_x86_64.whl.metadata (1.3 kB)\n",
            "Collecting torchdata==0.7.0 (from torchtext==0.16.0->audiocraft==1.4.0a1)\n",
            "  Downloading torchdata-0.7.0-cp310-cp310-manylinux_2_17_x86_64.manylinux2014_x86_64.whl.metadata (13 kB)\n",
            "Requirement already satisfied: pillow!=8.3.*,>=5.3.0 in /usr/local/lib/python3.10/dist-packages (from torchvision==0.16.0->audiocraft==1.4.0a1) (11.0.0)\n",
            "Requirement already satisfied: nvidia-nvjitlink-cu12 in /usr/local/lib/python3.10/dist-packages (from nvidia-cusolver-cu12==11.4.5.107->torch==2.1.0->audiocraft==1.4.0a1) (12.6.77)\n",
            "Requirement already satisfied: urllib3>=1.25 in /usr/local/lib/python3.10/dist-packages (from torchdata==0.7.0->torchtext==0.16.0->audiocraft==1.4.0a1) (2.2.3)\n",
            "Collecting audioseal (from audiocraft==1.4.0a1)\n",
            "  Downloading audioseal-0.1.4-py3-none-any.whl.metadata (8.4 kB)\n",
            "Collecting dora_search (from flashy>=0.0.1->audiocraft==1.4.0a1)\n",
            "  Downloading dora_search-0.1.12.tar.gz (87 kB)\n",
            "\u001b[2K     \u001b[90m━━━━━━━━━━━━━━━━━━━━━━━━━━━━━━━━━━━━━━━━\u001b[0m \u001b[32m87.1/87.1 kB\u001b[0m \u001b[31m8.4 MB/s\u001b[0m eta \u001b[36m0:00:00\u001b[0m\n",
            "\u001b[?25h  Installing build dependencies ... \u001b[?25l\u001b[?25hdone\n",
            "  Getting requirements to build wheel ... \u001b[?25l\u001b[?25hdone\n",
            "  Preparing metadata (pyproject.toml) ... \u001b[?25l\u001b[?25hdone\n",
            "Collecting colorlog (from flashy>=0.0.1->audiocraft==1.4.0a1)\n",
            "  Downloading colorlog-6.9.0-py3-none-any.whl.metadata (10 kB)\n",
            "Collecting omegaconf<2.4,>=2.2 (from hydra-core>=1.1->audiocraft==1.4.0a1)\n",
            "  Using cached omegaconf-2.3.0-py3-none-any.whl.metadata (3.9 kB)\n",
            "Collecting antlr4-python3-runtime==4.9.* (from hydra-core>=1.1->audiocraft==1.4.0a1)\n",
            "  Using cached antlr4-python3-runtime-4.9.3.tar.gz (117 kB)\n",
            "  Preparing metadata (setup.py) ... \u001b[?25l\u001b[?25hdone\n",
            "INFO: pip is looking at multiple versions of torchaudio to determine which version is compatible with other requirements. This could take a while.\n",
            "Collecting torchaudio<2.1.2,>=2.0.0 (from audiocraft==1.4.0a1)\n",
            "  Using cached torchaudio-2.1.0-cp310-cp310-manylinux1_x86_64.whl.metadata (5.7 kB)\n",
            "Requirement already satisfied: pyyaml>=5.1 in /usr/local/lib/python3.10/dist-packages (from transformers>=4.31.0->audiocraft==1.4.0a1) (6.0.2)\n",
            "Requirement already satisfied: regex!=2019.12.17 in /usr/local/lib/python3.10/dist-packages (from transformers>=4.31.0->audiocraft==1.4.0a1) (2024.9.11)\n",
            "Requirement already satisfied: safetensors>=0.4.1 in /usr/local/lib/python3.10/dist-packages (from transformers>=4.31.0->audiocraft==1.4.0a1) (0.4.5)\n",
            "Requirement already satisfied: tokenizers<0.21,>=0.20 in /usr/local/lib/python3.10/dist-packages (from transformers>=4.31.0->audiocraft==1.4.0a1) (0.20.3)\n",
            "Collecting lameenc>=1.2 (from demucs->audiocraft==1.4.0a1)\n",
            "  Downloading lameenc-1.7.0-cp310-cp310-manylinux_2_17_x86_64.manylinux2014_x86_64.manylinux_2_28_x86_64.whl.metadata (803 bytes)\n",
            "Collecting openunmix (from demucs->audiocraft==1.4.0a1)\n",
            "  Downloading openunmix-1.3.0-py3-none-any.whl.metadata (17 kB)\n",
            "Collecting aiofiles<24.0,>=22.0 (from gradio->audiocraft==1.4.0a1)\n",
            "  Downloading aiofiles-23.2.1-py3-none-any.whl.metadata (9.7 kB)\n",
            "Requirement already satisfied: anyio<5.0,>=3.0 in /usr/local/lib/python3.10/dist-packages (from gradio->audiocraft==1.4.0a1) (3.7.1)\n",
            "Collecting fastapi<1.0,>=0.115.2 (from gradio->audiocraft==1.4.0a1)\n",
            "  Downloading fastapi-0.115.5-py3-none-any.whl.metadata (27 kB)\n",
            "Collecting ffmpy (from gradio->audiocraft==1.4.0a1)\n",
            "  Downloading ffmpy-0.4.0-py3-none-any.whl.metadata (2.9 kB)\n",
            "Collecting gradio-client==1.5.0 (from gradio->audiocraft==1.4.0a1)\n",
            "  Downloading gradio_client-1.5.0-py3-none-any.whl.metadata (7.1 kB)\n",
            "Requirement already satisfied: httpx>=0.24.1 in /usr/local/lib/python3.10/dist-packages (from gradio->audiocraft==1.4.0a1) (0.27.2)\n",
            "Collecting markupsafe~=2.0 (from gradio->audiocraft==1.4.0a1)\n",
            "  Downloading MarkupSafe-2.1.5-cp310-cp310-manylinux_2_17_x86_64.manylinux2014_x86_64.whl.metadata (3.0 kB)\n",
            "Requirement already satisfied: orjson~=3.0 in /usr/local/lib/python3.10/dist-packages (from gradio->audiocraft==1.4.0a1) (3.10.11)\n",
            "Requirement already satisfied: pandas<3.0,>=1.0 in /usr/local/lib/python3.10/dist-packages (from gradio->audiocraft==1.4.0a1) (2.2.2)\n",
            "Collecting pydub (from gradio->audiocraft==1.4.0a1)\n",
            "  Downloading pydub-0.25.1-py2.py3-none-any.whl.metadata (1.4 kB)\n",
            "Collecting python-multipart==0.0.12 (from gradio->audiocraft==1.4.0a1)\n",
            "  Downloading python_multipart-0.0.12-py3-none-any.whl.metadata (1.9 kB)\n",
            "Collecting ruff>=0.2.2 (from gradio->audiocraft==1.4.0a1)\n",
            "  Downloading ruff-0.8.1-py3-none-manylinux_2_17_x86_64.manylinux2014_x86_64.whl.metadata (25 kB)\n",
            "Collecting safehttpx<1.0,>=0.1.1 (from gradio->audiocraft==1.4.0a1)\n",
            "  Downloading safehttpx-0.1.1-py3-none-any.whl.metadata (4.1 kB)\n",
            "Collecting semantic-version~=2.0 (from gradio->audiocraft==1.4.0a1)\n",
            "  Downloading semantic_version-2.10.0-py2.py3-none-any.whl.metadata (9.7 kB)\n",
            "Collecting starlette<1.0,>=0.40.0 (from gradio->audiocraft==1.4.0a1)\n",
            "  Downloading starlette-0.41.3-py3-none-any.whl.metadata (6.0 kB)\n",
            "Collecting tomlkit==0.12.0 (from gradio->audiocraft==1.4.0a1)\n",
            "  Downloading tomlkit-0.12.0-py3-none-any.whl.metadata (2.7 kB)\n",
            "Collecting uvicorn>=0.14.0 (from gradio->audiocraft==1.4.0a1)\n",
            "  Downloading uvicorn-0.32.1-py3-none-any.whl.metadata (6.6 kB)\n",
            "Collecting websockets<13.0,>=10.0 (from gradio-client==1.5.0->gradio->audiocraft==1.4.0a1)\n",
            "  Downloading websockets-12.0-cp310-cp310-manylinux_2_5_x86_64.manylinux1_x86_64.manylinux_2_17_x86_64.manylinux2014_x86_64.whl.metadata (6.6 kB)\n",
            "Requirement already satisfied: audioread>=2.1.9 in /usr/local/lib/python3.10/dist-packages (from librosa->audiocraft==1.4.0a1) (3.0.1)\n",
            "Requirement already satisfied: scipy>=1.2.0 in /usr/local/lib/python3.10/dist-packages (from librosa->audiocraft==1.4.0a1) (1.13.1)\n",
            "Requirement already satisfied: scikit-learn>=0.20.0 in /usr/local/lib/python3.10/dist-packages (from librosa->audiocraft==1.4.0a1) (1.5.2)\n",
            "Requirement already satisfied: joblib>=0.14 in /usr/local/lib/python3.10/dist-packages (from librosa->audiocraft==1.4.0a1) (1.4.2)\n",
            "Requirement already satisfied: decorator>=4.3.0 in /usr/local/lib/python3.10/dist-packages (from librosa->audiocraft==1.4.0a1) (4.4.2)\n",
            "Requirement already satisfied: numba>=0.51.0 in /usr/local/lib/python3.10/dist-packages (from librosa->audiocraft==1.4.0a1) (0.60.0)\n",
            "Requirement already satisfied: pooch>=1.1 in /usr/local/lib/python3.10/dist-packages (from librosa->audiocraft==1.4.0a1) (1.8.2)\n",
            "Requirement already satisfied: soxr>=0.3.2 in /usr/local/lib/python3.10/dist-packages (from librosa->audiocraft==1.4.0a1) (0.5.0.post1)\n",
            "Requirement already satisfied: lazy-loader>=0.1 in /usr/local/lib/python3.10/dist-packages (from librosa->audiocraft==1.4.0a1) (0.4)\n",
            "Requirement already satisfied: msgpack>=1.0 in /usr/local/lib/python3.10/dist-packages (from librosa->audiocraft==1.4.0a1) (1.1.0)\n",
            "Requirement already satisfied: cffi>=1.0 in /usr/local/lib/python3.10/dist-packages (from soundfile->audiocraft==1.4.0a1) (1.17.1)\n",
            "Collecting docopt>=0.6.2 (from num2words->audiocraft==1.4.0a1)\n",
            "  Downloading docopt-0.6.2.tar.gz (25 kB)\n",
            "  Preparing metadata (setup.py) ... \u001b[?25l\u001b[?25hdone\n",
            "Collecting lightning-utilities>=0.8.0 (from torchmetrics->audiocraft==1.4.0a1)\n",
            "  Downloading lightning_utilities-0.11.9-py3-none-any.whl.metadata (5.2 kB)\n",
            "Requirement already satisfied: idna>=2.8 in /usr/local/lib/python3.10/dist-packages (from anyio<5.0,>=3.0->gradio->audiocraft==1.4.0a1) (3.10)\n",
            "Requirement already satisfied: sniffio>=1.1 in /usr/local/lib/python3.10/dist-packages (from anyio<5.0,>=3.0->gradio->audiocraft==1.4.0a1) (1.3.1)\n",
            "Requirement already satisfied: exceptiongroup in /usr/local/lib/python3.10/dist-packages (from anyio<5.0,>=3.0->gradio->audiocraft==1.4.0a1) (1.2.2)\n",
            "Requirement already satisfied: pycparser in /usr/local/lib/python3.10/dist-packages (from cffi>=1.0->soundfile->audiocraft==1.4.0a1) (2.22)\n",
            "Requirement already satisfied: certifi in /usr/local/lib/python3.10/dist-packages (from httpx>=0.24.1->gradio->audiocraft==1.4.0a1) (2024.8.30)\n",
            "Requirement already satisfied: httpcore==1.* in /usr/local/lib/python3.10/dist-packages (from httpx>=0.24.1->gradio->audiocraft==1.4.0a1) (1.0.7)\n",
            "Requirement already satisfied: h11<0.15,>=0.13 in /usr/local/lib/python3.10/dist-packages (from httpcore==1.*->httpx>=0.24.1->gradio->audiocraft==1.4.0a1) (0.14.0)\n",
            "Requirement already satisfied: language-data>=1.2 in /usr/local/lib/python3.10/dist-packages (from langcodes<4.0.0,>=3.2.0->spacy==3.7.6->audiocraft==1.4.0a1) (1.2.0)\n",
            "Requirement already satisfied: llvmlite<0.44,>=0.43.0dev0 in /usr/local/lib/python3.10/dist-packages (from numba>=0.51.0->librosa->audiocraft==1.4.0a1) (0.43.0)\n",
            "Requirement already satisfied: python-dateutil>=2.8.2 in /usr/local/lib/python3.10/dist-packages (from pandas<3.0,>=1.0->gradio->audiocraft==1.4.0a1) (2.8.2)\n",
            "Requirement already satisfied: pytz>=2020.1 in /usr/local/lib/python3.10/dist-packages (from pandas<3.0,>=1.0->gradio->audiocraft==1.4.0a1) (2024.2)\n",
            "Requirement already satisfied: tzdata>=2022.7 in /usr/local/lib/python3.10/dist-packages (from pandas<3.0,>=1.0->gradio->audiocraft==1.4.0a1) (2024.2)\n",
            "Requirement already satisfied: platformdirs>=2.5.0 in /usr/local/lib/python3.10/dist-packages (from pooch>=1.1->librosa->audiocraft==1.4.0a1) (4.3.6)\n",
            "Requirement already satisfied: annotated-types>=0.6.0 in /usr/local/lib/python3.10/dist-packages (from pydantic!=1.8,!=1.8.1,<3.0.0,>=1.7.4->spacy==3.7.6->audiocraft==1.4.0a1) (0.7.0)\n",
            "Requirement already satisfied: pydantic-core==2.23.4 in /usr/local/lib/python3.10/dist-packages (from pydantic!=1.8,!=1.8.1,<3.0.0,>=1.7.4->spacy==3.7.6->audiocraft==1.4.0a1) (2.23.4)\n",
            "Requirement already satisfied: charset-normalizer<4,>=2 in /usr/local/lib/python3.10/dist-packages (from requests<3.0.0,>=2.13.0->spacy==3.7.6->audiocraft==1.4.0a1) (3.4.0)\n",
            "Requirement already satisfied: threadpoolctl>=3.1.0 in /usr/local/lib/python3.10/dist-packages (from scikit-learn>=0.20.0->librosa->audiocraft==1.4.0a1) (3.5.0)\n",
            "Requirement already satisfied: blis<0.8.0,>=0.7.8 in /usr/local/lib/python3.10/dist-packages (from thinc<8.3.0,>=8.2.2->spacy==3.7.6->audiocraft==1.4.0a1) (0.7.11)\n",
            "Requirement already satisfied: confection<1.0.0,>=0.0.1 in /usr/local/lib/python3.10/dist-packages (from thinc<8.3.0,>=8.2.2->spacy==3.7.6->audiocraft==1.4.0a1) (0.1.5)\n",
            "Requirement already satisfied: click>=8.0.0 in /usr/local/lib/python3.10/dist-packages (from typer<1.0.0,>=0.3.0->spacy==3.7.6->audiocraft==1.4.0a1) (8.1.7)\n",
            "Requirement already satisfied: shellingham>=1.3.0 in /usr/local/lib/python3.10/dist-packages (from typer<1.0.0,>=0.3.0->spacy==3.7.6->audiocraft==1.4.0a1) (1.5.4)\n",
            "Requirement already satisfied: rich>=10.11.0 in /usr/local/lib/python3.10/dist-packages (from typer<1.0.0,>=0.3.0->spacy==3.7.6->audiocraft==1.4.0a1) (13.9.4)\n",
            "Requirement already satisfied: cloudpathlib<1.0.0,>=0.7.0 in /usr/local/lib/python3.10/dist-packages (from weasel<0.5.0,>=0.1.0->spacy==3.7.6->audiocraft==1.4.0a1) (0.20.0)\n",
            "Requirement already satisfied: smart-open<8.0.0,>=5.2.1 in /usr/local/lib/python3.10/dist-packages (from weasel<0.5.0,>=0.1.0->spacy==3.7.6->audiocraft==1.4.0a1) (7.0.5)\n",
            "Collecting retrying (from dora_search->flashy>=0.0.1->audiocraft==1.4.0a1)\n",
            "  Downloading retrying-1.3.4-py3-none-any.whl.metadata (6.9 kB)\n",
            "Collecting submitit (from dora_search->flashy>=0.0.1->audiocraft==1.4.0a1)\n",
            "  Downloading submitit-1.5.2-py3-none-any.whl.metadata (7.9 kB)\n",
            "Collecting treetable (from dora_search->flashy>=0.0.1->audiocraft==1.4.0a1)\n",
            "  Downloading treetable-0.2.5.tar.gz (10 kB)\n",
            "  Preparing metadata (setup.py) ... \u001b[?25l\u001b[?25hdone\n",
            "Requirement already satisfied: mpmath<1.4,>=1.1.0 in /usr/local/lib/python3.10/dist-packages (from sympy->torch==2.1.0->audiocraft==1.4.0a1) (1.3.0)\n",
            "Requirement already satisfied: marisa-trie>=0.7.7 in /usr/local/lib/python3.10/dist-packages (from language-data>=1.2->langcodes<4.0.0,>=3.2.0->spacy==3.7.6->audiocraft==1.4.0a1) (1.2.1)\n",
            "Requirement already satisfied: six>=1.5 in /usr/local/lib/python3.10/dist-packages (from python-dateutil>=2.8.2->pandas<3.0,>=1.0->gradio->audiocraft==1.4.0a1) (1.16.0)\n",
            "Requirement already satisfied: markdown-it-py>=2.2.0 in /usr/local/lib/python3.10/dist-packages (from rich>=10.11.0->typer<1.0.0,>=0.3.0->spacy==3.7.6->audiocraft==1.4.0a1) (3.0.0)\n",
            "Requirement already satisfied: pygments<3.0.0,>=2.13.0 in /usr/local/lib/python3.10/dist-packages (from rich>=10.11.0->typer<1.0.0,>=0.3.0->spacy==3.7.6->audiocraft==1.4.0a1) (2.18.0)\n",
            "Requirement already satisfied: wrapt in /usr/local/lib/python3.10/dist-packages (from smart-open<8.0.0,>=5.2.1->weasel<0.5.0,>=0.1.0->spacy==3.7.6->audiocraft==1.4.0a1) (1.16.0)\n",
            "Requirement already satisfied: cloudpickle>=1.2.1 in /usr/local/lib/python3.10/dist-packages (from submitit->dora_search->flashy>=0.0.1->audiocraft==1.4.0a1) (3.1.0)\n",
            "Requirement already satisfied: mdurl~=0.1 in /usr/local/lib/python3.10/dist-packages (from markdown-it-py>=2.2.0->rich>=10.11.0->typer<1.0.0,>=0.3.0->spacy==3.7.6->audiocraft==1.4.0a1) (0.1.2)\n",
            "\u001b[33mWARNING: The candidate selected for download or install is a yanked version: 'spacy' candidate (version 3.7.6 at https://files.pythonhosted.org/packages/e0/70/99e35ffa162db57ddb20080243d07afe3031eb361035759c3124424569b0/spacy-3.7.6-cp310-cp310-manylinux_2_17_x86_64.manylinux2014_x86_64.whl (from https://pypi.org/simple/spacy/) (requires-python:>=3.7))\n",
            "Reason for being yanked: Incorrect compatibility for transformer models\u001b[0m\u001b[33m\n",
            "\u001b[0mDownloading av-11.0.0-cp310-cp310-manylinux_2_17_x86_64.manylinux2014_x86_64.whl (32.9 MB)\n",
            "\u001b[2K   \u001b[90m━━━━━━━━━━━━━━━━━━━━━━━━━━━━━━━━━━━━━━━━\u001b[0m \u001b[32m32.9/32.9 MB\u001b[0m \u001b[31m32.8 MB/s\u001b[0m eta \u001b[36m0:00:00\u001b[0m\n",
            "\u001b[?25hDownloading spacy-3.7.6-cp310-cp310-manylinux_2_17_x86_64.manylinux2014_x86_64.whl (29.0 MB)\n",
            "\u001b[2K   \u001b[90m━━━━━━━━━━━━━━━━━━━━━━━━━━━━━━━━━━━━━━━━\u001b[0m \u001b[32m29.0/29.0 MB\u001b[0m \u001b[31m62.7 MB/s\u001b[0m eta \u001b[36m0:00:00\u001b[0m\n",
            "\u001b[?25hDownloading torch-2.1.0-cp310-cp310-manylinux1_x86_64.whl (670.2 MB)\n",
            "\u001b[2K   \u001b[90m━━━━━━━━━━━━━━━━━━━━━━━━━━━━━━━━━━━━━━━━\u001b[0m \u001b[32m670.2/670.2 MB\u001b[0m \u001b[31m2.2 MB/s\u001b[0m eta \u001b[36m0:00:00\u001b[0m\n",
            "\u001b[?25hDownloading torchtext-0.16.0-cp310-cp310-manylinux1_x86_64.whl (2.0 MB)\n",
            "\u001b[2K   \u001b[90m━━━━━━━━━━━━━━━━━━━━━━━━━━━━━━━━━━━━━━━━\u001b[0m \u001b[32m2.0/2.0 MB\u001b[0m \u001b[31m12.4 MB/s\u001b[0m eta \u001b[36m0:00:00\u001b[0m\n",
            "\u001b[?25hDownloading torchvision-0.16.0-cp310-cp310-manylinux1_x86_64.whl (6.9 MB)\n",
            "\u001b[2K   \u001b[90m━━━━━━━━━━━━━━━━━━━━━━━━━━━━━━━━━━━━━━━━\u001b[0m \u001b[32m6.9/6.9 MB\u001b[0m \u001b[31m117.6 MB/s\u001b[0m eta \u001b[36m0:00:00\u001b[0m\n",
            "\u001b[?25hDownloading nvidia_cublas_cu12-12.1.3.1-py3-none-manylinux1_x86_64.whl (410.6 MB)\n",
            "\u001b[2K   \u001b[90m━━━━━━━━━━━━━━━━━━━━━━━━━━━━━━━━━━━━━━━━\u001b[0m \u001b[32m410.6/410.6 MB\u001b[0m \u001b[31m2.6 MB/s\u001b[0m eta \u001b[36m0:00:00\u001b[0m\n",
            "\u001b[?25hDownloading nvidia_cuda_cupti_cu12-12.1.105-py3-none-manylinux1_x86_64.whl (14.1 MB)\n",
            "\u001b[2K   \u001b[90m━━━━━━━━━━━━━━━━━━━━━━━━━━━━━━━━━━━━━━━━\u001b[0m \u001b[32m14.1/14.1 MB\u001b[0m \u001b[31m95.8 MB/s\u001b[0m eta \u001b[36m0:00:00\u001b[0m\n",
            "\u001b[?25hDownloading nvidia_cuda_nvrtc_cu12-12.1.105-py3-none-manylinux1_x86_64.whl (23.7 MB)\n",
            "\u001b[2K   \u001b[90m━━━━━━━━━━━━━━━━━━━━━━━━━━━━━━━━━━━━━━━━\u001b[0m \u001b[32m23.7/23.7 MB\u001b[0m \u001b[31m78.2 MB/s\u001b[0m eta \u001b[36m0:00:00\u001b[0m\n",
            "\u001b[?25hDownloading nvidia_cuda_runtime_cu12-12.1.105-py3-none-manylinux1_x86_64.whl (823 kB)\n",
            "\u001b[2K   \u001b[90m━━━━━━━━━━━━━━━━━━━━━━━━━━━━━━━━━━━━━━━━\u001b[0m \u001b[32m823.6/823.6 kB\u001b[0m \u001b[31m46.6 MB/s\u001b[0m eta \u001b[36m0:00:00\u001b[0m\n",
            "\u001b[?25hDownloading nvidia_cudnn_cu12-8.9.2.26-py3-none-manylinux1_x86_64.whl (731.7 MB)\n",
            "\u001b[2K   \u001b[90m━━━━━━━━━━━━━━━━━━━━━━━━━━━━━━━━━━━━━━━━\u001b[0m \u001b[32m731.7/731.7 MB\u001b[0m \u001b[31m2.8 MB/s\u001b[0m eta \u001b[36m0:00:00\u001b[0m\n",
            "\u001b[?25hDownloading nvidia_cufft_cu12-11.0.2.54-py3-none-manylinux1_x86_64.whl (121.6 MB)\n",
            "\u001b[2K   \u001b[90m━━━━━━━━━━━━━━━━━━━━━━━━━━━━━━━━━━━━━━━━\u001b[0m \u001b[32m121.6/121.6 MB\u001b[0m \u001b[31m17.6 MB/s\u001b[0m eta \u001b[36m0:00:00\u001b[0m\n",
            "\u001b[?25hDownloading nvidia_curand_cu12-10.3.2.106-py3-none-manylinux1_x86_64.whl (56.5 MB)\n",
            "\u001b[2K   \u001b[90m━━━━━━━━━━━━━━━━━━━━━━━━━━━━━━━━━━━━━━━━\u001b[0m \u001b[32m56.5/56.5 MB\u001b[0m \u001b[31m29.8 MB/s\u001b[0m eta \u001b[36m0:00:00\u001b[0m\n",
            "\u001b[?25hDownloading nvidia_cusolver_cu12-11.4.5.107-py3-none-manylinux1_x86_64.whl (124.2 MB)\n",
            "\u001b[2K   \u001b[90m━━━━━━━━━━━━━━━━━━━━━━━━━━━━━━━━━━━━━━━━\u001b[0m \u001b[32m124.2/124.2 MB\u001b[0m \u001b[31m5.9 MB/s\u001b[0m eta \u001b[36m0:00:00\u001b[0m\n",
            "\u001b[?25hDownloading nvidia_cusparse_cu12-12.1.0.106-py3-none-manylinux1_x86_64.whl (196.0 MB)\n",
            "\u001b[2K   \u001b[90m━━━━━━━━━━━━━━━━━━━━━━━━━━━━━━━━━━━━━━━━\u001b[0m \u001b[32m196.0/196.0 MB\u001b[0m \u001b[31m5.2 MB/s\u001b[0m eta \u001b[36m0:00:00\u001b[0m\n",
            "\u001b[?25hDownloading nvidia_nccl_cu12-2.18.1-py3-none-manylinux1_x86_64.whl (209.8 MB)\n",
            "\u001b[2K   \u001b[90m━━━━━━━━━━━━━━━━━━━━━━━━━━━━━━━━━━━━━━━━\u001b[0m \u001b[32m209.8/209.8 MB\u001b[0m \u001b[31m4.9 MB/s\u001b[0m eta \u001b[36m0:00:00\u001b[0m\n",
            "\u001b[?25hDownloading nvidia_nvtx_cu12-12.1.105-py3-none-manylinux1_x86_64.whl (99 kB)\n",
            "\u001b[2K   \u001b[90m━━━━━━━━━━━━━━━━━━━━━━━━━━━━━━━━━━━━━━━━\u001b[0m \u001b[32m99.1/99.1 kB\u001b[0m \u001b[31m9.1 MB/s\u001b[0m eta \u001b[36m0:00:00\u001b[0m\n",
            "\u001b[?25hDownloading torchdata-0.7.0-cp310-cp310-manylinux_2_17_x86_64.manylinux2014_x86_64.whl (4.7 MB)\n",
            "\u001b[2K   \u001b[90m━━━━━━━━━━━━━━━━━━━━━━━━━━━━━━━━━━━━━━━━\u001b[0m \u001b[32m4.7/4.7 MB\u001b[0m \u001b[31m86.7 MB/s\u001b[0m eta \u001b[36m0:00:00\u001b[0m\n",
            "\u001b[?25hDownloading triton-2.1.0-0-cp310-cp310-manylinux2014_x86_64.manylinux_2_17_x86_64.whl (89.2 MB)\n",
            "\u001b[2K   \u001b[90m━━━━━━━━━━━━━━━━━━━━━━━━━━━━━━━━━━━━━━━━\u001b[0m \u001b[32m89.2/89.2 MB\u001b[0m \u001b[31m26.3 MB/s\u001b[0m eta \u001b[36m0:00:00\u001b[0m\n",
            "\u001b[?25hDownloading hydra_core-1.3.2-py3-none-any.whl (154 kB)\n",
            "\u001b[2K   \u001b[90m━━━━━━━━━━━━━━━━━━━━━━━━━━━━━━━━━━━━━━━━\u001b[0m \u001b[32m154.5/154.5 kB\u001b[0m \u001b[31m15.4 MB/s\u001b[0m eta \u001b[36m0:00:00\u001b[0m\n",
            "\u001b[?25hDownloading torchaudio-2.1.0-cp310-cp310-manylinux1_x86_64.whl (3.3 MB)\n",
            "\u001b[2K   \u001b[90m━━━━━━━━━━━━━━━━━━━━━━━━━━━━━━━━━━━━━━━━\u001b[0m \u001b[32m3.3/3.3 MB\u001b[0m \u001b[31m99.1 MB/s\u001b[0m eta \u001b[36m0:00:00\u001b[0m\n",
            "\u001b[?25hDownloading xformers-0.0.22.post7-cp310-cp310-manylinux2014_x86_64.whl (211.8 MB)\n",
            "\u001b[2K   \u001b[90m━━━━━━━━━━━━━━━━━━━━━━━━━━━━━━━━━━━━━━━━\u001b[0m \u001b[32m211.8/211.8 MB\u001b[0m \u001b[31m4.1 MB/s\u001b[0m eta \u001b[36m0:00:00\u001b[0m\n",
            "\u001b[?25hDownloading audioseal-0.1.4-py3-none-any.whl (21 kB)\n",
            "Downloading gradio-5.7.1-py3-none-any.whl (57.1 MB)\n",
            "\u001b[2K   \u001b[90m━━━━━━━━━━━━━━━━━━━━━━━━━━━━━━━━━━━━━━━━\u001b[0m \u001b[32m57.1/57.1 MB\u001b[0m \u001b[31m28.2 MB/s\u001b[0m eta \u001b[36m0:00:00\u001b[0m\n",
            "\u001b[?25hDownloading gradio_client-1.5.0-py3-none-any.whl (320 kB)\n",
            "\u001b[2K   \u001b[90m━━━━━━━━━━━━━━━━━━━━━━━━━━━━━━━━━━━━━━━━\u001b[0m \u001b[32m320.1/320.1 kB\u001b[0m \u001b[31m27.7 MB/s\u001b[0m eta \u001b[36m0:00:00\u001b[0m\n",
            "\u001b[?25hDownloading python_multipart-0.0.12-py3-none-any.whl (23 kB)\n",
            "Downloading tomlkit-0.12.0-py3-none-any.whl (37 kB)\n",
            "Downloading hydra_colorlog-1.2.0-py3-none-any.whl (3.6 kB)\n",
            "Downloading num2words-0.5.13-py3-none-any.whl (143 kB)\n",
            "\u001b[2K   \u001b[90m━━━━━━━━━━━━━━━━━━━━━━━━━━━━━━━━━━━━━━━━\u001b[0m \u001b[32m143.3/143.3 kB\u001b[0m \u001b[31m13.9 MB/s\u001b[0m eta \u001b[36m0:00:00\u001b[0m\n",
            "\u001b[?25hDownloading pystoi-0.4.1-py2.py3-none-any.whl (8.2 kB)\n",
            "Downloading torchmetrics-1.6.0-py3-none-any.whl (926 kB)\n",
            "\u001b[2K   \u001b[90m━━━━━━━━━━━━━━━━━━━━━━━━━━━━━━━━━━━━━━━━\u001b[0m \u001b[32m926.4/926.4 kB\u001b[0m \u001b[31m55.3 MB/s\u001b[0m eta \u001b[36m0:00:00\u001b[0m\n",
            "\u001b[?25hDownloading aiofiles-23.2.1-py3-none-any.whl (15 kB)\n",
            "Downloading fastapi-0.115.5-py3-none-any.whl (94 kB)\n",
            "\u001b[2K   \u001b[90m━━━━━━━━━━━━━━━━━━━━━━━━━━━━━━━━━━━━━━━━\u001b[0m \u001b[32m94.9/94.9 kB\u001b[0m \u001b[31m9.0 MB/s\u001b[0m eta \u001b[36m0:00:00\u001b[0m\n",
            "\u001b[?25hDownloading lameenc-1.7.0-cp310-cp310-manylinux_2_17_x86_64.manylinux2014_x86_64.manylinux_2_28_x86_64.whl (239 kB)\n",
            "\u001b[2K   \u001b[90m━━━━━━━━━━━━━━━━━━━━━━━━━━━━━━━━━━━━━━━━\u001b[0m \u001b[32m239.8/239.8 kB\u001b[0m \u001b[31m20.4 MB/s\u001b[0m eta \u001b[36m0:00:00\u001b[0m\n",
            "\u001b[?25hDownloading lightning_utilities-0.11.9-py3-none-any.whl (28 kB)\n",
            "Downloading MarkupSafe-2.1.5-cp310-cp310-manylinux_2_17_x86_64.manylinux2014_x86_64.whl (25 kB)\n",
            "Downloading omegaconf-2.3.0-py3-none-any.whl (79 kB)\n",
            "\u001b[2K   \u001b[90m━━━━━━━━━━━━━━━━━━━━━━━━━━━━━━━━━━━━━━━━\u001b[0m \u001b[32m79.5/79.5 kB\u001b[0m \u001b[31m7.5 MB/s\u001b[0m eta \u001b[36m0:00:00\u001b[0m\n",
            "\u001b[?25hDownloading ruff-0.8.1-py3-none-manylinux_2_17_x86_64.manylinux2014_x86_64.whl (11.2 MB)\n",
            "\u001b[2K   \u001b[90m━━━━━━━━━━━━━━━━━━━━━━━━━━━━━━━━━━━━━━━━\u001b[0m \u001b[32m11.2/11.2 MB\u001b[0m \u001b[31m43.2 MB/s\u001b[0m eta \u001b[36m0:00:00\u001b[0m\n",
            "\u001b[?25hDownloading safehttpx-0.1.1-py3-none-any.whl (8.4 kB)\n",
            "Downloading semantic_version-2.10.0-py2.py3-none-any.whl (15 kB)\n",
            "Downloading starlette-0.41.3-py3-none-any.whl (73 kB)\n",
            "\u001b[2K   \u001b[90m━━━━━━━━━━━━━━━━━━━━━━━━━━━━━━━━━━━━━━━━\u001b[0m \u001b[32m73.2/73.2 kB\u001b[0m \u001b[31m7.3 MB/s\u001b[0m eta \u001b[36m0:00:00\u001b[0m\n",
            "\u001b[?25hDownloading uvicorn-0.32.1-py3-none-any.whl (63 kB)\n",
            "\u001b[2K   \u001b[90m━━━━━━━━━━━━━━━━━━━━━━━━━━━━━━━━━━━━━━━━\u001b[0m \u001b[32m63.8/63.8 kB\u001b[0m \u001b[31m6.6 MB/s\u001b[0m eta \u001b[36m0:00:00\u001b[0m\n",
            "\u001b[?25hDownloading colorlog-6.9.0-py3-none-any.whl (11 kB)\n",
            "Downloading ffmpy-0.4.0-py3-none-any.whl (5.8 kB)\n",
            "Downloading openunmix-1.3.0-py3-none-any.whl (40 kB)\n",
            "\u001b[2K   \u001b[90m━━━━━━━━━━━━━━━━━━━━━━━━━━━━━━━━━━━━━━━━\u001b[0m \u001b[32m40.0/40.0 kB\u001b[0m \u001b[31m3.6 MB/s\u001b[0m eta \u001b[36m0:00:00\u001b[0m\n",
            "\u001b[?25hDownloading pydub-0.25.1-py2.py3-none-any.whl (32 kB)\n",
            "Downloading websockets-12.0-cp310-cp310-manylinux_2_5_x86_64.manylinux1_x86_64.manylinux_2_17_x86_64.manylinux2014_x86_64.whl (130 kB)\n",
            "\u001b[2K   \u001b[90m━━━━━━━━━━━━━━━━━━━━━━━━━━━━━━━━━━━━━━━━\u001b[0m \u001b[32m130.2/130.2 kB\u001b[0m \u001b[31m12.7 MB/s\u001b[0m eta \u001b[36m0:00:00\u001b[0m\n",
            "\u001b[?25hDownloading retrying-1.3.4-py3-none-any.whl (11 kB)\n",
            "Downloading submitit-1.5.2-py3-none-any.whl (74 kB)\n",
            "\u001b[2K   \u001b[90m━━━━━━━━━━━━━━━━━━━━━━━━━━━━━━━━━━━━━━━━\u001b[0m \u001b[32m74.9/74.9 kB\u001b[0m \u001b[31m8.4 MB/s\u001b[0m eta \u001b[36m0:00:00\u001b[0m\n",
            "\u001b[?25hBuilding wheels for collected packages: flashy, antlr4-python3-runtime, demucs, julius, encodec, pesq, docopt, dora_search, treetable\n",
            "  Building wheel for flashy (pyproject.toml) ... \u001b[?25l\u001b[?25hdone\n",
            "  Created wheel for flashy: filename=flashy-0.0.2-py3-none-any.whl size=34528 sha256=63372e5fc9713d88a2e7a13a50f773560e1f9c61db26a5746e67ea3583bb523e\n",
            "  Stored in directory: /root/.cache/pip/wheels/07/bd/3d/16c6bc059203299f37b6014643b739afb7f6d1be13a94fc2f7\n",
            "  Building wheel for antlr4-python3-runtime (setup.py) ... \u001b[?25l\u001b[?25hdone\n",
            "  Created wheel for antlr4-python3-runtime: filename=antlr4_python3_runtime-4.9.3-py3-none-any.whl size=144555 sha256=32b7448cc6093e91b6a644b90b23749b41119b7e5e6455214658e1104fd386ee\n",
            "  Stored in directory: /root/.cache/pip/wheels/12/93/dd/1f6a127edc45659556564c5730f6d4e300888f4bca2d4c5a88\n",
            "  Building wheel for demucs (setup.py) ... \u001b[?25l\u001b[?25hdone\n",
            "  Created wheel for demucs: filename=demucs-4.0.1-py3-none-any.whl size=78388 sha256=d570fa2667954533644e74907d7f110a47dcbb496b7deebe8a348ce23cca8ab5\n",
            "  Stored in directory: /root/.cache/pip/wheels/2a/65/a1/6cc0e525a84375af3b09823b3326b0ece53c4e68302c054548\n",
            "  Building wheel for julius (setup.py) ... \u001b[?25l\u001b[?25hdone\n",
            "  Created wheel for julius: filename=julius-0.2.7-py3-none-any.whl size=21869 sha256=236fe6f15ee516a27e77b05fa09e40315bb69572d0e3fb6207476ea369b87941\n",
            "  Stored in directory: /root/.cache/pip/wheels/b9/b2/05/f883527ffcb7f2ead5438a2c23439aa0c881eaa9a4c80256f4\n",
            "  Building wheel for encodec (setup.py) ... \u001b[?25l\u001b[?25hdone\n",
            "  Created wheel for encodec: filename=encodec-0.1.1-py3-none-any.whl size=45760 sha256=3132164680fc6d67a3ac368703943713aba26103759f61a7abb1f4ee2df69451\n",
            "  Stored in directory: /root/.cache/pip/wheels/fc/36/cb/81af8b985a5f5e0815312d5e52b41263237af07b977e6bcbf3\n",
            "  Building wheel for pesq (setup.py) ... \u001b[?25l\u001b[?25hdone\n",
            "  Created wheel for pesq: filename=pesq-0.0.4-cp310-cp310-linux_x86_64.whl size=262946 sha256=9d0527876195b34b806948105b4310b7bae1115ed125c0efed7090a8da559bc4\n",
            "  Stored in directory: /root/.cache/pip/wheels/c5/4e/2c/251524370c0fdd659e99639a0fbd0ca5a782c3aafcd456b28d\n",
            "  Building wheel for docopt (setup.py) ... \u001b[?25l\u001b[?25hdone\n",
            "  Created wheel for docopt: filename=docopt-0.6.2-py2.py3-none-any.whl size=13706 sha256=ed5656f6b8cb9bbd72d0d24bcd00daeafaee55a9c8cc5c074441dabdbb00b57f\n",
            "  Stored in directory: /root/.cache/pip/wheels/fc/ab/d4/5da2067ac95b36618c629a5f93f809425700506f72c9732fac\n",
            "  Building wheel for dora_search (pyproject.toml) ... \u001b[?25l\u001b[?25hdone\n",
            "  Created wheel for dora_search: filename=dora_search-0.1.12-py3-none-any.whl size=75096 sha256=17795878ce238065915fe1ddd356e567f5cf50f3c1a3bdc0bcbc82ec7822b9ea\n",
            "  Stored in directory: /root/.cache/pip/wheels/b1/c2/c0/bea5cc405497284d584b958f293ef32c23bad42ae5e44d973c\n",
            "  Building wheel for treetable (setup.py) ... \u001b[?25l\u001b[?25hdone\n",
            "  Created wheel for treetable: filename=treetable-0.2.5-py3-none-any.whl size=7334 sha256=fbc8c65dcfbf7093855af13769c7d9732fe4ddaa2ef59bc613b39c3354087349\n",
            "  Stored in directory: /root/.cache/pip/wheels/72/55/0e/91c3655bdb162446f8a7cd477579397544454a63ae7c599c0c\n",
            "Successfully built flashy antlr4-python3-runtime demucs julius encodec pesq docopt dora_search treetable\n",
            "Installing collected packages: pydub, pesq, lameenc, docopt, antlr4-python3-runtime, websockets, uvicorn, triton, treetable, tomlkit, submitit, semantic-version, ruff, retrying, python-multipart, omegaconf, nvidia-nvtx-cu12, nvidia-nccl-cu12, nvidia-cusparse-cu12, nvidia-curand-cu12, nvidia-cufft-cu12, nvidia-cuda-runtime-cu12, nvidia-cuda-nvrtc-cu12, nvidia-cuda-cupti-cu12, nvidia-cublas-cu12, num2words, markupsafe, lightning-utilities, ffmpy, colorlog, av, aiofiles, starlette, pystoi, nvidia-cusolver-cu12, nvidia-cudnn-cu12, hydra-core, torch, safehttpx, hydra_colorlog, gradio-client, fastapi, xformers, torchvision, torchmetrics, torchdata, torchaudio, julius, gradio, dora_search, torchtext, spacy, openunmix, flashy, encodec, audioseal, demucs, audiocraft\n",
            "  Attempting uninstall: nvidia-nccl-cu12\n",
            "    Found existing installation: nvidia-nccl-cu12 2.23.4\n",
            "    Uninstalling nvidia-nccl-cu12-2.23.4:\n",
            "      Successfully uninstalled nvidia-nccl-cu12-2.23.4\n",
            "  Attempting uninstall: nvidia-cusparse-cu12\n",
            "    Found existing installation: nvidia-cusparse-cu12 12.5.4.2\n",
            "    Uninstalling nvidia-cusparse-cu12-12.5.4.2:\n",
            "      Successfully uninstalled nvidia-cusparse-cu12-12.5.4.2\n",
            "  Attempting uninstall: nvidia-curand-cu12\n",
            "    Found existing installation: nvidia-curand-cu12 10.3.7.77\n",
            "    Uninstalling nvidia-curand-cu12-10.3.7.77:\n",
            "      Successfully uninstalled nvidia-curand-cu12-10.3.7.77\n",
            "  Attempting uninstall: nvidia-cufft-cu12\n",
            "    Found existing installation: nvidia-cufft-cu12 11.3.0.4\n",
            "    Uninstalling nvidia-cufft-cu12-11.3.0.4:\n",
            "      Successfully uninstalled nvidia-cufft-cu12-11.3.0.4\n",
            "  Attempting uninstall: nvidia-cuda-runtime-cu12\n",
            "    Found existing installation: nvidia-cuda-runtime-cu12 12.6.77\n",
            "    Uninstalling nvidia-cuda-runtime-cu12-12.6.77:\n",
            "      Successfully uninstalled nvidia-cuda-runtime-cu12-12.6.77\n",
            "  Attempting uninstall: nvidia-cuda-cupti-cu12\n",
            "    Found existing installation: nvidia-cuda-cupti-cu12 12.6.80\n",
            "    Uninstalling nvidia-cuda-cupti-cu12-12.6.80:\n",
            "      Successfully uninstalled nvidia-cuda-cupti-cu12-12.6.80\n",
            "  Attempting uninstall: nvidia-cublas-cu12\n",
            "    Found existing installation: nvidia-cublas-cu12 12.6.3.3\n",
            "    Uninstalling nvidia-cublas-cu12-12.6.3.3:\n",
            "      Successfully uninstalled nvidia-cublas-cu12-12.6.3.3\n",
            "  Attempting uninstall: markupsafe\n",
            "    Found existing installation: MarkupSafe 3.0.2\n",
            "    Uninstalling MarkupSafe-3.0.2:\n",
            "      Successfully uninstalled MarkupSafe-3.0.2\n",
            "  Attempting uninstall: nvidia-cusolver-cu12\n",
            "    Found existing installation: nvidia-cusolver-cu12 11.7.1.2\n",
            "    Uninstalling nvidia-cusolver-cu12-11.7.1.2:\n",
            "      Successfully uninstalled nvidia-cusolver-cu12-11.7.1.2\n",
            "  Attempting uninstall: nvidia-cudnn-cu12\n",
            "    Found existing installation: nvidia-cudnn-cu12 9.5.1.17\n",
            "    Uninstalling nvidia-cudnn-cu12-9.5.1.17:\n",
            "      Successfully uninstalled nvidia-cudnn-cu12-9.5.1.17\n",
            "  Attempting uninstall: torch\n",
            "    Found existing installation: torch 2.5.1+cu121\n",
            "    Uninstalling torch-2.5.1+cu121:\n",
            "      Successfully uninstalled torch-2.5.1+cu121\n",
            "  Attempting uninstall: torchvision\n",
            "    Found existing installation: torchvision 0.20.1+cu121\n",
            "    Uninstalling torchvision-0.20.1+cu121:\n",
            "      Successfully uninstalled torchvision-0.20.1+cu121\n",
            "  Attempting uninstall: torchaudio\n",
            "    Found existing installation: torchaudio 2.5.1+cu121\n",
            "    Uninstalling torchaudio-2.5.1+cu121:\n",
            "      Successfully uninstalled torchaudio-2.5.1+cu121\n",
            "  Attempting uninstall: spacy\n",
            "    Found existing installation: spacy 3.7.5\n",
            "    Uninstalling spacy-3.7.5:\n",
            "      Successfully uninstalled spacy-3.7.5\n",
            "  Running setup.py develop for audiocraft\n",
            "Successfully installed aiofiles-23.2.1 antlr4-python3-runtime-4.9.3 audiocraft-1.4.0a1 audioseal-0.1.4 av-11.0.0 colorlog-6.9.0 demucs-4.0.1 docopt-0.6.2 dora_search-0.1.12 encodec-0.1.1 fastapi-0.115.5 ffmpy-0.4.0 flashy-0.0.2 gradio-5.7.1 gradio-client-1.5.0 hydra-core-1.3.2 hydra_colorlog-1.2.0 julius-0.2.7 lameenc-1.7.0 lightning-utilities-0.11.9 markupsafe-2.1.5 num2words-0.5.13 nvidia-cublas-cu12-12.1.3.1 nvidia-cuda-cupti-cu12-12.1.105 nvidia-cuda-nvrtc-cu12-12.1.105 nvidia-cuda-runtime-cu12-12.1.105 nvidia-cudnn-cu12-8.9.2.26 nvidia-cufft-cu12-11.0.2.54 nvidia-curand-cu12-10.3.2.106 nvidia-cusolver-cu12-11.4.5.107 nvidia-cusparse-cu12-12.1.0.106 nvidia-nccl-cu12-2.18.1 nvidia-nvtx-cu12-12.1.105 omegaconf-2.3.0 openunmix-1.3.0 pesq-0.0.4 pydub-0.25.1 pystoi-0.4.1 python-multipart-0.0.12 retrying-1.3.4 ruff-0.8.1 safehttpx-0.1.1 semantic-version-2.10.0 spacy-3.7.6 starlette-0.41.3 submitit-1.5.2 tomlkit-0.12.0 torch-2.1.0 torchaudio-2.1.0 torchdata-0.7.0 torchmetrics-1.6.0 torchtext-0.16.0 torchvision-0.16.0 treetable-0.2.5 triton-2.1.0 uvicorn-0.32.1 websockets-12.0 xformers-0.0.22.post7\n"
          ]
        },
        {
          "output_type": "display_data",
          "data": {
            "application/vnd.colab-display-data+json": {
              "pip_warning": {
                "packages": [
                  "pydevd_plugins"
                ]
              },
              "id": "cfa2b4b189fc45b59aac852cce4102ca"
            }
          },
          "metadata": {}
        }
      ]
    },
    {
      "cell_type": "code",
      "source": [
        "# Clone and install AudioSeal from source\n",
        "!git clone https://github.com/facebookresearch/audioseal.git\n",
        "%cd audioseal\n",
        "!pip install -e ."
      ],
      "metadata": {
        "id": "BiNg9gURJhtE",
        "colab": {
          "base_uri": "https://localhost:8080/"
        },
        "outputId": "42b91360-ea06-4aaa-ade9-ffa1028b2183"
      },
      "execution_count": null,
      "outputs": [
        {
          "output_type": "stream",
          "name": "stdout",
          "text": [
            "Cloning into 'audioseal'...\n",
            "remote: Enumerating objects: 236, done.\u001b[K\n",
            "remote: Counting objects: 100% (84/84), done.\u001b[K\n",
            "remote: Compressing objects: 100% (49/49), done.\u001b[K\n",
            "^C\n",
            "[Errno 2] No such file or directory: 'audioseal'\n",
            "/content/audiocraft\n",
            "Obtaining file:///content/audiocraft\n",
            "  Preparing metadata (setup.py) ... \u001b[?25l\u001b[?25hdone\n",
            "Requirement already satisfied: av==11.0.0 in /usr/local/lib/python3.10/dist-packages (from audiocraft==1.4.0a1) (11.0.0)\n",
            "Requirement already satisfied: einops in /usr/local/lib/python3.10/dist-packages (from audiocraft==1.4.0a1) (0.8.0)\n",
            "Requirement already satisfied: flashy>=0.0.1 in /usr/local/lib/python3.10/dist-packages (from audiocraft==1.4.0a1) (0.0.2)\n",
            "Requirement already satisfied: hydra-core>=1.1 in /usr/local/lib/python3.10/dist-packages (from audiocraft==1.4.0a1) (1.3.2)\n",
            "Requirement already satisfied: hydra_colorlog in /usr/local/lib/python3.10/dist-packages (from audiocraft==1.4.0a1) (1.2.0)\n",
            "Requirement already satisfied: julius in /usr/local/lib/python3.10/dist-packages (from audiocraft==1.4.0a1) (0.2.7)\n",
            "Requirement already satisfied: num2words in /usr/local/lib/python3.10/dist-packages (from audiocraft==1.4.0a1) (0.5.13)\n",
            "Requirement already satisfied: numpy<2.0.0 in /usr/local/lib/python3.10/dist-packages (from audiocraft==1.4.0a1) (1.26.4)\n",
            "Requirement already satisfied: sentencepiece in /usr/local/lib/python3.10/dist-packages (from audiocraft==1.4.0a1) (0.2.0)\n",
            "Requirement already satisfied: spacy==3.7.6 in /usr/local/lib/python3.10/dist-packages (from audiocraft==1.4.0a1) (3.7.6)\n",
            "Requirement already satisfied: torch==2.1.0 in /usr/local/lib/python3.10/dist-packages (from audiocraft==1.4.0a1) (2.1.0)\n",
            "Requirement already satisfied: torchaudio<2.1.2,>=2.0.0 in /usr/local/lib/python3.10/dist-packages (from audiocraft==1.4.0a1) (2.1.0)\n",
            "Requirement already satisfied: huggingface_hub in /usr/local/lib/python3.10/dist-packages (from audiocraft==1.4.0a1) (0.26.2)\n",
            "Requirement already satisfied: tqdm in /usr/local/lib/python3.10/dist-packages (from audiocraft==1.4.0a1) (4.66.6)\n",
            "Requirement already satisfied: transformers>=4.31.0 in /usr/local/lib/python3.10/dist-packages (from audiocraft==1.4.0a1) (4.46.2)\n",
            "Requirement already satisfied: xformers<0.0.23 in /usr/local/lib/python3.10/dist-packages (from audiocraft==1.4.0a1) (0.0.22.post7)\n",
            "Requirement already satisfied: demucs in /usr/local/lib/python3.10/dist-packages (from audiocraft==1.4.0a1) (4.0.1)\n",
            "Requirement already satisfied: librosa in /usr/local/lib/python3.10/dist-packages (from audiocraft==1.4.0a1) (0.10.2.post1)\n",
            "Requirement already satisfied: soundfile in /usr/local/lib/python3.10/dist-packages (from audiocraft==1.4.0a1) (0.12.1)\n",
            "Requirement already satisfied: gradio in /usr/local/lib/python3.10/dist-packages (from audiocraft==1.4.0a1) (5.7.1)\n",
            "Requirement already satisfied: torchmetrics in /usr/local/lib/python3.10/dist-packages (from audiocraft==1.4.0a1) (1.6.0)\n",
            "Requirement already satisfied: encodec in /usr/local/lib/python3.10/dist-packages (from audiocraft==1.4.0a1) (0.1.1)\n",
            "Requirement already satisfied: protobuf in /usr/local/lib/python3.10/dist-packages (from audiocraft==1.4.0a1) (4.25.5)\n",
            "Requirement already satisfied: torchvision==0.16.0 in /usr/local/lib/python3.10/dist-packages (from audiocraft==1.4.0a1) (0.16.0)\n",
            "Requirement already satisfied: torchtext==0.16.0 in /usr/local/lib/python3.10/dist-packages (from audiocraft==1.4.0a1) (0.16.0)\n",
            "Requirement already satisfied: pesq in /usr/local/lib/python3.10/dist-packages (from audiocraft==1.4.0a1) (0.0.4)\n",
            "Requirement already satisfied: pystoi in /usr/local/lib/python3.10/dist-packages (from audiocraft==1.4.0a1) (0.4.1)\n",
            "Requirement already satisfied: spacy-legacy<3.1.0,>=3.0.11 in /usr/local/lib/python3.10/dist-packages (from spacy==3.7.6->audiocraft==1.4.0a1) (3.0.12)\n",
            "Requirement already satisfied: spacy-loggers<2.0.0,>=1.0.0 in /usr/local/lib/python3.10/dist-packages (from spacy==3.7.6->audiocraft==1.4.0a1) (1.0.5)\n",
            "Requirement already satisfied: murmurhash<1.1.0,>=0.28.0 in /usr/local/lib/python3.10/dist-packages (from spacy==3.7.6->audiocraft==1.4.0a1) (1.0.10)\n",
            "Requirement already satisfied: cymem<2.1.0,>=2.0.2 in /usr/local/lib/python3.10/dist-packages (from spacy==3.7.6->audiocraft==1.4.0a1) (2.0.8)\n",
            "Requirement already satisfied: preshed<3.1.0,>=3.0.2 in /usr/local/lib/python3.10/dist-packages (from spacy==3.7.6->audiocraft==1.4.0a1) (3.0.9)\n",
            "Requirement already satisfied: thinc<8.3.0,>=8.2.2 in /usr/local/lib/python3.10/dist-packages (from spacy==3.7.6->audiocraft==1.4.0a1) (8.2.5)\n",
            "Requirement already satisfied: wasabi<1.2.0,>=0.9.1 in /usr/local/lib/python3.10/dist-packages (from spacy==3.7.6->audiocraft==1.4.0a1) (1.1.3)\n",
            "Requirement already satisfied: srsly<3.0.0,>=2.4.3 in /usr/local/lib/python3.10/dist-packages (from spacy==3.7.6->audiocraft==1.4.0a1) (2.4.8)\n",
            "Requirement already satisfied: catalogue<2.1.0,>=2.0.6 in /usr/local/lib/python3.10/dist-packages (from spacy==3.7.6->audiocraft==1.4.0a1) (2.0.10)\n",
            "Requirement already satisfied: weasel<0.5.0,>=0.1.0 in /usr/local/lib/python3.10/dist-packages (from spacy==3.7.6->audiocraft==1.4.0a1) (0.4.1)\n",
            "Requirement already satisfied: typer<1.0.0,>=0.3.0 in /usr/local/lib/python3.10/dist-packages (from spacy==3.7.6->audiocraft==1.4.0a1) (0.13.0)\n",
            "Requirement already satisfied: requests<3.0.0,>=2.13.0 in /usr/local/lib/python3.10/dist-packages (from spacy==3.7.6->audiocraft==1.4.0a1) (2.32.3)\n",
            "Requirement already satisfied: pydantic!=1.8,!=1.8.1,<3.0.0,>=1.7.4 in /usr/local/lib/python3.10/dist-packages (from spacy==3.7.6->audiocraft==1.4.0a1) (2.9.2)\n",
            "Requirement already satisfied: jinja2 in /usr/local/lib/python3.10/dist-packages (from spacy==3.7.6->audiocraft==1.4.0a1) (3.1.4)\n",
            "Requirement already satisfied: setuptools in /usr/local/lib/python3.10/dist-packages (from spacy==3.7.6->audiocraft==1.4.0a1) (75.1.0)\n",
            "Requirement already satisfied: packaging>=20.0 in /usr/local/lib/python3.10/dist-packages (from spacy==3.7.6->audiocraft==1.4.0a1) (24.2)\n",
            "Requirement already satisfied: langcodes<4.0.0,>=3.2.0 in /usr/local/lib/python3.10/dist-packages (from spacy==3.7.6->audiocraft==1.4.0a1) (3.4.1)\n",
            "Requirement already satisfied: filelock in /usr/local/lib/python3.10/dist-packages (from torch==2.1.0->audiocraft==1.4.0a1) (3.16.1)\n",
            "Requirement already satisfied: typing-extensions in /usr/local/lib/python3.10/dist-packages (from torch==2.1.0->audiocraft==1.4.0a1) (4.12.2)\n",
            "Requirement already satisfied: sympy in /usr/local/lib/python3.10/dist-packages (from torch==2.1.0->audiocraft==1.4.0a1) (1.13.1)\n",
            "Requirement already satisfied: networkx in /usr/local/lib/python3.10/dist-packages (from torch==2.1.0->audiocraft==1.4.0a1) (3.4.2)\n",
            "Requirement already satisfied: fsspec in /usr/local/lib/python3.10/dist-packages (from torch==2.1.0->audiocraft==1.4.0a1) (2024.10.0)\n",
            "Requirement already satisfied: nvidia-cuda-nvrtc-cu12==12.1.105 in /usr/local/lib/python3.10/dist-packages (from torch==2.1.0->audiocraft==1.4.0a1) (12.1.105)\n",
            "Requirement already satisfied: nvidia-cuda-runtime-cu12==12.1.105 in /usr/local/lib/python3.10/dist-packages (from torch==2.1.0->audiocraft==1.4.0a1) (12.1.105)\n",
            "Requirement already satisfied: nvidia-cuda-cupti-cu12==12.1.105 in /usr/local/lib/python3.10/dist-packages (from torch==2.1.0->audiocraft==1.4.0a1) (12.1.105)\n",
            "Requirement already satisfied: nvidia-cudnn-cu12==8.9.2.26 in /usr/local/lib/python3.10/dist-packages (from torch==2.1.0->audiocraft==1.4.0a1) (8.9.2.26)\n",
            "Requirement already satisfied: nvidia-cublas-cu12==12.1.3.1 in /usr/local/lib/python3.10/dist-packages (from torch==2.1.0->audiocraft==1.4.0a1) (12.1.3.1)\n",
            "Requirement already satisfied: nvidia-cufft-cu12==11.0.2.54 in /usr/local/lib/python3.10/dist-packages (from torch==2.1.0->audiocraft==1.4.0a1) (11.0.2.54)\n",
            "Requirement already satisfied: nvidia-curand-cu12==10.3.2.106 in /usr/local/lib/python3.10/dist-packages (from torch==2.1.0->audiocraft==1.4.0a1) (10.3.2.106)\n",
            "Requirement already satisfied: nvidia-cusolver-cu12==11.4.5.107 in /usr/local/lib/python3.10/dist-packages (from torch==2.1.0->audiocraft==1.4.0a1) (11.4.5.107)\n",
            "Requirement already satisfied: nvidia-cusparse-cu12==12.1.0.106 in /usr/local/lib/python3.10/dist-packages (from torch==2.1.0->audiocraft==1.4.0a1) (12.1.0.106)\n",
            "Requirement already satisfied: nvidia-nccl-cu12==2.18.1 in /usr/local/lib/python3.10/dist-packages (from torch==2.1.0->audiocraft==1.4.0a1) (2.18.1)\n",
            "Requirement already satisfied: nvidia-nvtx-cu12==12.1.105 in /usr/local/lib/python3.10/dist-packages (from torch==2.1.0->audiocraft==1.4.0a1) (12.1.105)\n",
            "Requirement already satisfied: triton==2.1.0 in /usr/local/lib/python3.10/dist-packages (from torch==2.1.0->audiocraft==1.4.0a1) (2.1.0)\n",
            "Requirement already satisfied: torchdata==0.7.0 in /usr/local/lib/python3.10/dist-packages (from torchtext==0.16.0->audiocraft==1.4.0a1) (0.7.0)\n",
            "Requirement already satisfied: pillow!=8.3.*,>=5.3.0 in /usr/local/lib/python3.10/dist-packages (from torchvision==0.16.0->audiocraft==1.4.0a1) (11.0.0)\n",
            "Requirement already satisfied: nvidia-nvjitlink-cu12 in /usr/local/lib/python3.10/dist-packages (from nvidia-cusolver-cu12==11.4.5.107->torch==2.1.0->audiocraft==1.4.0a1) (12.6.77)\n",
            "Requirement already satisfied: urllib3>=1.25 in /usr/local/lib/python3.10/dist-packages (from torchdata==0.7.0->torchtext==0.16.0->audiocraft==1.4.0a1) (2.2.3)\n",
            "Requirement already satisfied: dora_search in /usr/local/lib/python3.10/dist-packages (from flashy>=0.0.1->audiocraft==1.4.0a1) (0.1.12)\n",
            "Requirement already satisfied: colorlog in /usr/local/lib/python3.10/dist-packages (from flashy>=0.0.1->audiocraft==1.4.0a1) (6.9.0)\n",
            "Requirement already satisfied: omegaconf<2.4,>=2.2 in /usr/local/lib/python3.10/dist-packages (from hydra-core>=1.1->audiocraft==1.4.0a1) (2.3.0)\n",
            "Requirement already satisfied: antlr4-python3-runtime==4.9.* in /usr/local/lib/python3.10/dist-packages (from hydra-core>=1.1->audiocraft==1.4.0a1) (4.9.3)\n",
            "Requirement already satisfied: pyyaml>=5.1 in /usr/local/lib/python3.10/dist-packages (from transformers>=4.31.0->audiocraft==1.4.0a1) (6.0.2)\n",
            "Requirement already satisfied: regex!=2019.12.17 in /usr/local/lib/python3.10/dist-packages (from transformers>=4.31.0->audiocraft==1.4.0a1) (2024.9.11)\n",
            "Requirement already satisfied: safetensors>=0.4.1 in /usr/local/lib/python3.10/dist-packages (from transformers>=4.31.0->audiocraft==1.4.0a1) (0.4.5)\n",
            "Requirement already satisfied: tokenizers<0.21,>=0.20 in /usr/local/lib/python3.10/dist-packages (from transformers>=4.31.0->audiocraft==1.4.0a1) (0.20.3)\n",
            "Requirement already satisfied: lameenc>=1.2 in /usr/local/lib/python3.10/dist-packages (from demucs->audiocraft==1.4.0a1) (1.7.0)\n",
            "Requirement already satisfied: openunmix in /usr/local/lib/python3.10/dist-packages (from demucs->audiocraft==1.4.0a1) (1.3.0)\n",
            "Requirement already satisfied: aiofiles<24.0,>=22.0 in /usr/local/lib/python3.10/dist-packages (from gradio->audiocraft==1.4.0a1) (23.2.1)\n",
            "Requirement already satisfied: anyio<5.0,>=3.0 in /usr/local/lib/python3.10/dist-packages (from gradio->audiocraft==1.4.0a1) (3.7.1)\n",
            "Requirement already satisfied: fastapi<1.0,>=0.115.2 in /usr/local/lib/python3.10/dist-packages (from gradio->audiocraft==1.4.0a1) (0.115.5)\n",
            "Requirement already satisfied: ffmpy in /usr/local/lib/python3.10/dist-packages (from gradio->audiocraft==1.4.0a1) (0.4.0)\n",
            "Requirement already satisfied: gradio-client==1.5.0 in /usr/local/lib/python3.10/dist-packages (from gradio->audiocraft==1.4.0a1) (1.5.0)\n",
            "Requirement already satisfied: httpx>=0.24.1 in /usr/local/lib/python3.10/dist-packages (from gradio->audiocraft==1.4.0a1) (0.27.2)\n",
            "Requirement already satisfied: markupsafe~=2.0 in /usr/local/lib/python3.10/dist-packages (from gradio->audiocraft==1.4.0a1) (2.1.5)\n",
            "Requirement already satisfied: orjson~=3.0 in /usr/local/lib/python3.10/dist-packages (from gradio->audiocraft==1.4.0a1) (3.10.11)\n",
            "Requirement already satisfied: pandas<3.0,>=1.0 in /usr/local/lib/python3.10/dist-packages (from gradio->audiocraft==1.4.0a1) (2.2.2)\n",
            "Requirement already satisfied: pydub in /usr/local/lib/python3.10/dist-packages (from gradio->audiocraft==1.4.0a1) (0.25.1)\n",
            "Requirement already satisfied: python-multipart==0.0.12 in /usr/local/lib/python3.10/dist-packages (from gradio->audiocraft==1.4.0a1) (0.0.12)\n",
            "Requirement already satisfied: ruff>=0.2.2 in /usr/local/lib/python3.10/dist-packages (from gradio->audiocraft==1.4.0a1) (0.8.1)\n",
            "Requirement already satisfied: safehttpx<1.0,>=0.1.1 in /usr/local/lib/python3.10/dist-packages (from gradio->audiocraft==1.4.0a1) (0.1.1)\n",
            "Requirement already satisfied: semantic-version~=2.0 in /usr/local/lib/python3.10/dist-packages (from gradio->audiocraft==1.4.0a1) (2.10.0)\n",
            "Requirement already satisfied: starlette<1.0,>=0.40.0 in /usr/local/lib/python3.10/dist-packages (from gradio->audiocraft==1.4.0a1) (0.41.3)\n",
            "Requirement already satisfied: tomlkit==0.12.0 in /usr/local/lib/python3.10/dist-packages (from gradio->audiocraft==1.4.0a1) (0.12.0)\n",
            "Requirement already satisfied: uvicorn>=0.14.0 in /usr/local/lib/python3.10/dist-packages (from gradio->audiocraft==1.4.0a1) (0.32.1)\n",
            "Requirement already satisfied: websockets<13.0,>=10.0 in /usr/local/lib/python3.10/dist-packages (from gradio-client==1.5.0->gradio->audiocraft==1.4.0a1) (12.0)\n",
            "Requirement already satisfied: audioread>=2.1.9 in /usr/local/lib/python3.10/dist-packages (from librosa->audiocraft==1.4.0a1) (3.0.1)\n",
            "Requirement already satisfied: scipy>=1.2.0 in /usr/local/lib/python3.10/dist-packages (from librosa->audiocraft==1.4.0a1) (1.13.1)\n",
            "Requirement already satisfied: scikit-learn>=0.20.0 in /usr/local/lib/python3.10/dist-packages (from librosa->audiocraft==1.4.0a1) (1.5.2)\n",
            "Requirement already satisfied: joblib>=0.14 in /usr/local/lib/python3.10/dist-packages (from librosa->audiocraft==1.4.0a1) (1.4.2)\n",
            "Requirement already satisfied: decorator>=4.3.0 in /usr/local/lib/python3.10/dist-packages (from librosa->audiocraft==1.4.0a1) (4.4.2)\n",
            "Requirement already satisfied: numba>=0.51.0 in /usr/local/lib/python3.10/dist-packages (from librosa->audiocraft==1.4.0a1) (0.60.0)\n",
            "Requirement already satisfied: pooch>=1.1 in /usr/local/lib/python3.10/dist-packages (from librosa->audiocraft==1.4.0a1) (1.8.2)\n",
            "Requirement already satisfied: soxr>=0.3.2 in /usr/local/lib/python3.10/dist-packages (from librosa->audiocraft==1.4.0a1) (0.5.0.post1)\n",
            "Requirement already satisfied: lazy-loader>=0.1 in /usr/local/lib/python3.10/dist-packages (from librosa->audiocraft==1.4.0a1) (0.4)\n",
            "Requirement already satisfied: msgpack>=1.0 in /usr/local/lib/python3.10/dist-packages (from librosa->audiocraft==1.4.0a1) (1.1.0)\n",
            "Requirement already satisfied: cffi>=1.0 in /usr/local/lib/python3.10/dist-packages (from soundfile->audiocraft==1.4.0a1) (1.17.1)\n",
            "Requirement already satisfied: docopt>=0.6.2 in /usr/local/lib/python3.10/dist-packages (from num2words->audiocraft==1.4.0a1) (0.6.2)\n",
            "Requirement already satisfied: lightning-utilities>=0.8.0 in /usr/local/lib/python3.10/dist-packages (from torchmetrics->audiocraft==1.4.0a1) (0.11.9)\n",
            "Requirement already satisfied: idna>=2.8 in /usr/local/lib/python3.10/dist-packages (from anyio<5.0,>=3.0->gradio->audiocraft==1.4.0a1) (3.10)\n",
            "Requirement already satisfied: sniffio>=1.1 in /usr/local/lib/python3.10/dist-packages (from anyio<5.0,>=3.0->gradio->audiocraft==1.4.0a1) (1.3.1)\n",
            "Requirement already satisfied: exceptiongroup in /usr/local/lib/python3.10/dist-packages (from anyio<5.0,>=3.0->gradio->audiocraft==1.4.0a1) (1.2.2)\n",
            "Requirement already satisfied: pycparser in /usr/local/lib/python3.10/dist-packages (from cffi>=1.0->soundfile->audiocraft==1.4.0a1) (2.22)\n",
            "Requirement already satisfied: certifi in /usr/local/lib/python3.10/dist-packages (from httpx>=0.24.1->gradio->audiocraft==1.4.0a1) (2024.8.30)\n",
            "Requirement already satisfied: httpcore==1.* in /usr/local/lib/python3.10/dist-packages (from httpx>=0.24.1->gradio->audiocraft==1.4.0a1) (1.0.7)\n",
            "Requirement already satisfied: h11<0.15,>=0.13 in /usr/local/lib/python3.10/dist-packages (from httpcore==1.*->httpx>=0.24.1->gradio->audiocraft==1.4.0a1) (0.14.0)\n",
            "Requirement already satisfied: language-data>=1.2 in /usr/local/lib/python3.10/dist-packages (from langcodes<4.0.0,>=3.2.0->spacy==3.7.6->audiocraft==1.4.0a1) (1.2.0)\n",
            "Requirement already satisfied: llvmlite<0.44,>=0.43.0dev0 in /usr/local/lib/python3.10/dist-packages (from numba>=0.51.0->librosa->audiocraft==1.4.0a1) (0.43.0)\n",
            "Requirement already satisfied: python-dateutil>=2.8.2 in /usr/local/lib/python3.10/dist-packages (from pandas<3.0,>=1.0->gradio->audiocraft==1.4.0a1) (2.8.2)\n",
            "Requirement already satisfied: pytz>=2020.1 in /usr/local/lib/python3.10/dist-packages (from pandas<3.0,>=1.0->gradio->audiocraft==1.4.0a1) (2024.2)\n",
            "Requirement already satisfied: tzdata>=2022.7 in /usr/local/lib/python3.10/dist-packages (from pandas<3.0,>=1.0->gradio->audiocraft==1.4.0a1) (2024.2)\n",
            "Requirement already satisfied: platformdirs>=2.5.0 in /usr/local/lib/python3.10/dist-packages (from pooch>=1.1->librosa->audiocraft==1.4.0a1) (4.3.6)\n",
            "Requirement already satisfied: annotated-types>=0.6.0 in /usr/local/lib/python3.10/dist-packages (from pydantic!=1.8,!=1.8.1,<3.0.0,>=1.7.4->spacy==3.7.6->audiocraft==1.4.0a1) (0.7.0)\n",
            "Requirement already satisfied: pydantic-core==2.23.4 in /usr/local/lib/python3.10/dist-packages (from pydantic!=1.8,!=1.8.1,<3.0.0,>=1.7.4->spacy==3.7.6->audiocraft==1.4.0a1) (2.23.4)\n",
            "Requirement already satisfied: charset-normalizer<4,>=2 in /usr/local/lib/python3.10/dist-packages (from requests<3.0.0,>=2.13.0->spacy==3.7.6->audiocraft==1.4.0a1) (3.4.0)\n",
            "Requirement already satisfied: threadpoolctl>=3.1.0 in /usr/local/lib/python3.10/dist-packages (from scikit-learn>=0.20.0->librosa->audiocraft==1.4.0a1) (3.5.0)\n",
            "Requirement already satisfied: blis<0.8.0,>=0.7.8 in /usr/local/lib/python3.10/dist-packages (from thinc<8.3.0,>=8.2.2->spacy==3.7.6->audiocraft==1.4.0a1) (0.7.11)\n",
            "Requirement already satisfied: confection<1.0.0,>=0.0.1 in /usr/local/lib/python3.10/dist-packages (from thinc<8.3.0,>=8.2.2->spacy==3.7.6->audiocraft==1.4.0a1) (0.1.5)\n",
            "Requirement already satisfied: click>=8.0.0 in /usr/local/lib/python3.10/dist-packages (from typer<1.0.0,>=0.3.0->spacy==3.7.6->audiocraft==1.4.0a1) (8.1.7)\n",
            "Requirement already satisfied: shellingham>=1.3.0 in /usr/local/lib/python3.10/dist-packages (from typer<1.0.0,>=0.3.0->spacy==3.7.6->audiocraft==1.4.0a1) (1.5.4)\n",
            "Requirement already satisfied: rich>=10.11.0 in /usr/local/lib/python3.10/dist-packages (from typer<1.0.0,>=0.3.0->spacy==3.7.6->audiocraft==1.4.0a1) (13.9.4)\n",
            "Requirement already satisfied: cloudpathlib<1.0.0,>=0.7.0 in /usr/local/lib/python3.10/dist-packages (from weasel<0.5.0,>=0.1.0->spacy==3.7.6->audiocraft==1.4.0a1) (0.20.0)\n",
            "Requirement already satisfied: smart-open<8.0.0,>=5.2.1 in /usr/local/lib/python3.10/dist-packages (from weasel<0.5.0,>=0.1.0->spacy==3.7.6->audiocraft==1.4.0a1) (7.0.5)\n",
            "Requirement already satisfied: retrying in /usr/local/lib/python3.10/dist-packages (from dora_search->flashy>=0.0.1->audiocraft==1.4.0a1) (1.3.4)\n",
            "Requirement already satisfied: submitit in /usr/local/lib/python3.10/dist-packages (from dora_search->flashy>=0.0.1->audiocraft==1.4.0a1) (1.5.2)\n",
            "Requirement already satisfied: treetable in /usr/local/lib/python3.10/dist-packages (from dora_search->flashy>=0.0.1->audiocraft==1.4.0a1) (0.2.5)\n",
            "Requirement already satisfied: mpmath<1.4,>=1.1.0 in /usr/local/lib/python3.10/dist-packages (from sympy->torch==2.1.0->audiocraft==1.4.0a1) (1.3.0)\n",
            "Requirement already satisfied: marisa-trie>=0.7.7 in /usr/local/lib/python3.10/dist-packages (from language-data>=1.2->langcodes<4.0.0,>=3.2.0->spacy==3.7.6->audiocraft==1.4.0a1) (1.2.1)\n",
            "Requirement already satisfied: six>=1.5 in /usr/local/lib/python3.10/dist-packages (from python-dateutil>=2.8.2->pandas<3.0,>=1.0->gradio->audiocraft==1.4.0a1) (1.16.0)\n",
            "Requirement already satisfied: markdown-it-py>=2.2.0 in /usr/local/lib/python3.10/dist-packages (from rich>=10.11.0->typer<1.0.0,>=0.3.0->spacy==3.7.6->audiocraft==1.4.0a1) (3.0.0)\n",
            "Requirement already satisfied: pygments<3.0.0,>=2.13.0 in /usr/local/lib/python3.10/dist-packages (from rich>=10.11.0->typer<1.0.0,>=0.3.0->spacy==3.7.6->audiocraft==1.4.0a1) (2.18.0)\n",
            "Requirement already satisfied: wrapt in /usr/local/lib/python3.10/dist-packages (from smart-open<8.0.0,>=5.2.1->weasel<0.5.0,>=0.1.0->spacy==3.7.6->audiocraft==1.4.0a1) (1.16.0)\n",
            "Requirement already satisfied: cloudpickle>=1.2.1 in /usr/local/lib/python3.10/dist-packages (from submitit->dora_search->flashy>=0.0.1->audiocraft==1.4.0a1) (3.1.0)\n",
            "Requirement already satisfied: mdurl~=0.1 in /usr/local/lib/python3.10/dist-packages (from markdown-it-py>=2.2.0->rich>=10.11.0->typer<1.0.0,>=0.3.0->spacy==3.7.6->audiocraft==1.4.0a1) (0.1.2)\n"
          ]
        }
      ]
    },
    {
      "cell_type": "code",
      "source": [
        "# Install ffmpeg for audio processing\n",
        "!apt-get install -y ffmpeg"
      ],
      "metadata": {
        "id": "wMukogrJ3kKc"
      },
      "execution_count": null,
      "outputs": []
    },
    {
      "cell_type": "markdown",
      "source": [
        "## Step 2: Prepare the Dataset 📂\n",
        "\n",
        "The dataset must be in AudioCraft's required format for training. Here, we use the Librispeech dataset, which is commonly used for speech processing tasks.\n",
        "\n",
        "- Download the Librispeech dataset (dev-clean subset).\n",
        "- Extract the dataset to the appropriate directory."
      ],
      "metadata": {
        "id": "XKaWp4UuzNNg"
      }
    },
    {
      "cell_type": "code",
      "source": [
        "# Download the Librispeech dataset to be used for training\n",
        "!wget https://www.openslr.org/resources/12/dev-clean.tar.gz -P /content/audiocraft/egs/librispeech"
      ],
      "metadata": {
        "colab": {
          "base_uri": "https://localhost:8080/"
        },
        "collapsed": true,
        "id": "JzsmNVtywHRB",
        "outputId": "f887a5a3-5287-4f58-ba63-12a704001564"
      },
      "execution_count": 1,
      "outputs": [
        {
          "output_type": "stream",
          "name": "stdout",
          "text": [
            "--2024-11-30 21:54:16--  https://www.openslr.org/resources/12/dev-clean.tar.gz\n",
            "Resolving www.openslr.org (www.openslr.org)... 46.101.158.64\n",
            "Connecting to www.openslr.org (www.openslr.org)|46.101.158.64|:443... connected.\n",
            "HTTP request sent, awaiting response... 302 Found\n",
            "Location: https://openslr.elda.org/resources/12/dev-clean.tar.gz [following]\n",
            "--2024-11-30 21:54:17--  https://openslr.elda.org/resources/12/dev-clean.tar.gz\n",
            "Resolving openslr.elda.org (openslr.elda.org)... 141.94.109.138, 2001:41d0:203:ad8a::\n",
            "Connecting to openslr.elda.org (openslr.elda.org)|141.94.109.138|:443... connected.\n",
            "HTTP request sent, awaiting response... 200 OK\n",
            "Length: 337926286 (322M) [application/x-gzip]\n",
            "Saving to: ‘/content/audiocraft/egs/librispeech/dev-clean.tar.gz’\n",
            "\n",
            "dev-clean.tar.gz    100%[===================>] 322.27M  15.0MB/s    in 23s     \n",
            "\n",
            "2024-11-30 21:54:42 (13.9 MB/s) - ‘/content/audiocraft/egs/librispeech/dev-clean.tar.gz’ saved [337926286/337926286]\n",
            "\n"
          ]
        }
      ]
    },
    {
      "cell_type": "code",
      "source": [
        "# Extract the dataset\n",
        "!tar -xzf /content/audiocraft/egs/librispeech/dev-clean.tar.gz -C /content/audiocraft/egs/librispeech"
      ],
      "metadata": {
        "id": "s_bRqOZCzScO"
      },
      "execution_count": 2,
      "outputs": []
    },
    {
      "cell_type": "markdown",
      "source": [
        "We download the dataset from OpenSLR and extract it to `/content/audiocraft/egs/librispeech` using `wget` and `tar` commands. This prepares the dataset for further processing.\n"
      ],
      "metadata": {
        "id": "xHUWhvfG35P_"
      }
    },
    {
      "cell_type": "markdown",
      "source": [
        "## Step 3: Create Dataset Manifests in AudioCraft Format 📝\n",
        "\n",
        "To convert the Librispeech dataset into AudioCraft's required format, we create manifest files for training, validation, evaluation, and generation splits."
      ],
      "metadata": {
        "id": "dmfmnqpEVqzv"
      }
    },
    {
      "cell_type": "code",
      "source": [
        "%cd /content/audiocraft\n",
        "\n",
        "# Create the manifest files for the Librispeech dataset. This is necessary to convert the dataset to AudioCraft's required format\n",
        "!python -m audiocraft.data.audio_dataset /content/audiocraft/egs/librispeech /content/audiocraft/egs/librispeech/train.jsonl.gz\n",
        "!python -m audiocraft.data.audio_dataset /content/audiocraft/egs/librispeech /content/audiocraft/egs/librispeech/valid.jsonl.gz\n",
        "!python -m audiocraft.data.audio_dataset /content/audiocraft/egs/librispeech /content/audiocraft/egs/librispeech/evaluate.jsonl.gz\n",
        "!python -m audiocraft.data.audio_dataset /content/audiocraft/egs/librispeech /content/audiocraft/egs/librispeech/generate.jsonl.gz"
      ],
      "metadata": {
        "colab": {
          "base_uri": "https://localhost:8080/"
        },
        "id": "pN6rkyRhLJhi",
        "outputId": "1bafa3ff-f3c2-4006-b2c2-ea861cf93124"
      },
      "execution_count": 3,
      "outputs": [
        {
          "output_type": "stream",
          "name": "stdout",
          "text": [
            "/content/audiocraft\n",
            "2024-11-30 21:55:09.527766: I tensorflow/core/util/port.cc:153] oneDNN custom operations are on. You may see slightly different numerical results due to floating-point round-off errors from different computation orders. To turn them off, set the environment variable `TF_ENABLE_ONEDNN_OPTS=0`.\n",
            "2024-11-30 21:55:09.544386: E external/local_xla/xla/stream_executor/cuda/cuda_fft.cc:485] Unable to register cuFFT factory: Attempting to register factory for plugin cuFFT when one has already been registered\n",
            "2024-11-30 21:55:09.565469: E external/local_xla/xla/stream_executor/cuda/cuda_dnn.cc:8454] Unable to register cuDNN factory: Attempting to register factory for plugin cuDNN when one has already been registered\n",
            "2024-11-30 21:55:09.571839: E external/local_xla/xla/stream_executor/cuda/cuda_blas.cc:1452] Unable to register cuBLAS factory: Attempting to register factory for plugin cuBLAS when one has already been registered\n",
            "2024-11-30 21:55:09.587033: I tensorflow/core/platform/cpu_feature_guard.cc:210] This TensorFlow binary is optimized to use available CPU instructions in performance-critical operations.\n",
            "To enable the following instructions: AVX2 AVX512F AVX512_VNNI FMA, in other operations, rebuild TensorFlow with the appropriate compiler flags.\n",
            "2024-11-30 21:55:10.683938: W tensorflow/compiler/tf2tensorrt/utils/py_utils.cc:38] TF-TRT Warning: Could not find TensorRT\n",
            "/usr/lib/python3.10/runpy.py:126: RuntimeWarning: 'audiocraft.data.audio_dataset' found in sys.modules after import of package 'audiocraft.data', but prior to execution of 'audiocraft.data.audio_dataset'; this may result in unpredictable behaviour\n",
            "  warn(RuntimeWarning(msg))\n",
            "Finding audio files...\n",
            "Getting audio metadata...\n",
            "2024-11-30 21:55:26.263370: I tensorflow/core/util/port.cc:153] oneDNN custom operations are on. You may see slightly different numerical results due to floating-point round-off errors from different computation orders. To turn them off, set the environment variable `TF_ENABLE_ONEDNN_OPTS=0`.\n",
            "2024-11-30 21:55:26.280314: E external/local_xla/xla/stream_executor/cuda/cuda_fft.cc:485] Unable to register cuFFT factory: Attempting to register factory for plugin cuFFT when one has already been registered\n",
            "2024-11-30 21:55:26.301029: E external/local_xla/xla/stream_executor/cuda/cuda_dnn.cc:8454] Unable to register cuDNN factory: Attempting to register factory for plugin cuDNN when one has already been registered\n",
            "2024-11-30 21:55:26.307339: E external/local_xla/xla/stream_executor/cuda/cuda_blas.cc:1452] Unable to register cuBLAS factory: Attempting to register factory for plugin cuBLAS when one has already been registered\n",
            "2024-11-30 21:55:26.322109: I tensorflow/core/platform/cpu_feature_guard.cc:210] This TensorFlow binary is optimized to use available CPU instructions in performance-critical operations.\n",
            "To enable the following instructions: AVX2 AVX512F AVX512_VNNI FMA, in other operations, rebuild TensorFlow with the appropriate compiler flags.\n",
            "2024-11-30 21:55:27.420602: W tensorflow/compiler/tf2tensorrt/utils/py_utils.cc:38] TF-TRT Warning: Could not find TensorRT\n",
            "/usr/lib/python3.10/runpy.py:126: RuntimeWarning: 'audiocraft.data.audio_dataset' found in sys.modules after import of package 'audiocraft.data', but prior to execution of 'audiocraft.data.audio_dataset'; this may result in unpredictable behaviour\n",
            "  warn(RuntimeWarning(msg))\n",
            "Finding audio files...\n",
            "Getting audio metadata...\n",
            "2024-11-30 21:55:37.797709: I tensorflow/core/util/port.cc:153] oneDNN custom operations are on. You may see slightly different numerical results due to floating-point round-off errors from different computation orders. To turn them off, set the environment variable `TF_ENABLE_ONEDNN_OPTS=0`.\n",
            "2024-11-30 21:55:37.814707: E external/local_xla/xla/stream_executor/cuda/cuda_fft.cc:485] Unable to register cuFFT factory: Attempting to register factory for plugin cuFFT when one has already been registered\n",
            "2024-11-30 21:55:37.835561: E external/local_xla/xla/stream_executor/cuda/cuda_dnn.cc:8454] Unable to register cuDNN factory: Attempting to register factory for plugin cuDNN when one has already been registered\n",
            "2024-11-30 21:55:37.841949: E external/local_xla/xla/stream_executor/cuda/cuda_blas.cc:1452] Unable to register cuBLAS factory: Attempting to register factory for plugin cuBLAS when one has already been registered\n",
            "2024-11-30 21:55:37.856773: I tensorflow/core/platform/cpu_feature_guard.cc:210] This TensorFlow binary is optimized to use available CPU instructions in performance-critical operations.\n",
            "To enable the following instructions: AVX2 AVX512F AVX512_VNNI FMA, in other operations, rebuild TensorFlow with the appropriate compiler flags.\n",
            "2024-11-30 21:55:38.947914: W tensorflow/compiler/tf2tensorrt/utils/py_utils.cc:38] TF-TRT Warning: Could not find TensorRT\n",
            "/usr/lib/python3.10/runpy.py:126: RuntimeWarning: 'audiocraft.data.audio_dataset' found in sys.modules after import of package 'audiocraft.data', but prior to execution of 'audiocraft.data.audio_dataset'; this may result in unpredictable behaviour\n",
            "  warn(RuntimeWarning(msg))\n",
            "Finding audio files...\n",
            "Getting audio metadata...\n",
            "2024-11-30 21:55:49.449797: I tensorflow/core/util/port.cc:153] oneDNN custom operations are on. You may see slightly different numerical results due to floating-point round-off errors from different computation orders. To turn them off, set the environment variable `TF_ENABLE_ONEDNN_OPTS=0`.\n",
            "2024-11-30 21:55:49.467799: E external/local_xla/xla/stream_executor/cuda/cuda_fft.cc:485] Unable to register cuFFT factory: Attempting to register factory for plugin cuFFT when one has already been registered\n",
            "2024-11-30 21:55:49.489144: E external/local_xla/xla/stream_executor/cuda/cuda_dnn.cc:8454] Unable to register cuDNN factory: Attempting to register factory for plugin cuDNN when one has already been registered\n",
            "2024-11-30 21:55:49.495600: E external/local_xla/xla/stream_executor/cuda/cuda_blas.cc:1452] Unable to register cuBLAS factory: Attempting to register factory for plugin cuBLAS when one has already been registered\n",
            "2024-11-30 21:55:49.510876: I tensorflow/core/platform/cpu_feature_guard.cc:210] This TensorFlow binary is optimized to use available CPU instructions in performance-critical operations.\n",
            "To enable the following instructions: AVX2 AVX512F AVX512_VNNI FMA, in other operations, rebuild TensorFlow with the appropriate compiler flags.\n",
            "2024-11-30 21:55:50.593447: W tensorflow/compiler/tf2tensorrt/utils/py_utils.cc:38] TF-TRT Warning: Could not find TensorRT\n",
            "/usr/lib/python3.10/runpy.py:126: RuntimeWarning: 'audiocraft.data.audio_dataset' found in sys.modules after import of package 'audiocraft.data', but prior to execution of 'audiocraft.data.audio_dataset'; this may result in unpredictable behaviour\n",
            "  warn(RuntimeWarning(msg))\n",
            "Finding audio files...\n",
            "Getting audio metadata...\n"
          ]
        }
      ]
    },
    {
      "cell_type": "markdown",
      "source": [
        "Manifests are metadata files that describe the dataset and its structure. They allow AudioCraft to efficiently locate and use the audio files. We use `audiocraft.data.audio_dataset` module to create these manifest files.\n"
      ],
      "metadata": {
        "id": "TLBwkt4V4L8U"
      }
    },
    {
      "cell_type": "markdown",
      "source": [
        "## Step 4: Create YAML Configuration Files 🛠️\n",
        "\n",
        "We need a configuration file that defines the dataset and the parameters for the training job. The YAML configuration allows us to customize the training and the dataset we are using.\n",
        "\n",
        "### Create Librispeech Dataset Configuration 📄"
      ],
      "metadata": {
        "id": "09p6rYEoVw0Y"
      }
    },
    {
      "cell_type": "code",
      "source": [
        "# Create a custom YAML configuration file for the Librispeech dataset\n",
        "librispeech_yaml = \"\"\"\n",
        "datasource:\n",
        "  max_sample_rate: 16000\n",
        "  max_channels: 1\n",
        "\n",
        "  train: egs/librispeech/train.jsonl.gz\n",
        "  valid: egs/librispeech/valid.jsonl.gz\n",
        "  evaluate: egs/librispeech/evaluate.jsonl.gz\n",
        "  generate: egs/librispeech/generate.jsonl.gz\n",
        "\"\"\""
      ],
      "metadata": {
        "id": "QF7Or6-NVpMg"
      },
      "execution_count": 4,
      "outputs": []
    },
    {
      "cell_type": "code",
      "source": [
        "# Save the YAML configuration for Librispeech dataset\n",
        "with open(\"/content/audiocraft/config/dset/audio/librispeech.yaml\", \"w\") as file:\n",
        "    file.write(librispeech_yaml)"
      ],
      "metadata": {
        "id": "2IfCiC_KPD2l"
      },
      "execution_count": 5,
      "outputs": []
    },
    {
      "cell_type": "markdown",
      "source": [
        "This YAML file specifies the paths to the manifest files we created earlier and sets properties like `max_sample_rate` and `max_channels` for the dataset. These properties ensure that all audio files are processed consistently.\n"
      ],
      "metadata": {
        "id": "3VegHyS94p9H"
      }
    },
    {
      "cell_type": "markdown",
      "source": [
        "### Create Dora Configuration File 📄\n"
      ],
      "metadata": {
        "id": "Z8TWrFpU4v7g"
      }
    },
    {
      "cell_type": "code",
      "source": [
        "# Create a custom YAML configuration for Dora output directory and SLURM partitions\n",
        "my_config_yaml = \"\"\"\n",
        "default:\n",
        "  dora_dir: /tmp/audiocraft_outputs\n",
        "  partitions:\n",
        "    global: null\n",
        "    team: null\n",
        "  reference_dir: /tmp\n",
        "\"\"\""
      ],
      "metadata": {
        "id": "RN6VjIBULjGW"
      },
      "execution_count": 6,
      "outputs": []
    },
    {
      "cell_type": "code",
      "source": [
        "# Save the custom Dora configuration\n",
        "with open(\"/content/my_config.yaml\", \"w\") as file:\n",
        "    file.write(my_config_yaml)"
      ],
      "metadata": {
        "id": "0DFCIxUu14fu"
      },
      "execution_count": 7,
      "outputs": []
    },
    {
      "cell_type": "markdown",
      "source": [
        "The Dora configuration specifies the directory where outputs and checkpoints will be saved (`dora_dir`). It also sets the SLURM partitions to `null` since we are running the experiment locally without using a cluster.\n"
      ],
      "metadata": {
        "id": "JdjGT0Pp4lfq"
      }
    },
    {
      "cell_type": "markdown",
      "source": [
        "## Step 5: Set Up Environment Variables and Train with Dora 💻\n",
        "\n",
        "To ensure everything runs smoothly, we need to set up environment variables. Here, we are running the training with a single epoch for simplicity.\n"
      ],
      "metadata": {
        "id": "eZEUJx1wWWz3"
      }
    },
    {
      "cell_type": "code",
      "source": [
        "# Set user environment variable to avoid any issues with Dora\n",
        "import os\n",
        "os.environ['USER'] = 'colab_user'"
      ],
      "metadata": {
        "id": "iyjyxw4gN-fB"
      },
      "execution_count": 8,
      "outputs": []
    },
    {
      "cell_type": "code",
      "source": [
        "# Export Hydra error variable to provide full error messages if something fails\n",
        "%env HYDRA_FULL_ERROR=1"
      ],
      "metadata": {
        "id": "lqveVjPmSf2n",
        "colab": {
          "base_uri": "https://localhost:8080/"
        },
        "outputId": "eb1bd097-b11a-4b75-a08b-986aefc81cb0"
      },
      "execution_count": 9,
      "outputs": [
        {
          "output_type": "stream",
          "name": "stdout",
          "text": [
            "env: HYDRA_FULL_ERROR=1\n"
          ]
        }
      ]
    },
    {
      "cell_type": "markdown",
      "source": [
        "# Run Dora to start the training process with 1 epoch on the Librispeech dataset\n",
        "\n",
        "We set up the environment to avoid any issues with user variables. We also set `HYDRA_FULL_ERROR` to get full error messages in case something goes wrong during the training. Finally, we initiate the training with `dora run`, specifying the configuration file, dataset, and training parameters.\n"
      ],
      "metadata": {
        "id": "E8jh7sVoWd4_"
      }
    },
    {
      "cell_type": "code",
      "source": [
        "# Run Dora to start the training process with 1 epoch on the Librispeech dataset\n",
        "!AUDIOCRAFT_CONFIG=/content/my_config.yaml dora run solver=watermark/robustness dset=audio/librispeech dataset.num_workers=0 optim.epochs=1"
      ],
      "metadata": {
        "colab": {
          "base_uri": "https://localhost:8080/",
          "height": 1000
        },
        "collapsed": true,
        "id": "ClT8eVPFOAPI",
        "outputId": "5c3b996b-8641-4ef3-eb25-21fc8094bb08"
      },
      "execution_count": 10,
      "outputs": [
        {
          "output_type": "stream",
          "name": "stdout",
          "text": [
            "2024-11-30 21:56:21.414210: I tensorflow/core/util/port.cc:153] oneDNN custom operations are on. You may see slightly different numerical results due to floating-point round-off errors from different computation orders. To turn them off, set the environment variable `TF_ENABLE_ONEDNN_OPTS=0`.\n",
            "2024-11-30 21:56:21.431389: E external/local_xla/xla/stream_executor/cuda/cuda_fft.cc:485] Unable to register cuFFT factory: Attempting to register factory for plugin cuFFT when one has already been registered\n",
            "2024-11-30 21:56:21.452608: E external/local_xla/xla/stream_executor/cuda/cuda_dnn.cc:8454] Unable to register cuDNN factory: Attempting to register factory for plugin cuDNN when one has already been registered\n",
            "2024-11-30 21:56:21.459021: E external/local_xla/xla/stream_executor/cuda/cuda_blas.cc:1452] Unable to register cuBLAS factory: Attempting to register factory for plugin cuBLAS when one has already been registered\n",
            "2024-11-30 21:56:21.474147: I tensorflow/core/platform/cpu_feature_guard.cc:210] This TensorFlow binary is optimized to use available CPU instructions in performance-critical operations.\n",
            "To enable the following instructions: AVX2 AVX512F AVX512_VNNI FMA, in other operations, rebuild TensorFlow with the appropriate compiler flags.\n",
            "2024-11-30 21:56:22.570308: W tensorflow/compiler/tf2tensorrt/utils/py_utils.cc:38] TF-TRT Warning: Could not find TensorRT\n",
            "Dora directory: /tmp/audiocraft_outputs\n",
            "/usr/local/lib/python3.10/dist-packages/hydra/_internal/hydra.py:119: UserWarning: Future Hydra versions will no longer change working directory at job runtime by default.\n",
            "See https://hydra.cc/docs/1.2/upgrades/1.1_to_1.2/changes_to_job_working_dir/ for more information.\n",
            "  ret = run_job(\n",
            "[\u001b[36m11-30 21:56:29\u001b[0m][\u001b[34mdora.distrib\u001b[0m][\u001b[32mINFO\u001b[0m] - world_size is 1, skipping init.\u001b[0m\n",
            "[\u001b[36m11-30 21:56:29\u001b[0m][\u001b[34mflashy.solver\u001b[0m][\u001b[32mINFO\u001b[0m] - Instantiating solver WatermarkSolver for XP 4b7f280b\u001b[0m\n",
            "[\u001b[36m11-30 21:56:29\u001b[0m][\u001b[34mflashy.solver\u001b[0m][\u001b[32mINFO\u001b[0m] - All XP logs are stored in /tmp/audiocraft_outputs/xps/4b7f280b\u001b[0m\n",
            "[\u001b[36m11-30 21:56:29\u001b[0m][\u001b[34maudiocraft.solvers.builders\u001b[0m][\u001b[32mINFO\u001b[0m] - Loading audio data split train: /content/audiocraft/egs/librispeech/train.jsonl.gz\u001b[0m\n",
            "[\u001b[36m11-30 21:56:29\u001b[0m][\u001b[34maudiocraft.solvers.builders\u001b[0m][\u001b[32mINFO\u001b[0m] - Loading audio data split valid: /content/audiocraft/egs/librispeech/valid.jsonl.gz\u001b[0m\n",
            "[\u001b[36m11-30 21:56:29\u001b[0m][\u001b[34maudiocraft.solvers.builders\u001b[0m][\u001b[32mINFO\u001b[0m] - Loading audio data split evaluate: /content/audiocraft/egs/librispeech/evaluate.jsonl.gz\u001b[0m\n",
            "[\u001b[36m11-30 21:56:29\u001b[0m][\u001b[34maudiocraft.solvers.builders\u001b[0m][\u001b[32mINFO\u001b[0m] - Loading audio data split generate: /content/audiocraft/egs/librispeech/generate.jsonl.gz\u001b[0m\n",
            "/usr/local/lib/python3.10/dist-packages/torch/nn/utils/weight_norm.py:30: UserWarning: torch.nn.utils.weight_norm is deprecated in favor of torch.nn.utils.parametrizations.weight_norm.\n",
            "  warnings.warn(\"torch.nn.utils.weight_norm is deprecated in favor of torch.nn.utils.parametrizations.weight_norm.\")\n",
            "[\u001b[36m11-30 21:56:30\u001b[0m][\u001b[34mflashy.solver\u001b[0m][\u001b[32mINFO\u001b[0m] - Model hash: 9c221b7379be63c3b8c52a99fe85d3b331f797d3\u001b[0m\n",
            "[\u001b[36m11-30 21:56:30\u001b[0m][\u001b[34mflashy.solver\u001b[0m][\u001b[32mINFO\u001b[0m] - Initializing EMA on the model with decay = 0.99 every 1 updates\u001b[0m\n",
            "[\u001b[36m11-30 21:56:30\u001b[0m][\u001b[34mflashy.solver\u001b[0m][\u001b[32mINFO\u001b[0m] - Model size: 23.33 M params\u001b[0m\n",
            "[\u001b[36m11-30 21:56:30\u001b[0m][\u001b[34mflashy.solver\u001b[0m][\u001b[32mINFO\u001b[0m] - Base memory usage, with model, grad and optim: 0.37 GB\u001b[0m\n",
            "/usr/local/lib/python3.10/dist-packages/torchaudio/functional/functional.py:584: UserWarning: At least one mel filterbank has all zero values. The value for `n_mels` (64) may be set too high. Or, the value for `n_freqs` (33) may be set too low.\n",
            "  warnings.warn(\n",
            "/usr/local/lib/python3.10/dist-packages/torchaudio/functional/functional.py:584: UserWarning: At least one mel filterbank has all zero values. The value for `n_mels` (64) may be set too high. Or, the value for `n_freqs` (65) may be set too low.\n",
            "  warnings.warn(\n",
            "/usr/local/lib/python3.10/dist-packages/torchaudio/functional/functional.py:584: UserWarning: At least one mel filterbank has all zero values. The value for `n_mels` (64) may be set too high. Or, the value for `n_freqs` (129) may be set too low.\n",
            "  warnings.warn(\n",
            "[\u001b[36m11-30 21:56:30\u001b[0m][\u001b[34mroot\u001b[0m][\u001b[32mINFO\u001b[0m] - Getting pretrained compression model from HF facebook/encodec_24khz\u001b[0m\n",
            "config.json: 100% 809/809 [00:00<00:00, 5.18MB/s]\n",
            "model.safetensors: 100% 93.1M/93.1M [00:00<00:00, 225MB/s]\n",
            "/usr/local/lib/python3.10/dist-packages/transformers/models/encodec/modeling_encodec.py:124: UserWarning: To copy construct from a tensor, it is recommended to use sourceTensor.clone().detach() or sourceTensor.clone().detach().requires_grad_(True), rather than torch.tensor(sourceTensor).\n",
            "  self.register_buffer(\"padding_total\", torch.tensor(kernel_size - stride, dtype=torch.int64), persistent=False)\n",
            "[\u001b[36m11-30 21:56:32\u001b[0m][\u001b[34mflashy.solver\u001b[0m][\u001b[32mINFO\u001b[0m] - Restoring weights and history.\u001b[0m\n",
            "[\u001b[36m11-30 21:56:32\u001b[0m][\u001b[34mflashy.solver\u001b[0m][\u001b[32mINFO\u001b[0m] - Model hash: 9c221b7379be63c3b8c52a99fe85d3b331f797d3\u001b[0m\n",
            "[\u001b[36m11-30 22:07:41\u001b[0m][\u001b[34mflashy.solver\u001b[0m][\u001b[32mINFO\u001b[0m] - Train | Epoch 1 | 200/2000 | 0.30 it/sec | d_loss 2.000 | d_msstftd 2.000 | adv_msstftd 0.044 | feat_msstftd 0.000 | l1 0.002 | msspec 0.070 | tf_loudnessratio 0.085 | wm_detection_boost_audio 0.798 | wm_mb_boost_audio 0.707 | wm_detection_identity 0.855 | wm_mb_identity 0.706 | wm_detection_mp3_compression 0.839 | wm_mb_mp3_compression 0.720 | ratio1 0.578 | g_loss 931.170 | ratio2 301.387 | pesq 2.447 | max_mem 13.197 | mel 0.471 | sisnr -23.932 | adv 0.044 | feat 0.000 | wm_detection_aac_compression 0.833 | wm_mb_aac_compression 0.712 | wm_detection_duck_audio 0.855 | wm_mb_duck_audio 0.706 | wm_detection_speed 0.793 | wm_mb_speed 0.707 | wm_detection_encodec_nq=4 0.832 | wm_mb_encodec_nq=4 0.707 | wm_detection_updownresample 0.999 | wm_mb_updownresample 0.709 | wm_detection_encodec_nq=16 0.893 | wm_mb_encodec_nq=16 0.704 | wm_detection_lowpass_filter 0.975 | wm_mb_lowpass_filter 0.710 | wm_detection_pink_noise 0.871 | wm_mb_pink_noise 0.710 | wm_detection_echo 0.775 | wm_mb_echo 0.701 | wm_detection_smooth 0.815 | wm_mb_smooth 0.702 | wm_detection_bandpass_filter 0.821 | wm_mb_bandpass_filter 0.704 | wm_detection_highpass_filter 0.792 | wm_mb_highpass_filter 0.705 | wm_detection_encodec_nq=8 0.770 | wm_mb_encodec_nq=8 0.698\u001b[0m\n",
            "[\u001b[36m11-30 22:18:29\u001b[0m][\u001b[34mflashy.solver\u001b[0m][\u001b[32mINFO\u001b[0m] - Train | Epoch 1 | 400/2000 | 0.30 it/sec | d_loss 1.998 | d_msstftd 1.998 | adv_msstftd 0.053 | feat_msstftd 0.000 | l1 0.001 | msspec 0.008 | tf_loudnessratio 0.053 | wm_detection_aac_compression 0.841 | wm_mb_aac_compression 0.694 | wm_detection_identity 0.831 | wm_mb_identity 0.697 | ratio1 0.539 | g_loss 16.752 | ratio2 507.296 | pesq 3.251 | max_mem 14.709 | mel 0.252 | sisnr -29.630 | adv 0.053 | feat 0.000 | wm_detection_updownresample 0.790 | wm_mb_updownresample 0.696 | wm_detection_lowpass_filter 0.808 | wm_mb_lowpass_filter 0.698 | wm_detection_duck_audio 0.830 | wm_mb_duck_audio 0.696 | wm_detection_speed 0.861 | wm_mb_speed 0.697 | wm_detection_encodec_nq=8 0.767 | wm_mb_encodec_nq=8 0.695 | wm_detection_pink_noise 0.833 | wm_mb_pink_noise 0.696 | wm_detection_smooth 0.859 | wm_mb_smooth 0.696 | wm_detection_bandpass_filter 0.778 | wm_mb_bandpass_filter 0.697 | wm_detection_boost_audio 0.780 | wm_mb_boost_audio 0.696 | wm_detection_highpass_filter 0.735 | wm_mb_highpass_filter 0.698 | wm_detection_encodec_nq=16 0.870 | wm_mb_encodec_nq=16 0.696 | wm_detection_mp3_compression 0.799 | wm_mb_mp3_compression 0.696 | wm_detection_echo 0.754 | wm_mb_echo 0.697 | wm_detection_encodec_nq=4 0.870 | wm_mb_encodec_nq=4 0.696\u001b[0m\n",
            "[\u001b[36m11-30 22:29:54\u001b[0m][\u001b[34mflashy.solver\u001b[0m][\u001b[32mINFO\u001b[0m] - Train | Epoch 1 | 600/2000 | 0.30 it/sec | d_loss 1.996 | d_msstftd 1.996 | adv_msstftd 0.034 | feat_msstftd 0.000 | l1 0.001 | msspec 0.004 | tf_loudnessratio 0.052 | wm_detection_identity 0.879 | wm_mb_identity 0.696 | wm_detection_lowpass_filter 0.772 | wm_mb_lowpass_filter 0.694 | wm_detection_mp3_compression 0.893 | wm_mb_mp3_compression 0.694 | wm_detection_updownresample 0.900 | wm_mb_updownresample 0.694 | ratio1 0.530 | g_loss 1.786 | ratio2 517.335 | pesq 3.502 | max_mem 14.724 | mel 0.181 | sisnr -30.497 | adv 0.034 | feat 0.000 | wm_detection_speed 0.911 | wm_mb_speed 0.697 | wm_detection_encodec_nq=4 0.951 | wm_mb_encodec_nq=4 0.696 | wm_detection_aac_compression 0.900 | wm_mb_aac_compression 0.698 | wm_detection_smooth 0.846 | wm_mb_smooth 0.697 | wm_detection_encodec_nq=16 0.970 | wm_mb_encodec_nq=16 0.697 | wm_detection_boost_audio 1.018 | wm_mb_boost_audio 0.694 | wm_detection_duck_audio 0.816 | wm_mb_duck_audio 0.698 | wm_detection_pink_noise 0.862 | wm_mb_pink_noise 0.696 | wm_detection_bandpass_filter 0.891 | wm_mb_bandpass_filter 0.696 | wm_detection_echo 0.814 | wm_mb_echo 0.696 | wm_detection_highpass_filter 0.932 | wm_mb_highpass_filter 0.695 | wm_detection_encodec_nq=8 0.941 | wm_mb_encodec_nq=8 0.696\u001b[0m\n",
            "[\u001b[36m11-30 22:41:09\u001b[0m][\u001b[34mflashy.solver\u001b[0m][\u001b[32mINFO\u001b[0m] - Train | Epoch 1 | 800/2000 | 0.30 it/sec | d_loss 1.997 | d_msstftd 1.997 | adv_msstftd 0.085 | feat_msstftd 0.000 | l1 0.001 | msspec 0.001 | tf_loudnessratio 0.046 | wm_detection_identity 0.840 | wm_mb_identity 0.695 | ratio1 0.522 | g_loss 2.613 | ratio2 482.754 | pesq 3.770 | max_mem 14.894 | mel 0.131 | sisnr -31.947 | adv 0.085 | feat 0.000 | wm_detection_pink_noise 0.895 | wm_mb_pink_noise 0.695 | wm_detection_boost_audio 0.939 | wm_mb_boost_audio 0.697 | wm_detection_encodec_nq=8 0.841 | wm_mb_encodec_nq=8 0.697 | wm_detection_bandpass_filter 0.808 | wm_mb_bandpass_filter 0.698 | wm_detection_speed 0.938 | wm_mb_speed 0.696 | wm_detection_encodec_nq=16 0.856 | wm_mb_encodec_nq=16 0.696 | wm_detection_highpass_filter 0.908 | wm_mb_highpass_filter 0.694 | wm_detection_encodec_nq=4 0.753 | wm_mb_encodec_nq=4 0.695 | wm_detection_aac_compression 0.836 | wm_mb_aac_compression 0.695 | wm_detection_lowpass_filter 0.887 | wm_mb_lowpass_filter 0.697 | wm_detection_mp3_compression 0.814 | wm_mb_mp3_compression 0.695 | wm_detection_updownresample 0.785 | wm_mb_updownresample 0.696 | wm_detection_echo 0.749 | wm_mb_echo 0.696 | wm_detection_smooth 0.824 | wm_mb_smooth 0.695 | wm_detection_duck_audio 0.863 | wm_mb_duck_audio 0.696\u001b[0m\n",
            "[\u001b[36m11-30 22:52:09\u001b[0m][\u001b[34mflashy.solver\u001b[0m][\u001b[32mINFO\u001b[0m] - Train | Epoch 1 | 1000/2000 | 0.30 it/sec | d_loss 1.998 | d_msstftd 1.998 | adv_msstftd 0.139 | feat_msstftd 0.000 | l1 0.000 | msspec 0.000 | tf_loudnessratio 0.027 | wm_detection_identity 0.840 | wm_mb_identity 0.695 | ratio1 0.514 | g_loss 2.797 | ratio2 528.316 | pesq 4.071 | max_mem 15.462 | mel 0.093 | sisnr -33.591 | adv 0.139 | feat 0.000 | wm_detection_aac_compression 0.803 | wm_mb_aac_compression 0.694 | wm_detection_echo 0.912 | wm_mb_echo 0.695 | wm_detection_boost_audio 0.811 | wm_mb_boost_audio 0.695 | wm_detection_lowpass_filter 0.796 | wm_mb_lowpass_filter 0.694 | wm_detection_speed 0.811 | wm_mb_speed 0.695 | wm_detection_smooth 0.898 | wm_mb_smooth 0.694 | wm_detection_updownresample 0.867 | wm_mb_updownresample 0.696 | wm_detection_encodec_nq=8 0.869 | wm_mb_encodec_nq=8 0.695 | wm_detection_duck_audio 0.835 | wm_mb_duck_audio 0.696 | wm_detection_bandpass_filter 0.835 | wm_mb_bandpass_filter 0.696 | wm_detection_encodec_nq=16 0.845 | wm_mb_encodec_nq=16 0.696 | wm_detection_mp3_compression 0.869 | wm_mb_mp3_compression 0.695 | wm_detection_highpass_filter 0.849 | wm_mb_highpass_filter 0.695 | wm_detection_encodec_nq=4 0.847 | wm_mb_encodec_nq=4 0.695 | wm_detection_pink_noise 0.883 | wm_mb_pink_noise 0.694\u001b[0m\n",
            "[\u001b[36m11-30 23:03:30\u001b[0m][\u001b[34mflashy.solver\u001b[0m][\u001b[32mINFO\u001b[0m] - Train | Epoch 1 | 1200/2000 | 0.30 it/sec | d_loss 1.999 | d_msstftd 1.999 | adv_msstftd 0.154 | feat_msstftd 0.000 | l1 0.000 | msspec 0.000 | tf_loudnessratio 0.015 | wm_detection_encodec_nq=8 0.840 | wm_mb_encodec_nq=8 0.694 | wm_detection_boost_audio 0.813 | wm_mb_boost_audio 0.695 | wm_detection_identity 0.806 | wm_mb_identity 0.695 | wm_detection_updownresample 0.849 | wm_mb_updownresample 0.695 | ratio1 0.503 | g_loss 2.494 | ratio2 578.241 | pesq 4.216 | max_mem 16.610 | mel 0.065 | sisnr -34.396 | adv 0.154 | feat 0.000 | wm_detection_pink_noise 0.881 | wm_mb_pink_noise 0.695 | wm_detection_encodec_nq=16 0.849 | wm_mb_encodec_nq=16 0.696 | wm_detection_echo 0.768 | wm_mb_echo 0.693 | wm_detection_bandpass_filter 0.785 | wm_mb_bandpass_filter 0.695 | wm_detection_mp3_compression 0.775 | wm_mb_mp3_compression 0.694 | wm_detection_duck_audio 0.852 | wm_mb_duck_audio 0.695 | wm_detection_highpass_filter 0.768 | wm_mb_highpass_filter 0.695 | wm_detection_speed 0.892 | wm_mb_speed 0.696 | wm_detection_aac_compression 0.765 | wm_mb_aac_compression 0.696 | wm_detection_encodec_nq=4 0.827 | wm_mb_encodec_nq=4 0.695 | wm_detection_smooth 0.843 | wm_mb_smooth 0.696 | wm_detection_lowpass_filter 0.861 | wm_mb_lowpass_filter 0.695\u001b[0m\n",
            "[\u001b[36m11-30 23:15:04\u001b[0m][\u001b[34mflashy.solver\u001b[0m][\u001b[32mINFO\u001b[0m] - Train | Epoch 1 | 1400/2000 | 0.30 it/sec | d_loss 2.000 | d_msstftd 2.000 | adv_msstftd 0.214 | feat_msstftd 0.000 | l1 0.000 | msspec 0.000 | tf_loudnessratio 0.012 | wm_detection_boost_audio 0.905 | wm_mb_boost_audio 0.696 | wm_detection_identity 0.874 | wm_mb_identity 0.695 | wm_detection_lowpass_filter 0.795 | wm_mb_lowpass_filter 0.693 | wm_detection_pink_noise 0.840 | wm_mb_pink_noise 0.694 | wm_detection_updownresample 0.882 | wm_mb_updownresample 0.695 | ratio1 0.499 | g_loss 3.113 | ratio2 500.506 | pesq 4.066 | max_mem 17.830 | mel 0.061 | sisnr -34.191 | adv 0.214 | feat 0.000 | wm_detection_highpass_filter 0.924 | wm_mb_highpass_filter 0.697 | wm_detection_encodec_nq=8 0.989 | wm_mb_encodec_nq=8 0.694 | wm_detection_duck_audio 0.821 | wm_mb_duck_audio 0.694 | wm_detection_mp3_compression 0.900 | wm_mb_mp3_compression 0.694 | wm_detection_encodec_nq=16 0.815 | wm_mb_encodec_nq=16 0.696 | wm_detection_bandpass_filter 0.897 | wm_mb_bandpass_filter 0.695 | wm_detection_smooth 0.964 | wm_mb_smooth 0.695 | wm_detection_speed 0.918 | wm_mb_speed 0.695 | wm_detection_echo 0.846 | wm_mb_echo 0.694 | wm_detection_aac_compression 0.866 | wm_mb_aac_compression 0.695 | wm_detection_encodec_nq=4 0.914 | wm_mb_encodec_nq=4 0.695\u001b[0m\n",
            "[\u001b[36m11-30 23:26:20\u001b[0m][\u001b[34mflashy.solver\u001b[0m][\u001b[32mINFO\u001b[0m] - Train | Epoch 1 | 1600/2000 | 0.30 it/sec | d_loss 2.000 | d_msstftd 2.000 | adv_msstftd 0.215 | feat_msstftd 0.000 | l1 0.000 | msspec 0.000 | tf_loudnessratio 0.010 | wm_detection_identity 0.808 | wm_mb_identity 0.695 | ratio1 0.514 | g_loss 2.905 | ratio2 483.361 | pesq 4.229 | max_mem 17.830 | mel 0.048 | sisnr -34.505 | adv 0.215 | feat 0.000 | wm_detection_encodec_nq=4 0.855 | wm_mb_encodec_nq=4 0.696 | wm_detection_smooth 0.907 | wm_mb_smooth 0.694 | wm_detection_boost_audio 0.828 | wm_mb_boost_audio 0.694 | wm_detection_lowpass_filter 0.758 | wm_mb_lowpass_filter 0.694 | wm_detection_mp3_compression 0.816 | wm_mb_mp3_compression 0.695 | wm_detection_updownresample 0.752 | wm_mb_updownresample 0.696 | wm_detection_aac_compression 0.847 | wm_mb_aac_compression 0.695 | wm_detection_duck_audio 0.798 | wm_mb_duck_audio 0.696 | wm_detection_echo 0.776 | wm_mb_echo 0.696 | wm_detection_speed 0.842 | wm_mb_speed 0.695 | wm_detection_bandpass_filter 0.822 | wm_mb_bandpass_filter 0.695 | wm_detection_encodec_nq=16 0.797 | wm_mb_encodec_nq=16 0.695 | wm_detection_encodec_nq=8 0.724 | wm_mb_encodec_nq=8 0.694 | wm_detection_highpass_filter 0.799 | wm_mb_highpass_filter 0.697 | wm_detection_pink_noise 0.861 | wm_mb_pink_noise 0.695\u001b[0m\n",
            "[\u001b[36m11-30 23:37:25\u001b[0m][\u001b[34mflashy.solver\u001b[0m][\u001b[32mINFO\u001b[0m] - Train | Epoch 1 | 1800/2000 | 0.30 it/sec | d_loss 1.999 | d_msstftd 1.999 | adv_msstftd 0.217 | feat_msstftd 0.000 | l1 0.000 | msspec 0.000 | tf_loudnessratio 0.008 | wm_detection_identity 0.851 | wm_mb_identity 0.695 | ratio1 0.508 | g_loss 2.677 | ratio2 443.936 | pesq 4.309 | max_mem 17.830 | mel 0.042 | sisnr -34.571 | adv 0.217 | feat 0.000 | wm_detection_speed 0.952 | wm_mb_speed 0.694 | wm_detection_mp3_compression 0.741 | wm_mb_mp3_compression 0.695 | wm_detection_smooth 0.840 | wm_mb_smooth 0.695 | wm_detection_lowpass_filter 0.928 | wm_mb_lowpass_filter 0.696 | wm_detection_updownresample 0.860 | wm_mb_updownresample 0.694 | wm_detection_encodec_nq=4 0.907 | wm_mb_encodec_nq=4 0.695 | wm_detection_boost_audio 0.904 | wm_mb_boost_audio 0.695 | wm_detection_highpass_filter 0.909 | wm_mb_highpass_filter 0.695 | wm_detection_bandpass_filter 0.801 | wm_mb_bandpass_filter 0.694 | wm_detection_echo 0.887 | wm_mb_echo 0.693 | wm_detection_aac_compression 0.862 | wm_mb_aac_compression 0.694 | wm_detection_pink_noise 0.925 | wm_mb_pink_noise 0.695 | wm_detection_duck_audio 0.805 | wm_mb_duck_audio 0.694 | wm_detection_encodec_nq=16 0.792 | wm_mb_encodec_nq=16 0.694 | wm_detection_encodec_nq=8 0.827 | wm_mb_encodec_nq=8 0.696\u001b[0m\n",
            "[\u001b[36m11-30 23:48:42\u001b[0m][\u001b[34mflashy.solver\u001b[0m][\u001b[32mINFO\u001b[0m] - \u001b[1mTrain Summary | Epoch 1 | d_loss=1.999 | d_msstftd=1.999 | adv_msstftd=0.141 | feat_msstftd=0.000 | l1=0.001 | msspec=0.008 | tf_loudnessratio=0.032 | wm_detection_boost_audio=0.862 | wm_mb_boost_audio=0.696 | wm_detection_identity=0.839 | wm_mb_identity=0.696 | wm_detection_mp3_compression=0.835 | wm_mb_mp3_compression=0.697 | ratio1=0.522 | g_loss=97.395 | ratio2=477.980 | pesq=3.813 | max_mem=16.089 | mel=0.138 | sisnr=-32.171 | adv=0.141 | feat=0.000 | wm_detection_aac_compression=0.837 | wm_mb_aac_compression=0.697 | wm_detection_duck_audio=0.823 | wm_mb_duck_audio=0.697 | wm_detection_speed=0.880 | wm_mb_speed=0.697 | wm_detection_encodec_nq=4=0.850 | wm_mb_encodec_nq=4=0.697 | wm_detection_updownresample=0.853 | wm_mb_updownresample=0.696 | wm_detection_encodec_nq=16=0.850 | wm_mb_encodec_nq=16=0.696 | wm_detection_lowpass_filter=0.840 | wm_mb_lowpass_filter=0.697 | wm_detection_pink_noise=0.866 | wm_mb_pink_noise=0.696 | wm_detection_echo=0.819 | wm_mb_echo=0.695 | wm_detection_smooth=0.853 | wm_mb_smooth=0.696 | wm_detection_bandpass_filter=0.833 | wm_mb_bandpass_filter=0.696 | wm_detection_highpass_filter=0.833 | wm_mb_highpass_filter=0.696 | wm_detection_encodec_nq=8=0.850 | wm_mb_encodec_nq=8=0.695 | duration=6729.832\u001b[0m\n",
            "[\u001b[36m11-30 23:51:44\u001b[0m][\u001b[34mflashy.solver\u001b[0m][\u001b[32mINFO\u001b[0m] - Valid | Epoch 1 | 62/625 | 0.35 it/sec | adv_msstftd 0.275 | feat_msstftd 0.000 | l1 0.000 | msspec 0.000 | tf_loudnessratio -0.010 | wm_detection_aac_compression 0.680 | wm_mb_aac_compression 0.694 | wm_detection_duck_audio 0.759 | wm_mb_duck_audio 0.694 | wm_detection_identity 0.797 | wm_mb_identity 0.693 | pesq 4.443 | max_mem 17.830 | mel 0.013 | sisnr -35.355 | adv 0.275 | feat 0.000 | wm_detection_encodec_nq=4 0.790 | wm_mb_encodec_nq=4 0.693 | wm_detection_highpass_filter 0.795 | wm_mb_highpass_filter 0.694 | wm_detection_mp3_compression 0.697 | wm_mb_mp3_compression 0.693 | wm_detection_boost_audio 0.703 | wm_mb_boost_audio 0.694 | wm_detection_lowpass_filter 0.785 | wm_mb_lowpass_filter 0.694 | wm_detection_pink_noise 0.785 | wm_mb_pink_noise 0.693 | wm_detection_encodec_nq=8 0.704 | wm_mb_encodec_nq=8 0.694 | wm_detection_echo 0.772 | wm_mb_echo 0.693 | wm_detection_updownresample 0.693 | wm_mb_updownresample 0.693 | wm_detection_bandpass_filter 0.707 | wm_mb_bandpass_filter 0.694 | wm_detection_speed 0.814 | wm_mb_speed 0.693 | wm_detection_smooth 0.834 | wm_mb_smooth 0.694 | wm_detection_encodec_nq=16 0.695 | wm_mb_encodec_nq=16 0.693\u001b[0m\n",
            "[\u001b[36m11-30 23:54:34\u001b[0m][\u001b[34mflashy.solver\u001b[0m][\u001b[32mINFO\u001b[0m] - Valid | Epoch 1 | 124/625 | 0.35 it/sec | adv_msstftd 0.277 | feat_msstftd 0.000 | l1 0.000 | msspec 0.000 | tf_loudnessratio -0.009 | wm_detection_identity 0.782 | wm_mb_identity 0.693 | pesq 4.523 | max_mem 17.830 | mel 0.010 | sisnr -35.725 | adv 0.277 | feat 0.000 | wm_detection_boost_audio 0.693 | wm_mb_boost_audio 0.693 | wm_detection_pink_noise 0.978 | wm_mb_pink_noise 0.693 | wm_detection_encodec_nq=8 0.848 | wm_mb_encodec_nq=8 0.694 | wm_detection_highpass_filter 0.791 | wm_mb_highpass_filter 0.694 | wm_detection_updownresample 0.693 | wm_mb_updownresample 0.693 | wm_detection_aac_compression 0.829 | wm_mb_aac_compression 0.693 | wm_detection_encodec_nq=16 0.955 | wm_mb_encodec_nq=16 0.693 | wm_detection_encodec_nq=4 0.812 | wm_mb_encodec_nq=4 0.694 | wm_detection_duck_audio 0.859 | wm_mb_duck_audio 0.693 | wm_detection_lowpass_filter 0.979 | wm_mb_lowpass_filter 0.693 | wm_detection_smooth 0.861 | wm_mb_smooth 0.693 | wm_detection_speed 0.694 | wm_mb_speed 0.694 | wm_detection_mp3_compression 0.842 | wm_mb_mp3_compression 0.694 | wm_detection_bandpass_filter 0.695 | wm_mb_bandpass_filter 0.693 | wm_detection_echo 0.680 | wm_mb_echo 0.693\u001b[0m\n",
            "[\u001b[36m11-30 23:57:14\u001b[0m][\u001b[34mflashy.solver\u001b[0m][\u001b[32mINFO\u001b[0m] - Valid | Epoch 1 | 186/625 | 0.37 it/sec | adv_msstftd 0.283 | feat_msstftd 0.000 | l1 0.000 | msspec 0.000 | tf_loudnessratio -0.011 | wm_detection_highpass_filter 0.869 | wm_mb_highpass_filter 0.694 | wm_detection_identity 0.863 | wm_mb_identity 0.694 | pesq 4.519 | max_mem 17.830 | mel 0.013 | sisnr -35.815 | adv 0.283 | feat 0.000 | wm_detection_smooth 0.931 | wm_mb_smooth 0.694 | wm_detection_encodec_nq=4 0.870 | wm_mb_encodec_nq=4 0.693 | wm_detection_pink_noise 0.813 | wm_mb_pink_noise 0.693 | wm_detection_bandpass_filter 0.781 | wm_mb_bandpass_filter 0.694 | wm_detection_lowpass_filter 0.951 | wm_mb_lowpass_filter 0.694 | wm_detection_speed 0.674 | wm_mb_speed 0.695 | wm_detection_updownresample 0.700 | wm_mb_updownresample 0.694 | wm_detection_aac_compression 1.038 | wm_mb_aac_compression 0.694 | wm_detection_duck_audio 0.921 | wm_mb_duck_audio 0.695 | wm_detection_encodec_nq=16 0.968 | wm_mb_encodec_nq=16 0.694 | wm_detection_encodec_nq=8 0.700 | wm_mb_encodec_nq=8 0.694 | wm_detection_mp3_compression 1.056 | wm_mb_mp3_compression 0.694 | wm_detection_boost_audio 0.977 | wm_mb_boost_audio 0.694 | wm_detection_echo 0.865 | wm_mb_echo 0.694\u001b[0m\n",
            "[\u001b[36m12-01 00:00:14\u001b[0m][\u001b[34mflashy.solver\u001b[0m][\u001b[32mINFO\u001b[0m] - Valid | Epoch 1 | 248/625 | 0.36 it/sec | adv_msstftd 0.285 | feat_msstftd 0.000 | l1 0.000 | msspec 0.000 | tf_loudnessratio -0.010 | wm_detection_boost_audio 0.962 | wm_mb_boost_audio 0.693 | wm_detection_identity 0.820 | wm_mb_identity 0.693 | pesq 4.596 | max_mem 17.830 | mel 0.012 | sisnr -35.828 | adv 0.285 | feat 0.000 | wm_detection_encodec_nq=4 0.850 | wm_mb_encodec_nq=4 0.693 | wm_detection_aac_compression 0.811 | wm_mb_aac_compression 0.694 | wm_detection_smooth 0.816 | wm_mb_smooth 0.694 | wm_detection_duck_audio 0.775 | wm_mb_duck_audio 0.694 | wm_detection_updownresample 0.872 | wm_mb_updownresample 0.692 | wm_detection_echo 0.823 | wm_mb_echo 0.694 | wm_detection_pink_noise 0.697 | wm_mb_pink_noise 0.693 | wm_detection_encodec_nq=16 0.865 | wm_mb_encodec_nq=16 0.693 | wm_detection_highpass_filter 0.781 | wm_mb_highpass_filter 0.693 | wm_detection_mp3_compression 0.926 | wm_mb_mp3_compression 0.694 | wm_detection_encodec_nq=8 0.672 | wm_mb_encodec_nq=8 0.694 | wm_detection_speed 0.769 | wm_mb_speed 0.693 | wm_detection_lowpass_filter 0.687 | wm_mb_lowpass_filter 0.693 | wm_detection_bandpass_filter 0.697 | wm_mb_bandpass_filter 0.694\u001b[0m\n",
            "[\u001b[36m12-01 00:03:08\u001b[0m][\u001b[34mflashy.solver\u001b[0m][\u001b[32mINFO\u001b[0m] - Valid | Epoch 1 | 310/625 | 0.36 it/sec | adv_msstftd 0.278 | feat_msstftd 0.000 | l1 0.000 | msspec 0.000 | tf_loudnessratio -0.009 | wm_detection_identity 0.840 | wm_mb_identity 0.693 | wm_detection_mp3_compression 0.873 | wm_mb_mp3_compression 0.693 | pesq 4.517 | max_mem 17.830 | mel 0.013 | sisnr -35.439 | adv 0.278 | feat 0.000 | wm_detection_pink_noise 0.698 | wm_mb_pink_noise 0.693 | wm_detection_speed 0.874 | wm_mb_speed 0.693 | wm_detection_updownresample 0.794 | wm_mb_updownresample 0.694 | wm_detection_encodec_nq=16 0.953 | wm_mb_encodec_nq=16 0.693 | wm_detection_bandpass_filter 0.838 | wm_mb_bandpass_filter 0.692 | wm_detection_smooth 0.816 | wm_mb_smooth 0.693 | wm_detection_highpass_filter 0.925 | wm_mb_highpass_filter 0.692 | wm_detection_echo 0.692 | wm_mb_echo 0.694 | wm_detection_encodec_nq=4 0.991 | wm_mb_encodec_nq=4 0.693 | wm_detection_boost_audio 0.929 | wm_mb_boost_audio 0.693 | wm_detection_aac_compression 0.953 | wm_mb_aac_compression 0.693 | wm_detection_lowpass_filter 0.695 | wm_mb_lowpass_filter 0.693 | wm_detection_duck_audio 0.875 | wm_mb_duck_audio 0.693 | wm_detection_encodec_nq=8 1.048 | wm_mb_encodec_nq=8 0.695\u001b[0m\n",
            "[\u001b[36m12-01 00:05:54\u001b[0m][\u001b[34mflashy.solver\u001b[0m][\u001b[32mINFO\u001b[0m] - Valid | Epoch 1 | 372/625 | 0.36 it/sec | adv_msstftd 0.274 | feat_msstftd 0.000 | l1 0.000 | msspec 0.000 | tf_loudnessratio -0.009 | wm_detection_encodec_nq=4 1.045 | wm_mb_encodec_nq=4 0.693 | wm_detection_identity 0.827 | wm_mb_identity 0.693 | pesq 4.440 | max_mem 17.830 | mel 0.012 | sisnr -34.977 | adv 0.274 | feat 0.000 | wm_detection_encodec_nq=16 0.965 | wm_mb_encodec_nq=16 0.693 | wm_detection_boost_audio 0.812 | wm_mb_boost_audio 0.693 | wm_detection_updownresample 0.889 | wm_mb_updownresample 0.693 | wm_detection_lowpass_filter 0.778 | wm_mb_lowpass_filter 0.694 | wm_detection_duck_audio 0.871 | wm_mb_duck_audio 0.694 | wm_detection_pink_noise 0.813 | wm_mb_pink_noise 0.693 | wm_detection_highpass_filter 0.853 | wm_mb_highpass_filter 0.693 | wm_detection_smooth 0.835 | wm_mb_smooth 0.693 | wm_detection_speed 0.976 | wm_mb_speed 0.694 | wm_detection_echo 0.832 | wm_mb_echo 0.693 | wm_detection_bandpass_filter 0.976 | wm_mb_bandpass_filter 0.692 | wm_detection_aac_compression 0.683 | wm_mb_aac_compression 0.692 | wm_detection_encodec_nq=8 0.870 | wm_mb_encodec_nq=8 0.693 | wm_detection_mp3_compression 0.695 | wm_mb_mp3_compression 0.692\u001b[0m\n",
            "[\u001b[36m12-01 00:08:38\u001b[0m][\u001b[34mflashy.solver\u001b[0m][\u001b[32mINFO\u001b[0m] - Valid | Epoch 1 | 434/625 | 0.36 it/sec | adv_msstftd 0.275 | feat_msstftd 0.000 | l1 0.000 | msspec 0.000 | tf_loudnessratio -0.010 | wm_detection_identity 0.776 | wm_mb_identity 0.693 | wm_detection_pink_noise 0.783 | wm_mb_pink_noise 0.693 | pesq 4.514 | max_mem 17.830 | mel 0.011 | sisnr -35.486 | adv 0.275 | feat 0.000 | wm_detection_aac_compression 0.818 | wm_mb_aac_compression 0.692 | wm_detection_lowpass_filter 0.838 | wm_mb_lowpass_filter 0.693 | wm_detection_encodec_nq=8 0.691 | wm_mb_encodec_nq=8 0.693 | wm_detection_mp3_compression 0.695 | wm_mb_mp3_compression 0.694 | wm_detection_smooth 0.810 | wm_mb_smooth 0.692 | wm_detection_speed 0.693 | wm_mb_speed 0.693 | wm_detection_updownresample 0.694 | wm_mb_updownresample 0.693 | wm_detection_encodec_nq=4 0.699 | wm_mb_encodec_nq=4 0.693 | wm_detection_encodec_nq=16 0.804 | wm_mb_encodec_nq=16 0.693 | wm_detection_bandpass_filter 0.693 | wm_mb_bandpass_filter 0.694 | wm_detection_duck_audio 0.812 | wm_mb_duck_audio 0.694 | wm_detection_echo 0.708 | wm_mb_echo 0.694 | wm_detection_boost_audio 0.695 | wm_mb_boost_audio 0.692 | wm_detection_highpass_filter 1.389 | wm_mb_highpass_filter 0.694\u001b[0m\n",
            "[\u001b[36m12-01 00:11:35\u001b[0m][\u001b[34mflashy.solver\u001b[0m][\u001b[32mINFO\u001b[0m] - Valid | Epoch 1 | 496/625 | 0.36 it/sec | adv_msstftd 0.270 | feat_msstftd 0.000 | l1 0.000 | msspec 0.000 | tf_loudnessratio -0.008 | wm_detection_encodec_nq=8 0.792 | wm_mb_encodec_nq=8 0.693 | wm_detection_encodec_nq=16 1.114 | wm_mb_encodec_nq=16 0.694 | wm_detection_identity 0.840 | wm_mb_identity 0.693 | pesq 4.520 | max_mem 17.830 | mel 0.011 | sisnr -34.980 | adv 0.270 | feat 0.000 | wm_detection_bandpass_filter 0.698 | wm_mb_bandpass_filter 0.694 | wm_detection_updownresample 0.924 | wm_mb_updownresample 0.694 | wm_detection_lowpass_filter 0.701 | wm_mb_lowpass_filter 0.693 | wm_detection_encodec_nq=4 0.929 | wm_mb_encodec_nq=4 0.693 | wm_detection_mp3_compression 0.769 | wm_mb_mp3_compression 0.693 | wm_detection_smooth 0.864 | wm_mb_smooth 0.693 | wm_detection_pink_noise 0.832 | wm_mb_pink_noise 0.693 | wm_detection_speed 0.689 | wm_mb_speed 0.693 | wm_detection_echo 1.053 | wm_mb_echo 0.693 | wm_detection_boost_audio 0.692 | wm_mb_boost_audio 0.694 | wm_detection_duck_audio 1.033 | wm_mb_duck_audio 0.695 | wm_detection_highpass_filter 0.963 | wm_mb_highpass_filter 0.693 | wm_detection_aac_compression 0.694 | wm_mb_aac_compression 0.692\u001b[0m\n",
            "[\u001b[36m12-01 00:14:12\u001b[0m][\u001b[34mflashy.solver\u001b[0m][\u001b[32mINFO\u001b[0m] - Valid | Epoch 1 | 558/625 | 0.37 it/sec | adv_msstftd 0.279 | feat_msstftd 0.000 | l1 0.000 | msspec 0.000 | tf_loudnessratio -0.010 | wm_detection_duck_audio 0.775 | wm_mb_duck_audio 0.693 | wm_detection_identity 0.853 | wm_mb_identity 0.693 | wm_detection_lowpass_filter 0.869 | wm_mb_lowpass_filter 0.693 | wm_detection_mp3_compression 0.898 | wm_mb_mp3_compression 0.693 | wm_detection_smooth 0.970 | wm_mb_smooth 0.693 | pesq 4.449 | max_mem 17.830 | mel 0.013 | sisnr -35.489 | adv 0.279 | feat 0.000 | wm_detection_pink_noise 0.771 | wm_mb_pink_noise 0.693 | wm_detection_bandpass_filter 0.776 | wm_mb_bandpass_filter 0.694 | wm_detection_updownresample 0.844 | wm_mb_updownresample 0.694 | wm_detection_aac_compression 0.872 | wm_mb_aac_compression 0.693 | wm_detection_encodec_nq=8 0.897 | wm_mb_encodec_nq=8 0.693 | wm_detection_echo 0.956 | wm_mb_echo 0.693 | wm_detection_encodec_nq=4 0.777 | wm_mb_encodec_nq=4 0.693 | wm_detection_boost_audio 0.844 | wm_mb_boost_audio 0.694 | wm_detection_encodec_nq=16 0.829 | wm_mb_encodec_nq=16 0.693 | wm_detection_highpass_filter 1.157 | wm_mb_highpass_filter 0.693\u001b[0m\n",
            "[\u001b[36m12-01 00:17:08\u001b[0m][\u001b[34mflashy.solver\u001b[0m][\u001b[32mINFO\u001b[0m] - Valid | Epoch 1 | 620/625 | 0.36 it/sec | adv_msstftd 0.279 | feat_msstftd 0.000 | l1 0.000 | msspec 0.000 | tf_loudnessratio -0.009 | wm_detection_identity 0.908 | wm_mb_identity 0.693 | pesq 4.588 | max_mem 17.830 | mel 0.014 | sisnr -35.675 | adv 0.279 | feat 0.000 | wm_detection_boost_audio 0.705 | wm_mb_boost_audio 0.694 | wm_detection_updownresample 0.691 | wm_mb_updownresample 0.694 | wm_detection_encodec_nq=8 0.870 | wm_mb_encodec_nq=8 0.694 | wm_detection_bandpass_filter 0.931 | wm_mb_bandpass_filter 0.694 | wm_detection_echo 0.992 | wm_mb_echo 0.693 | wm_detection_lowpass_filter 1.219 | wm_mb_lowpass_filter 0.694 | wm_detection_pink_noise 0.935 | wm_mb_pink_noise 0.693 | wm_detection_duck_audio 0.764 | wm_mb_duck_audio 0.693 | wm_detection_encodec_nq=16 0.970 | wm_mb_encodec_nq=16 0.694 | wm_detection_aac_compression 1.043 | wm_mb_aac_compression 0.694 | wm_detection_highpass_filter 0.791 | wm_mb_highpass_filter 0.693 | wm_detection_mp3_compression 0.840 | wm_mb_mp3_compression 0.693 | wm_detection_speed 0.861 | wm_mb_speed 0.693 | wm_detection_encodec_nq=4 0.814 | wm_mb_encodec_nq=4 0.693 | wm_detection_smooth 0.808 | wm_mb_smooth 0.694\u001b[0m\n",
            "[\u001b[36m12-01 00:17:18\u001b[0m][\u001b[34mflashy.solver\u001b[0m][\u001b[32mINFO\u001b[0m] - \u001b[1mValid Summary | Epoch 1 | adv_msstftd=0.277 | feat_msstftd=0.000 | l1=0.000 | msspec=0.000 | tf_loudnessratio=-0.009 | wm_detection_aac_compression=0.852 | wm_mb_aac_compression=0.693 | wm_detection_duck_audio=0.814 | wm_mb_duck_audio=0.694 | wm_detection_identity=0.830 | wm_mb_identity=0.693 | pesq=4.511 | max_mem=17.830 | mel=0.012 | sisnr=-35.472 | adv=0.277 | feat=0.000 | wm_detection_encodec_nq=4=0.853 | wm_mb_encodec_nq=4=0.693 | wm_detection_highpass_filter=0.866 | wm_mb_highpass_filter=0.693 | wm_detection_mp3_compression=0.817 | wm_mb_mp3_compression=0.693 | wm_detection_boost_audio=0.811 | wm_mb_boost_audio=0.693 | wm_detection_lowpass_filter=0.839 | wm_mb_lowpass_filter=0.694 | wm_detection_pink_noise=0.798 | wm_mb_pink_noise=0.693 | wm_detection_encodec_nq=8=0.813 | wm_mb_encodec_nq=8=0.694 | wm_detection_echo=0.841 | wm_mb_echo=0.693 | wm_detection_updownresample=0.790 | wm_mb_updownresample=0.694 | wm_detection_bandpass_filter=0.782 | wm_mb_bandpass_filter=0.694 | wm_detection_speed=0.794 | wm_mb_speed=0.693 | wm_detection_smooth=0.849 | wm_mb_smooth=0.693 | wm_detection_encodec_nq=16=0.923 | wm_mb_encodec_nq=16=0.693 | duration=1716.372\u001b[0m\n",
            "[\u001b[36m12-01 00:17:18\u001b[0m][\u001b[34mflashy.solver\u001b[0m][\u001b[32mINFO\u001b[0m] - Updating best state with current state.\u001b[0m\n",
            "2024-12-01 00:17:22.532810: E external/local_xla/xla/stream_executor/cuda/cuda_fft.cc:485] Unable to register cuFFT factory: Attempting to register factory for plugin cuFFT when one has already been registered\n",
            "2024-12-01 00:17:22.553888: E external/local_xla/xla/stream_executor/cuda/cuda_dnn.cc:8454] Unable to register cuDNN factory: Attempting to register factory for plugin cuDNN when one has already been registered\n",
            "2024-12-01 00:17:22.560295: E external/local_xla/xla/stream_executor/cuda/cuda_blas.cc:1452] Unable to register cuBLAS factory: Attempting to register factory for plugin cuBLAS when one has already been registered\n",
            "2024-12-01 00:17:23.693735: W tensorflow/compiler/tf2tensorrt/utils/py_utils.cc:38] TF-TRT Warning: Could not find TensorRT\n",
            "2024-12-01 00:17:24.002843: E external/local_xla/xla/stream_executor/cuda/cuda_fft.cc:485] Unable to register cuFFT factory: Attempting to register factory for plugin cuFFT when one has already been registered\n",
            "2024-12-01 00:17:24.023961: E external/local_xla/xla/stream_executor/cuda/cuda_dnn.cc:8454] Unable to register cuDNN factory: Attempting to register factory for plugin cuDNN when one has already been registered\n",
            "2024-12-01 00:17:24.030371: E external/local_xla/xla/stream_executor/cuda/cuda_blas.cc:1452] Unable to register cuBLAS factory: Attempting to register factory for plugin cuBLAS when one has already been registered\n",
            "2024-12-01 00:17:25.162426: W tensorflow/compiler/tf2tensorrt/utils/py_utils.cc:38] TF-TRT Warning: Could not find TensorRT\n",
            "2024-12-01 00:17:25.351770: E external/local_xla/xla/stream_executor/cuda/cuda_fft.cc:485] Unable to register cuFFT factory: Attempting to register factory for plugin cuFFT when one has already been registered\n",
            "2024-12-01 00:17:25.372472: E external/local_xla/xla/stream_executor/cuda/cuda_dnn.cc:8454] Unable to register cuDNN factory: Attempting to register factory for plugin cuDNN when one has already been registered\n",
            "2024-12-01 00:17:25.378803: E external/local_xla/xla/stream_executor/cuda/cuda_blas.cc:1452] Unable to register cuBLAS factory: Attempting to register factory for plugin cuBLAS when one has already been registered\n",
            "2024-12-01 00:17:26.529169: W tensorflow/compiler/tf2tensorrt/utils/py_utils.cc:38] TF-TRT Warning: Could not find TensorRT\n",
            "2024-12-01 00:17:26.827193: E external/local_xla/xla/stream_executor/cuda/cuda_fft.cc:485] Unable to register cuFFT factory: Attempting to register factory for plugin cuFFT when one has already been registered\n",
            "2024-12-01 00:17:26.848069: E external/local_xla/xla/stream_executor/cuda/cuda_dnn.cc:8454] Unable to register cuDNN factory: Attempting to register factory for plugin cuDNN when one has already been registered\n",
            "2024-12-01 00:17:26.854383: E external/local_xla/xla/stream_executor/cuda/cuda_blas.cc:1452] Unable to register cuBLAS factory: Attempting to register factory for plugin cuBLAS when one has already been registered\n",
            "2024-12-01 00:17:28.030586: W tensorflow/compiler/tf2tensorrt/utils/py_utils.cc:38] TF-TRT Warning: Could not find TensorRT\n",
            "2024-12-01 00:17:30.103746: E external/local_xla/xla/stream_executor/cuda/cuda_fft.cc:485] Unable to register cuFFT factory: Attempting to register factory for plugin cuFFT when one has already been registered\n",
            "2024-12-01 00:17:30.125393: E external/local_xla/xla/stream_executor/cuda/cuda_dnn.cc:8454] Unable to register cuDNN factory: Attempting to register factory for plugin cuDNN when one has already been registered\n",
            "2024-12-01 00:17:30.131834: E external/local_xla/xla/stream_executor/cuda/cuda_blas.cc:1452] Unable to register cuBLAS factory: Attempting to register factory for plugin cuBLAS when one has already been registered\n",
            "2024-12-01 00:17:31.428245: W tensorflow/compiler/tf2tensorrt/utils/py_utils.cc:38] TF-TRT Warning: Could not find TensorRT\n",
            "[\u001b[36m12-01 00:45:13\u001b[0m][\u001b[34mflashy.solver\u001b[0m][\u001b[32mINFO\u001b[0m] - Evaluate inference | Epoch 1 | 62/625 | 26.6 sec/it\u001b[0m\n",
            "[\u001b[36m12-01 01:12:44\u001b[0m][\u001b[34mflashy.solver\u001b[0m][\u001b[32mINFO\u001b[0m] - Evaluate inference | Epoch 1 | 124/625 | 26.6 sec/it\u001b[0m\n",
            "[\u001b[36m12-01 01:40:54\u001b[0m][\u001b[34mflashy.solver\u001b[0m][\u001b[32mINFO\u001b[0m] - Evaluate inference | Epoch 1 | 186/625 | 26.8 sec/it\u001b[0m\n",
            "[\u001b[36m12-01 02:08:53\u001b[0m][\u001b[34mflashy.solver\u001b[0m][\u001b[32mINFO\u001b[0m] - Evaluate inference | Epoch 1 | 248/625 | 26.9 sec/it\u001b[0m\n",
            "[\u001b[36m12-01 02:37:06\u001b[0m][\u001b[34mflashy.solver\u001b[0m][\u001b[32mINFO\u001b[0m] - Evaluate inference | Epoch 1 | 310/625 | 27.0 sec/it\u001b[0m\n",
            "[\u001b[36m12-01 03:04:50\u001b[0m][\u001b[34mflashy.solver\u001b[0m][\u001b[32mINFO\u001b[0m] - Evaluate inference | Epoch 1 | 372/625 | 26.9 sec/it\u001b[0m\n",
            "[\u001b[36m12-01 03:32:39\u001b[0m][\u001b[34mflashy.solver\u001b[0m][\u001b[32mINFO\u001b[0m] - Evaluate inference | Epoch 1 | 434/625 | 26.9 sec/it\u001b[0m\n",
            "[\u001b[36m12-01 04:01:00\u001b[0m][\u001b[34mflashy.solver\u001b[0m][\u001b[32mINFO\u001b[0m] - Evaluate inference | Epoch 1 | 496/625 | 27.0 sec/it\u001b[0m\n",
            "[\u001b[36m12-01 04:28:38\u001b[0m][\u001b[34mflashy.solver\u001b[0m][\u001b[32mINFO\u001b[0m] - Evaluate inference | Epoch 1 | 558/625 | 27.0 sec/it\u001b[0m\n",
            "[\u001b[36m12-01 04:56:44\u001b[0m][\u001b[34mflashy.solver\u001b[0m][\u001b[32mINFO\u001b[0m] - Evaluate inference | Epoch 1 | 620/625 | 27.0 sec/it\u001b[0m\n",
            "[\u001b[36m12-01 04:58:27\u001b[0m][\u001b[34mflashy.solver\u001b[0m][\u001b[32mINFO\u001b[0m] - Evaluate metrics | Epoch 1 | 2375/23750 | 40908.78 it/sec\u001b[0m\n",
            "[\u001b[36m12-01 04:58:27\u001b[0m][\u001b[34mflashy.solver\u001b[0m][\u001b[32mINFO\u001b[0m] - Evaluate metrics | Epoch 1 | 4750/23750 | 41135.23 it/sec\u001b[0m\n",
            "[\u001b[36m12-01 04:58:27\u001b[0m][\u001b[34mflashy.solver\u001b[0m][\u001b[32mINFO\u001b[0m] - Evaluate metrics | Epoch 1 | 7125/23750 | 38128.38 it/sec\u001b[0m\n",
            "[\u001b[36m12-01 04:58:27\u001b[0m][\u001b[34mflashy.solver\u001b[0m][\u001b[32mINFO\u001b[0m] - Evaluate metrics | Epoch 1 | 9500/23750 | 38950.98 it/sec\u001b[0m\n",
            "[\u001b[36m12-01 04:58:27\u001b[0m][\u001b[34mflashy.solver\u001b[0m][\u001b[32mINFO\u001b[0m] - Evaluate metrics | Epoch 1 | 11875/23750 | 39597.22 it/sec\u001b[0m\n",
            "[\u001b[36m12-01 04:58:27\u001b[0m][\u001b[34mflashy.solver\u001b[0m][\u001b[32mINFO\u001b[0m] - Evaluate metrics | Epoch 1 | 14250/23750 | 39867.95 it/sec\u001b[0m\n",
            "[\u001b[36m12-01 04:58:27\u001b[0m][\u001b[34mflashy.solver\u001b[0m][\u001b[32mINFO\u001b[0m] - Evaluate metrics | Epoch 1 | 16625/23750 | 40207.79 it/sec\u001b[0m\n",
            "[\u001b[36m12-01 04:58:27\u001b[0m][\u001b[34mflashy.solver\u001b[0m][\u001b[32mINFO\u001b[0m] - Evaluate metrics | Epoch 1 | 19000/23750 | 40476.01 it/sec\u001b[0m\n",
            "[\u001b[36m12-01 04:58:27\u001b[0m][\u001b[34mflashy.solver\u001b[0m][\u001b[32mINFO\u001b[0m] - Evaluate metrics | Epoch 1 | 21375/23750 | 40722.12 it/sec\u001b[0m\n",
            "[\u001b[36m12-01 04:58:30\u001b[0m][\u001b[34mflashy.solver\u001b[0m][\u001b[32mINFO\u001b[0m] - \u001b[1mEvaluate Summary | Epoch 1 | sisnr=56.717 | stoi=1.000 | pesq=4.573 | aug_encodec_nq=4_acc=0.500 | aug_encodec_nq=4_fpr=0.000 | aug_encodec_nq=4_fnr=1.000 | aug_encodec_nq=4_bit_acc=0.500 | all_aug_acc=0.500 | aug_encodec_nq=8_acc=0.500 | aug_encodec_nq=8_fpr=0.000 | aug_encodec_nq=8_fnr=1.000 | aug_encodec_nq=8_bit_acc=0.500 | aug_encodec_nq=16_acc=0.500 | aug_encodec_nq=16_fpr=0.000 | aug_encodec_nq=16_fnr=1.000 | aug_encodec_nq=16_bit_acc=0.500 | aug_aac_compression_acc=0.500 | aug_aac_compression_fpr=0.000 | aug_aac_compression_fnr=1.000 | aug_aac_compression_bit_acc=0.500 | aug_bandpass_filter_acc=0.500 | aug_bandpass_filter_fpr=0.000 | aug_bandpass_filter_fnr=1.000 | aug_bandpass_filter_bit_acc=0.500 | aug_boost_audio_acc=0.500 | aug_boost_audio_fpr=0.000 | aug_boost_audio_fnr=1.000 | aug_boost_audio_bit_acc=0.500 | aug_duck_audio_acc=0.500 | aug_duck_audio_fpr=0.000 | aug_duck_audio_fnr=1.000 | aug_duck_audio_bit_acc=0.500 | aug_echo_acc=0.500 | aug_echo_fpr=0.000 | aug_echo_fnr=1.000 | aug_echo_bit_acc=0.500 | aug_highpass_filter_acc=0.500 | aug_highpass_filter_fpr=0.000 | aug_highpass_filter_fnr=1.000 | aug_highpass_filter_bit_acc=0.500 | aug_identity_acc=0.500 | aug_identity_fpr=0.000 | aug_identity_fnr=1.000 | aug_identity_bit_acc=0.500 | aug_lowpass_filter_acc=0.500 | aug_lowpass_filter_fpr=0.000 | aug_lowpass_filter_fnr=1.000 | aug_lowpass_filter_bit_acc=0.500 | aug_mp3_compression_acc=0.500 | aug_mp3_compression_fpr=0.000 | aug_mp3_compression_fnr=1.000 | aug_mp3_compression_bit_acc=0.500 | aug_pink_noise_acc=0.500 | aug_pink_noise_fpr=0.000 | aug_pink_noise_fnr=1.000 | aug_pink_noise_bit_acc=0.500 | aug_random_noise_acc=0.500 | aug_random_noise_fpr=0.000 | aug_random_noise_fnr=1.000 | aug_random_noise_bit_acc=0.500 | aug_smooth_acc=0.500 | aug_smooth_fpr=0.000 | aug_smooth_fnr=1.000 | aug_smooth_bit_acc=0.500 | aug_speed_acc=0.500 | aug_speed_fpr=0.000 | aug_speed_fnr=1.000 | aug_speed_bit_acc=0.500 | aug_updownresample_acc=0.500 | aug_updownresample_fpr=0.000 | aug_updownresample_fnr=1.000 | aug_updownresample_bit_acc=0.500 | localization_acc_crop_0.1=0.100 | localization_miou_crop_0.1=0.000 | localization_acc_shuffle_0.1=0.100 | localization_miou_shuffle_0.1=0.000 | localization_acc_crop_0.2=0.200 | localization_miou_crop_0.2=0.000 | localization_acc_shuffle_0.2=0.200 | localization_miou_shuffle_0.2=0.000 | localization_acc_crop_0.3=0.300 | localization_miou_crop_0.3=0.000 | localization_acc_shuffle_0.3=0.300 | localization_miou_shuffle_0.3=0.000 | localization_acc_crop_0.4=0.400 | localization_miou_crop_0.4=0.000 | localization_acc_shuffle_0.4=0.400 | localization_miou_shuffle_0.4=0.000 | localization_acc_crop_0.5=0.500 | localization_miou_crop_0.5=0.000 | localization_acc_shuffle_0.5=0.500 | localization_miou_shuffle_0.5=0.000 | localization_acc_crop_0.6=0.600 | localization_miou_crop_0.6=0.000 | localization_acc_shuffle_0.6=0.600 | localization_miou_shuffle_0.6=0.000 | localization_acc_crop_0.7=0.700 | localization_miou_crop_0.7=0.000 | localization_acc_shuffle_0.7=0.700 | localization_miou_shuffle_0.7=0.000 | localization_acc_crop_0.8=0.800 | localization_miou_crop_0.8=0.000 | localization_acc_shuffle_0.8=0.800 | localization_miou_shuffle_0.8=0.000 | localization_acc_crop_0.9=0.900 | localization_miou_crop_0.9=0.000 | localization_acc_shuffle_0.9=0.900 | localization_miou_shuffle_0.9=0.000 | localization_acc_padding=0.334 | localization_miou_padding=0.000 | localization_acc_central_padding=0.666 | localization_miou_central_padding=0.000 | duration=16871.512\u001b[0m\n",
            "[\u001b[36m12-01 04:59:21\u001b[0m][\u001b[34mflashy.solver\u001b[0m][\u001b[32mINFO\u001b[0m] - Generate | Epoch 1 | 1/4 | 25.4 sec/it\u001b[0m\n",
            "[\u001b[36m12-01 04:59:28\u001b[0m][\u001b[34mflashy.solver\u001b[0m][\u001b[32mINFO\u001b[0m] - Generate | Epoch 1 | 2/4 | 19.5 sec/it\u001b[0m\n",
            "[\u001b[36m12-01 04:59:30\u001b[0m][\u001b[34mflashy.solver\u001b[0m][\u001b[32mINFO\u001b[0m] - Generate | Epoch 1 | 3/4 | 14.9 sec/it\u001b[0m\n",
            "[\u001b[36m12-01 04:59:30\u001b[0m][\u001b[34mflashy.solver\u001b[0m][\u001b[32mINFO\u001b[0m] - \u001b[1mGenerate Summary | Epoch 1 | duration=59.551\u001b[0m\n",
            "[\u001b[36m12-01 04:59:30\u001b[0m][\u001b[34mflashy.solver\u001b[0m][\u001b[32mINFO\u001b[0m] - Model hash: 63bba1c1921cf8dc2ddde6e99bc8b5bda8d33e62\u001b[0m\n",
            "[\u001b[36m12-01 04:59:30\u001b[0m][\u001b[34maudiocraft.utils.checkpoint\u001b[0m][\u001b[32mINFO\u001b[0m] - Checkpoint saved to /tmp/audiocraft_outputs/xps/4b7f280b/checkpoint.th\u001b[0m\n"
          ]
        },
        {
          "output_type": "error",
          "ename": "FileNotFoundError",
          "evalue": "Cannot find file: /tmp/audiocraft_colab_user/xps/81d59a67/checkpoint.th",
          "traceback": [
            "\u001b[0;31m---------------------------------------------------------------------------\u001b[0m",
            "\u001b[0;31mFileNotFoundError\u001b[0m                         Traceback (most recent call last)",
            "\u001b[0;32m<ipython-input-10-53bd54486a2a>\u001b[0m in \u001b[0;36m<cell line: 13>\u001b[0;34m()\u001b[0m\n\u001b[1;32m     11\u001b[0m \u001b[0;34m\u001b[0m\u001b[0m\n\u001b[1;32m     12\u001b[0m \u001b[0;31m# Download the checkpoint file to verify the output of training\u001b[0m\u001b[0;34m\u001b[0m\u001b[0;34m\u001b[0m\u001b[0m\n\u001b[0;32m---> 13\u001b[0;31m \u001b[0mfiles\u001b[0m\u001b[0;34m.\u001b[0m\u001b[0mdownload\u001b[0m\u001b[0;34m(\u001b[0m\u001b[0mcheckpoint_path\u001b[0m\u001b[0;34m)\u001b[0m\u001b[0;34m\u001b[0m\u001b[0;34m\u001b[0m\u001b[0m\n\u001b[0m",
            "\u001b[0;32m/usr/local/lib/python3.10/dist-packages/google/colab/files.py\u001b[0m in \u001b[0;36mdownload\u001b[0;34m(filename)\u001b[0m\n\u001b[1;32m    231\u001b[0m   \u001b[0;32mif\u001b[0m \u001b[0;32mnot\u001b[0m \u001b[0m_os\u001b[0m\u001b[0;34m.\u001b[0m\u001b[0mpath\u001b[0m\u001b[0;34m.\u001b[0m\u001b[0mexists\u001b[0m\u001b[0;34m(\u001b[0m\u001b[0mfilename\u001b[0m\u001b[0;34m)\u001b[0m\u001b[0;34m:\u001b[0m\u001b[0;34m\u001b[0m\u001b[0;34m\u001b[0m\u001b[0m\n\u001b[1;32m    232\u001b[0m     \u001b[0mmsg\u001b[0m \u001b[0;34m=\u001b[0m \u001b[0;34m'Cannot find file: {}'\u001b[0m\u001b[0;34m.\u001b[0m\u001b[0mformat\u001b[0m\u001b[0;34m(\u001b[0m\u001b[0mfilename\u001b[0m\u001b[0;34m)\u001b[0m\u001b[0;34m\u001b[0m\u001b[0;34m\u001b[0m\u001b[0m\n\u001b[0;32m--> 233\u001b[0;31m     \u001b[0;32mraise\u001b[0m \u001b[0mFileNotFoundError\u001b[0m\u001b[0;34m(\u001b[0m\u001b[0mmsg\u001b[0m\u001b[0;34m)\u001b[0m  \u001b[0;31m# pylint: disable=undefined-variable\u001b[0m\u001b[0;34m\u001b[0m\u001b[0;34m\u001b[0m\u001b[0m\n\u001b[0m\u001b[1;32m    234\u001b[0m \u001b[0;34m\u001b[0m\u001b[0m\n\u001b[1;32m    235\u001b[0m   \u001b[0mcomm_manager\u001b[0m \u001b[0;34m=\u001b[0m \u001b[0m_IPython\u001b[0m\u001b[0;34m.\u001b[0m\u001b[0mget_ipython\u001b[0m\u001b[0;34m(\u001b[0m\u001b[0;34m)\u001b[0m\u001b[0;34m.\u001b[0m\u001b[0mkernel\u001b[0m\u001b[0;34m.\u001b[0m\u001b[0mcomm_manager\u001b[0m\u001b[0;34m\u001b[0m\u001b[0;34m\u001b[0m\u001b[0m\n",
            "\u001b[0;31mFileNotFoundError\u001b[0m: Cannot find file: /tmp/audiocraft_colab_user/xps/81d59a67/checkpoint.th"
          ]
        }
      ]
    },
    {
      "cell_type": "markdown",
      "source": [
        "**⚠️ Note:** If you encounter errors or warnings during execution, it's likely due to Google Colab's resource limitations. This code is designed to run effectively on systems with higher computational resources. Please ignore runtime errors in Colab that stem from these limitations.\n"
      ],
      "metadata": {
        "id": "WECbIuob7WBb"
      }
    },
    {
      "cell_type": "markdown",
      "source": [
        "## Step 6: Download the Trained Checkpoint 📥\n",
        "\n",
        "Once the training is complete, the checkpoint will be available in the specified Dora directory. We can download it for further evaluation.\n"
      ],
      "metadata": {
        "id": "RmezpZ6p5Yab"
      }
    },
    {
      "cell_type": "code",
      "source": [
        "from google.colab import files\n",
        "\n",
        "# Replace the path with your checkpoint file path\n",
        "checkpoint_path = \"/tmp/audiocraft_colab_user/xps/81d59a67/checkpoint.th\"\n",
        "\n",
        "# Download the checkpoint file to verify the output of training\n",
        "files.download(checkpoint_path)"
      ],
      "metadata": {
        "id": "e7-lBcW4xVNi",
        "outputId": "9b8ea871-8d12-4b0a-92b0-1eb4616fe168",
        "colab": {
          "base_uri": "https://localhost:8080/",
          "height": 34
        }
      },
      "execution_count": 11,
      "outputs": [
        {
          "output_type": "display_data",
          "data": {
            "text/plain": [
              "<IPython.core.display.Javascript object>"
            ],
            "application/javascript": [
              "\n",
              "    async function download(id, filename, size) {\n",
              "      if (!google.colab.kernel.accessAllowed) {\n",
              "        return;\n",
              "      }\n",
              "      const div = document.createElement('div');\n",
              "      const label = document.createElement('label');\n",
              "      label.textContent = `Downloading \"${filename}\": `;\n",
              "      div.appendChild(label);\n",
              "      const progress = document.createElement('progress');\n",
              "      progress.max = size;\n",
              "      div.appendChild(progress);\n",
              "      document.body.appendChild(div);\n",
              "\n",
              "      const buffers = [];\n",
              "      let downloaded = 0;\n",
              "\n",
              "      const channel = await google.colab.kernel.comms.open(id);\n",
              "      // Send a message to notify the kernel that we're ready.\n",
              "      channel.send({})\n",
              "\n",
              "      for await (const message of channel.messages) {\n",
              "        // Send a message to notify the kernel that we're ready.\n",
              "        channel.send({})\n",
              "        if (message.buffers) {\n",
              "          for (const buffer of message.buffers) {\n",
              "            buffers.push(buffer);\n",
              "            downloaded += buffer.byteLength;\n",
              "            progress.value = downloaded;\n",
              "          }\n",
              "        }\n",
              "      }\n",
              "      const blob = new Blob(buffers, {type: 'application/binary'});\n",
              "      const a = document.createElement('a');\n",
              "      a.href = window.URL.createObjectURL(blob);\n",
              "      a.download = filename;\n",
              "      div.appendChild(a);\n",
              "      a.click();\n",
              "      div.remove();\n",
              "    }\n",
              "  "
            ]
          },
          "metadata": {}
        },
        {
          "output_type": "display_data",
          "data": {
            "text/plain": [
              "<IPython.core.display.Javascript object>"
            ],
            "application/javascript": [
              "download(\"download_8ec0d16a-67d3-4443-8f35-fa680cc681a8\", \"checkpoint.th\", 472809444)"
            ]
          },
          "metadata": {}
        }
      ]
    },
    {
      "cell_type": "markdown",
      "source": [
        "The `files.download` method is used to download the checkpoint file, which contains the trained model parameters."
      ],
      "metadata": {
        "id": "IuYs_bgD5mp3"
      }
    },
    {
      "cell_type": "markdown",
      "source": [
        "## Step 7: Evaluate the Trained Checkpoint 📊\n",
        "\n",
        "After training, it is crucial to evaluate the model to assess its performance under different conditions. We use Dora again for evaluation.\n"
      ],
      "metadata": {
        "id": "dum_Op3O5wCg"
      }
    },
    {
      "cell_type": "code",
      "source": [
        "# Evaluate the trained checkpoint to assess the model performance with different settings for nbits\n",
        "\n",
        "!AUDIOCRAFT_CONFIG=/content/my_config.yaml dora run solver=watermark/robustness execute_only=evaluate dset=audio/example continue_from=/tmp/audiocraft_outputs/xps/4b7f280b/checkpoint.th +dummy_watermarker.nbits=16"
      ],
      "metadata": {
        "colab": {
          "base_uri": "https://localhost:8080/"
        },
        "id": "SA9LBA-Sm_1t",
        "outputId": "00414add-dda1-4bdf-a4e6-077cd2640146"
      },
      "execution_count": null,
      "outputs": [
        {
          "output_type": "stream",
          "name": "stdout",
          "text": [
            "2024-12-01 05:15:26.056646: I tensorflow/core/util/port.cc:153] oneDNN custom operations are on. You may see slightly different numerical results due to floating-point round-off errors from different computation orders. To turn them off, set the environment variable `TF_ENABLE_ONEDNN_OPTS=0`.\n",
            "2024-12-01 05:15:26.074598: E external/local_xla/xla/stream_executor/cuda/cuda_fft.cc:485] Unable to register cuFFT factory: Attempting to register factory for plugin cuFFT when one has already been registered\n",
            "2024-12-01 05:15:26.096120: E external/local_xla/xla/stream_executor/cuda/cuda_dnn.cc:8454] Unable to register cuDNN factory: Attempting to register factory for plugin cuDNN when one has already been registered\n",
            "2024-12-01 05:15:26.102636: E external/local_xla/xla/stream_executor/cuda/cuda_blas.cc:1452] Unable to register cuBLAS factory: Attempting to register factory for plugin cuBLAS when one has already been registered\n",
            "2024-12-01 05:15:26.118243: I tensorflow/core/platform/cpu_feature_guard.cc:210] This TensorFlow binary is optimized to use available CPU instructions in performance-critical operations.\n",
            "To enable the following instructions: AVX2 AVX512F AVX512_VNNI FMA, in other operations, rebuild TensorFlow with the appropriate compiler flags.\n",
            "2024-12-01 05:15:27.240391: W tensorflow/compiler/tf2tensorrt/utils/py_utils.cc:38] TF-TRT Warning: Could not find TensorRT\n",
            "Dora directory: /tmp/audiocraft_outputs\n",
            "/usr/local/lib/python3.10/dist-packages/hydra/_internal/hydra.py:119: UserWarning: Future Hydra versions will no longer change working directory at job runtime by default.\n",
            "See https://hydra.cc/docs/1.2/upgrades/1.1_to_1.2/changes_to_job_working_dir/ for more information.\n",
            "  ret = run_job(\n",
            "[\u001b[36m12-01 05:15:34\u001b[0m][\u001b[34mdora.distrib\u001b[0m][\u001b[32mINFO\u001b[0m] - world_size is 1, skipping init.\u001b[0m\n",
            "[\u001b[36m12-01 05:15:34\u001b[0m][\u001b[34mflashy.solver\u001b[0m][\u001b[32mINFO\u001b[0m] - Instantiating solver WatermarkSolver for XP 117a6f05\u001b[0m\n",
            "[\u001b[36m12-01 05:15:34\u001b[0m][\u001b[34mflashy.solver\u001b[0m][\u001b[32mINFO\u001b[0m] - All XP logs are stored in /tmp/audiocraft_outputs/xps/117a6f05\u001b[0m\n",
            "[\u001b[36m12-01 05:15:34\u001b[0m][\u001b[34maudiocraft.solvers.builders\u001b[0m][\u001b[32mINFO\u001b[0m] - Loading audio data split evaluate: /content/audiocraft/egs/librispeech/evaluate.jsonl.gz\u001b[0m\n",
            "/usr/local/lib/python3.10/dist-packages/torch/nn/utils/weight_norm.py:30: UserWarning: torch.nn.utils.weight_norm is deprecated in favor of torch.nn.utils.parametrizations.weight_norm.\n",
            "  warnings.warn(\"torch.nn.utils.weight_norm is deprecated in favor of torch.nn.utils.parametrizations.weight_norm.\")\n",
            "[\u001b[36m12-01 05:15:34\u001b[0m][\u001b[34mflashy.solver\u001b[0m][\u001b[32mINFO\u001b[0m] - Model hash: 9c221b7379be63c3b8c52a99fe85d3b331f797d3\u001b[0m\n",
            "[\u001b[36m12-01 05:15:35\u001b[0m][\u001b[34mflashy.solver\u001b[0m][\u001b[32mINFO\u001b[0m] - Initializing EMA on the model with decay = 0.99 every 1 updates\u001b[0m\n",
            "[\u001b[36m12-01 05:15:35\u001b[0m][\u001b[34mflashy.solver\u001b[0m][\u001b[32mINFO\u001b[0m] - Model size: 23.33 M params\u001b[0m\n",
            "[\u001b[36m12-01 05:15:35\u001b[0m][\u001b[34mflashy.solver\u001b[0m][\u001b[32mINFO\u001b[0m] - Base memory usage, with model, grad and optim: 0.37 GB\u001b[0m\n",
            "/usr/local/lib/python3.10/dist-packages/torchaudio/functional/functional.py:584: UserWarning: At least one mel filterbank has all zero values. The value for `n_mels` (64) may be set too high. Or, the value for `n_freqs` (33) may be set too low.\n",
            "  warnings.warn(\n",
            "/usr/local/lib/python3.10/dist-packages/torchaudio/functional/functional.py:584: UserWarning: At least one mel filterbank has all zero values. The value for `n_mels` (64) may be set too high. Or, the value for `n_freqs` (65) may be set too low.\n",
            "  warnings.warn(\n",
            "/usr/local/lib/python3.10/dist-packages/torchaudio/functional/functional.py:584: UserWarning: At least one mel filterbank has all zero values. The value for `n_mels` (64) may be set too high. Or, the value for `n_freqs` (129) may be set too low.\n",
            "  warnings.warn(\n",
            "[\u001b[36m12-01 05:15:35\u001b[0m][\u001b[34mroot\u001b[0m][\u001b[32mINFO\u001b[0m] - Getting pretrained compression model from HF facebook/encodec_24khz\u001b[0m\n",
            "/usr/local/lib/python3.10/dist-packages/transformers/models/encodec/modeling_encodec.py:124: UserWarning: To copy construct from a tensor, it is recommended to use sourceTensor.clone().detach() or sourceTensor.clone().detach().requires_grad_(True), rather than torch.tensor(sourceTensor).\n",
            "  self.register_buffer(\"padding_total\", torch.tensor(kernel_size - stride, dtype=torch.int64), persistent=False)\n",
            "[\u001b[36m12-01 05:15:35\u001b[0m][\u001b[34mflashy.solver\u001b[0m][\u001b[32mINFO\u001b[0m] - Restoring weights and history.\u001b[0m\n",
            "[\u001b[36m12-01 05:15:35\u001b[0m][\u001b[34mflashy.solver\u001b[0m][\u001b[32mINFO\u001b[0m] - Continuing from provided checkpoint: /tmp/audiocraft_outputs/xps/4b7f280b/checkpoint.th\u001b[0m\n",
            "[\u001b[36m12-01 05:15:36\u001b[0m][\u001b[34maudiocraft.utils.checkpoint\u001b[0m][\u001b[32mINFO\u001b[0m] - Checkpoint loaded from /tmp/audiocraft_outputs/xps/4b7f280b/checkpoint.th\u001b[0m\n",
            "[\u001b[36m12-01 05:15:36\u001b[0m][\u001b[34mflashy.solver\u001b[0m][\u001b[32mINFO\u001b[0m] - Checkpoint source is not the current xp: Load state_dict from best state.\u001b[0m\n",
            "[\u001b[36m12-01 05:15:36\u001b[0m][\u001b[34mflashy.solver\u001b[0m][\u001b[32mINFO\u001b[0m] - Ignoring keys when loading best []\u001b[0m\n",
            "[\u001b[36m12-01 05:15:36\u001b[0m][\u001b[34mflashy.solver\u001b[0m][\u001b[32mINFO\u001b[0m] - Loading state_dict from best state.\u001b[0m\n",
            "[\u001b[36m12-01 05:15:36\u001b[0m][\u001b[34mflashy.solver\u001b[0m][\u001b[32mINFO\u001b[0m] - Re-initializing EMA from best state\u001b[0m\n",
            "[\u001b[36m12-01 05:15:36\u001b[0m][\u001b[34mflashy.solver\u001b[0m][\u001b[32mINFO\u001b[0m] - Initializing EMA on the model with decay = 0.99 every 1 updates\u001b[0m\n",
            "[\u001b[36m12-01 05:15:36\u001b[0m][\u001b[34mflashy.solver\u001b[0m][\u001b[32mINFO\u001b[0m] - Model hash: c1b704c336d2cd47ce8f51348e74e027759995fe\u001b[0m\n",
            "2024-12-01 05:15:39.793106: E external/local_xla/xla/stream_executor/cuda/cuda_fft.cc:485] Unable to register cuFFT factory: Attempting to register factory for plugin cuFFT when one has already been registered\n",
            "2024-12-01 05:15:39.813625: E external/local_xla/xla/stream_executor/cuda/cuda_dnn.cc:8454] Unable to register cuDNN factory: Attempting to register factory for plugin cuDNN when one has already been registered\n",
            "2024-12-01 05:15:39.819874: E external/local_xla/xla/stream_executor/cuda/cuda_blas.cc:1452] Unable to register cuBLAS factory: Attempting to register factory for plugin cuBLAS when one has already been registered\n",
            "2024-12-01 05:15:40.931027: W tensorflow/compiler/tf2tensorrt/utils/py_utils.cc:38] TF-TRT Warning: Could not find TensorRT\n",
            "2024-12-01 05:15:48.691118: E external/local_xla/xla/stream_executor/cuda/cuda_fft.cc:485] Unable to register cuFFT factory: Attempting to register factory for plugin cuFFT when one has already been registered\n",
            "2024-12-01 05:15:48.711624: E external/local_xla/xla/stream_executor/cuda/cuda_dnn.cc:8454] Unable to register cuDNN factory: Attempting to register factory for plugin cuDNN when one has already been registered\n",
            "2024-12-01 05:15:48.718065: E external/local_xla/xla/stream_executor/cuda/cuda_blas.cc:1452] Unable to register cuBLAS factory: Attempting to register factory for plugin cuBLAS when one has already been registered\n",
            "2024-12-01 05:15:49.838873: W tensorflow/compiler/tf2tensorrt/utils/py_utils.cc:38] TF-TRT Warning: Could not find TensorRT\n",
            "2024-12-01 05:15:57.562828: E external/local_xla/xla/stream_executor/cuda/cuda_fft.cc:485] Unable to register cuFFT factory: Attempting to register factory for plugin cuFFT when one has already been registered\n",
            "2024-12-01 05:15:57.583298: E external/local_xla/xla/stream_executor/cuda/cuda_dnn.cc:8454] Unable to register cuDNN factory: Attempting to register factory for plugin cuDNN when one has already been registered\n",
            "2024-12-01 05:15:57.589535: E external/local_xla/xla/stream_executor/cuda/cuda_blas.cc:1452] Unable to register cuBLAS factory: Attempting to register factory for plugin cuBLAS when one has already been registered\n",
            "2024-12-01 05:15:58.688110: W tensorflow/compiler/tf2tensorrt/utils/py_utils.cc:38] TF-TRT Warning: Could not find TensorRT\n",
            "2024-12-01 05:16:06.377761: E external/local_xla/xla/stream_executor/cuda/cuda_fft.cc:485] Unable to register cuFFT factory: Attempting to register factory for plugin cuFFT when one has already been registered\n",
            "2024-12-01 05:16:06.398209: E external/local_xla/xla/stream_executor/cuda/cuda_dnn.cc:8454] Unable to register cuDNN factory: Attempting to register factory for plugin cuDNN when one has already been registered\n",
            "2024-12-01 05:16:06.404453: E external/local_xla/xla/stream_executor/cuda/cuda_blas.cc:1452] Unable to register cuBLAS factory: Attempting to register factory for plugin cuBLAS when one has already been registered\n",
            "2024-12-01 05:16:07.499646: W tensorflow/compiler/tf2tensorrt/utils/py_utils.cc:38] TF-TRT Warning: Could not find TensorRT\n",
            "2024-12-01 05:16:15.430035: E external/local_xla/xla/stream_executor/cuda/cuda_fft.cc:485] Unable to register cuFFT factory: Attempting to register factory for plugin cuFFT when one has already been registered\n",
            "2024-12-01 05:16:15.451010: E external/local_xla/xla/stream_executor/cuda/cuda_dnn.cc:8454] Unable to register cuDNN factory: Attempting to register factory for plugin cuDNN when one has already been registered\n",
            "2024-12-01 05:16:15.457309: E external/local_xla/xla/stream_executor/cuda/cuda_blas.cc:1452] Unable to register cuBLAS factory: Attempting to register factory for plugin cuBLAS when one has already been registered\n",
            "2024-12-01 05:16:16.565225: W tensorflow/compiler/tf2tensorrt/utils/py_utils.cc:38] TF-TRT Warning: Could not find TensorRT\n",
            "2024-12-01 05:16:24.295416: E external/local_xla/xla/stream_executor/cuda/cuda_fft.cc:485] Unable to register cuFFT factory: Attempting to register factory for plugin cuFFT when one has already been registered\n",
            "2024-12-01 05:16:24.315657: E external/local_xla/xla/stream_executor/cuda/cuda_dnn.cc:8454] Unable to register cuDNN factory: Attempting to register factory for plugin cuDNN when one has already been registered\n",
            "2024-12-01 05:16:24.321891: E external/local_xla/xla/stream_executor/cuda/cuda_blas.cc:1452] Unable to register cuBLAS factory: Attempting to register factory for plugin cuBLAS when one has already been registered\n",
            "2024-12-01 05:16:25.427559: W tensorflow/compiler/tf2tensorrt/utils/py_utils.cc:38] TF-TRT Warning: Could not find TensorRT\n",
            "2024-12-01 05:16:33.083347: E external/local_xla/xla/stream_executor/cuda/cuda_fft.cc:485] Unable to register cuFFT factory: Attempting to register factory for plugin cuFFT when one has already been registered\n",
            "2024-12-01 05:16:33.103712: E external/local_xla/xla/stream_executor/cuda/cuda_dnn.cc:8454] Unable to register cuDNN factory: Attempting to register factory for plugin cuDNN when one has already been registered\n",
            "2024-12-01 05:16:33.109901: E external/local_xla/xla/stream_executor/cuda/cuda_blas.cc:1452] Unable to register cuBLAS factory: Attempting to register factory for plugin cuBLAS when one has already been registered\n",
            "2024-12-01 05:16:34.202542: W tensorflow/compiler/tf2tensorrt/utils/py_utils.cc:38] TF-TRT Warning: Could not find TensorRT\n",
            "2024-12-01 05:16:41.910612: E external/local_xla/xla/stream_executor/cuda/cuda_fft.cc:485] Unable to register cuFFT factory: Attempting to register factory for plugin cuFFT when one has already been registered\n",
            "2024-12-01 05:16:41.931103: E external/local_xla/xla/stream_executor/cuda/cuda_dnn.cc:8454] Unable to register cuDNN factory: Attempting to register factory for plugin cuDNN when one has already been registered\n",
            "2024-12-01 05:16:41.937328: E external/local_xla/xla/stream_executor/cuda/cuda_blas.cc:1452] Unable to register cuBLAS factory: Attempting to register factory for plugin cuBLAS when one has already been registered\n",
            "2024-12-01 05:16:43.033825: W tensorflow/compiler/tf2tensorrt/utils/py_utils.cc:38] TF-TRT Warning: Could not find TensorRT\n",
            "2024-12-01 05:16:50.704894: E external/local_xla/xla/stream_executor/cuda/cuda_fft.cc:485] Unable to register cuFFT factory: Attempting to register factory for plugin cuFFT when one has already been registered\n",
            "2024-12-01 05:16:50.725302: E external/local_xla/xla/stream_executor/cuda/cuda_dnn.cc:8454] Unable to register cuDNN factory: Attempting to register factory for plugin cuDNN when one has already been registered\n",
            "2024-12-01 05:16:50.731516: E external/local_xla/xla/stream_executor/cuda/cuda_blas.cc:1452] Unable to register cuBLAS factory: Attempting to register factory for plugin cuBLAS when one has already been registered\n",
            "2024-12-01 05:16:51.849692: W tensorflow/compiler/tf2tensorrt/utils/py_utils.cc:38] TF-TRT Warning: Could not find TensorRT\n",
            "2024-12-01 05:16:59.541823: E external/local_xla/xla/stream_executor/cuda/cuda_fft.cc:485] Unable to register cuFFT factory: Attempting to register factory for plugin cuFFT when one has already been registered\n",
            "2024-12-01 05:16:59.562251: E external/local_xla/xla/stream_executor/cuda/cuda_dnn.cc:8454] Unable to register cuDNN factory: Attempting to register factory for plugin cuDNN when one has already been registered\n",
            "2024-12-01 05:16:59.568431: E external/local_xla/xla/stream_executor/cuda/cuda_blas.cc:1452] Unable to register cuBLAS factory: Attempting to register factory for plugin cuBLAS when one has already been registered\n",
            "2024-12-01 05:17:00.666423: W tensorflow/compiler/tf2tensorrt/utils/py_utils.cc:38] TF-TRT Warning: Could not find TensorRT\n",
            "2024-12-01 05:17:09.788066: E external/local_xla/xla/stream_executor/cuda/cuda_fft.cc:485] Unable to register cuFFT factory: Attempting to register factory for plugin cuFFT when one has already been registered\n",
            "2024-12-01 05:17:09.823043: E external/local_xla/xla/stream_executor/cuda/cuda_dnn.cc:8454] Unable to register cuDNN factory: Attempting to register factory for plugin cuDNN when one has already been registered\n",
            "2024-12-01 05:17:09.833472: E external/local_xla/xla/stream_executor/cuda/cuda_blas.cc:1452] Unable to register cuBLAS factory: Attempting to register factory for plugin cuBLAS when one has already been registered\n",
            "2024-12-01 05:17:10.993767: W tensorflow/compiler/tf2tensorrt/utils/py_utils.cc:38] TF-TRT Warning: Could not find TensorRT\n",
            "2024-12-01 05:17:11.364644: E external/local_xla/xla/stream_executor/cuda/cuda_fft.cc:485] Unable to register cuFFT factory: Attempting to register factory for plugin cuFFT when one has already been registered\n",
            "2024-12-01 05:17:11.385945: E external/local_xla/xla/stream_executor/cuda/cuda_dnn.cc:8454] Unable to register cuDNN factory: Attempting to register factory for plugin cuDNN when one has already been registered\n",
            "2024-12-01 05:17:11.392616: E external/local_xla/xla/stream_executor/cuda/cuda_blas.cc:1452] Unable to register cuBLAS factory: Attempting to register factory for plugin cuBLAS when one has already been registered\n",
            "2024-12-01 05:17:12.528817: W tensorflow/compiler/tf2tensorrt/utils/py_utils.cc:38] TF-TRT Warning: Could not find TensorRT\n",
            "2024-12-01 05:17:12.900951: E external/local_xla/xla/stream_executor/cuda/cuda_fft.cc:485] Unable to register cuFFT factory: Attempting to register factory for plugin cuFFT when one has already been registered\n",
            "2024-12-01 05:17:12.921909: E external/local_xla/xla/stream_executor/cuda/cuda_dnn.cc:8454] Unable to register cuDNN factory: Attempting to register factory for plugin cuDNN when one has already been registered\n",
            "2024-12-01 05:17:12.928173: E external/local_xla/xla/stream_executor/cuda/cuda_blas.cc:1452] Unable to register cuBLAS factory: Attempting to register factory for plugin cuBLAS when one has already been registered\n",
            "2024-12-01 05:17:14.090554: W tensorflow/compiler/tf2tensorrt/utils/py_utils.cc:38] TF-TRT Warning: Could not find TensorRT\n",
            "2024-12-01 05:17:14.282956: E external/local_xla/xla/stream_executor/cuda/cuda_fft.cc:485] Unable to register cuFFT factory: Attempting to register factory for plugin cuFFT when one has already been registered\n",
            "2024-12-01 05:17:14.303847: E external/local_xla/xla/stream_executor/cuda/cuda_dnn.cc:8454] Unable to register cuDNN factory: Attempting to register factory for plugin cuDNN when one has already been registered\n",
            "2024-12-01 05:17:14.310144: E external/local_xla/xla/stream_executor/cuda/cuda_blas.cc:1452] Unable to register cuBLAS factory: Attempting to register factory for plugin cuBLAS when one has already been registered\n",
            "2024-12-01 05:17:15.475662: W tensorflow/compiler/tf2tensorrt/utils/py_utils.cc:38] TF-TRT Warning: Could not find TensorRT\n",
            "2024-12-01 05:17:18.511672: E external/local_xla/xla/stream_executor/cuda/cuda_fft.cc:485] Unable to register cuFFT factory: Attempting to register factory for plugin cuFFT when one has already been registered\n",
            "2024-12-01 05:17:18.533758: E external/local_xla/xla/stream_executor/cuda/cuda_dnn.cc:8454] Unable to register cuDNN factory: Attempting to register factory for plugin cuDNN when one has already been registered\n",
            "2024-12-01 05:17:18.540220: E external/local_xla/xla/stream_executor/cuda/cuda_blas.cc:1452] Unable to register cuBLAS factory: Attempting to register factory for plugin cuBLAS when one has already been registered\n",
            "2024-12-01 05:17:19.720479: W tensorflow/compiler/tf2tensorrt/utils/py_utils.cc:38] TF-TRT Warning: Could not find TensorRT\n",
            "[\u001b[36m12-01 05:44:39\u001b[0m][\u001b[34mflashy.solver\u001b[0m][\u001b[32mINFO\u001b[0m] - Evaluate inference | Epoch 1 | 62/625 | 26.3 sec/it\u001b[0m\n",
            "[\u001b[36m12-01 06:12:27\u001b[0m][\u001b[34mflashy.solver\u001b[0m][\u001b[32mINFO\u001b[0m] - Evaluate inference | Epoch 1 | 124/625 | 26.6 sec/it\u001b[0m\n",
            "[\u001b[36m12-01 06:40:01\u001b[0m][\u001b[34mflashy.solver\u001b[0m][\u001b[32mINFO\u001b[0m] - Evaluate inference | Epoch 1 | 186/625 | 26.6 sec/it\u001b[0m\n"
          ]
        }
      ]
    },
    {
      "cell_type": "markdown",
      "source": [
        "The evaluation script loads the trained model from the checkpoint and assesses its robustness, specifically testing different settings for `nbits` which affects the watermarking strength.\n"
      ],
      "metadata": {
        "id": "UjYz1HK456mH"
      }
    },
    {
      "cell_type": "markdown",
      "source": [
        "This notebook provides a detailed, step-by-step walkthrough of the entire process of training a new watermarking model using AudioCraft and Dora, including dataset preparation, configuration setup, training, and evaluation. By following these steps, you can quickly set up the environment, train models, and evaluate their performance. 🌟\n"
      ],
      "metadata": {
        "id": "pjEdEKi-6CcA"
      }
    }
  ]
}